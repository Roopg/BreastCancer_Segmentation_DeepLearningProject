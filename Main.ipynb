{
  "nbformat": 4,
  "nbformat_minor": 0,
  "metadata": {
    "accelerator": "TPU",
    "colab": {
      "name": "Main.ipynb",
      "provenance": [],
      "collapsed_sections": [],
      "machine_shape": "hm",
      "mount_file_id": "19pu3cEwl0gsI0lsQB4Thya4t10Qrzrxt",
      "authorship_tag": "ABX9TyM8EfBR8KF7GZcKH11q4g/G",
      "include_colab_link": true
    },
    "kernelspec": {
      "display_name": "Python 3",
      "name": "python3"
    },
    "language_info": {
      "name": "python"
    }
  },
  "cells": [
    {
      "cell_type": "markdown",
      "metadata": {
        "id": "view-in-github",
        "colab_type": "text"
      },
      "source": [
        "<a href=\"https://colab.research.google.com/github/Roopg/BreastCancer_Segmentation_DeepLearningProject/blob/main/Main.ipynb\" target=\"_parent\"><img src=\"https://colab.research.google.com/assets/colab-badge.svg\" alt=\"Open In Colab\"/></a>"
      ]
    },
    {
      "cell_type": "markdown",
      "metadata": {
        "id": "7vqweThrdlA5"
      },
      "source": [
        "## **Breast Lesion Segmentation and Classification Model**\n",
        "\n",
        "Based on U-Net Architecture\n",
        "Built in Python and trained in Google Colab\n",
        "\n",
        "\n"
      ]
    },
    {
      "cell_type": "markdown",
      "metadata": {
        "id": "aGVzazp3fpCf"
      },
      "source": [
        "**Installing Packages**"
      ]
    },
    {
      "cell_type": "code",
      "metadata": {
        "id": "SqMg0su51cTp"
      },
      "source": [
        "!pip install tensorflow==2.4.0\n",
        "!pip install keras==2.4.3\n",
        "!pip install pydicom\n",
        "!pip install scikit-learn\n",
        "!pip install segmentation-models\n",
        "!pip install import-ipynb\n",
        "!pip install opencv-python\n",
        "!pip install h5py==2.10.0\n"
      ],
      "execution_count": null,
      "outputs": []
    },
    {
      "cell_type": "markdown",
      "metadata": {
        "id": "d-foqXB2fOXm"
      },
      "source": [
        "**Importing Required Libraries and Modules**"
      ]
    },
    {
      "cell_type": "code",
      "metadata": {
        "id": "x8yKNLD21gTK"
      },
      "source": [
        "import tensorflow as tf\n",
        "from tensorflow import keras\n",
        "from tensorflow.keras import layers\n",
        "from tensorflow.keras.models import Sequential, Model, load_model\n",
        "from tensorflow.keras.layers import (Dense, Dropout, Activation, Flatten, Reshape, Layer,\n",
        "                          BatchNormalization, LocallyConnected2D,\n",
        "                          ZeroPadding2D, Conv2D, MaxPooling2D, Conv2DTranspose,\n",
        "                          GaussianNoise, UpSampling2D, Input)\n",
        "from tensorflow.keras.callbacks import EarlyStopping, ModelCheckpoint\n",
        "from tensorflow.keras.optimizers import Adam\n",
        "from tensorflow.keras.preprocessing.image import ImageDataGenerator\n",
        "from tensorflow.keras.initializers import RandomNormal\n",
        "\n",
        "import glob\n",
        "import cv2  #to open images\n",
        "import os # to navigate through folders and directories\n",
        "import os.path\n",
        "import numpy as np\n",
        "import matplotlib.pyplot as plt\n",
        "import pandas as pd\n",
        "import sys\n",
        "import random\n",
        "from scipy.ndimage import rotate\n",
        "import albumentations as A  \n",
        "from tqdm import tqdm  # shows the progress bar\n",
        "from skimage.io import imread,imshow\n",
        "from skimage.transform import resize, rescale\n",
        "from sklearn.preprocessing import normalize\n",
        "from PIL import Image # for resizing the images\n",
        "import shutil #The shutil module offers a number of high-level operations on files and collections of files such as file copying and removal. \n",
        "from pathlib import Path\n",
        "import pydicom as pydicom\n",
        "from skimage import io"
      ],
      "execution_count": null,
      "outputs": []
    },
    {
      "cell_type": "markdown",
      "metadata": {
        "id": "i615pLnbgrBA"
      },
      "source": [
        "**Data Analysis using the CSV files in the CBIS-DDSM Dataset.**\n",
        "Dataset: \n",
        "CBIS-DDSM :https://www.kaggle.com/awsaf49/cbis-ddsm-breast-cancer-image-dataset?select=jpeg \n",
        "or https://wiki.cancerimagingarchive.net/display/Public/CBIS-DDSM (DICOM-format)\n",
        "\n",
        "The dataset comes with 4 csv files- mass_train, mass_test, calcification_train, cacification_test. These csv files contain all the details about type of-\n",
        "\n",
        "Abnormality in the breast- such as Calcification or Mass,  \n",
        "Pathology(benigh, malignant),  \n",
        "Image and mask file paths, \n",
        "View of the mammogram- MLO or CC, \n",
        "Side of the breast- Right or Left \n",
        "\n",
        "Each mammogram image has a corresponding ground truth mask and identified by a unique patient id. Each patient mammogram record has 4 typically 4 image files along with the ground truth mask image.\n",
        "\n",
        "P_0001_LEFT_CC, \n",
        "P_0001_RIGHT_CC, \n",
        "P_0001_LEFT_MLO, \n",
        "P_0001_RIGHT_MLO\n"
      ]
    },
    {
      "cell_type": "code",
      "metadata": {
        "id": "mDccIfz4eN9f"
      },
      "source": [
        "#Analyze the dataset and Combine all 4 CSV files into single file #\n",
        "\n",
        "DATA_PATH  = Path(\"/content/drive/MyDrive/Colab Notebooks/BC_Tumor_Segmentation_data/cbis_ddsm_data\")\n",
        "MASS_TRAIN = \"/content/drive/MyDrive/Colab Notebooks/BC_Tumor_Segmentation_data/cbis_ddsm_data/mass_case_description_train_set.csv\"\n",
        "MASS_TEST  = \"/content/drive/MyDrive/Colab Notebooks/BC_Tumor_Segmentation_data/cbis_ddsm_data/mass_case_description_test_set.csv\"\n",
        "CALC_TRAIN = \"/content/drive/MyDrive/Colab Notebooks/BC_Tumor_Segmentation_data/cbis_ddsm_data/calc_case_description_train_set.csv\"\n",
        "CALC_TEST  = \"/content/drive/MyDrive/Colab Notebooks/BC_Tumor_Segmentation_data/cbis_ddsm_data/calc_case_description_test_set.csv\"\n",
        "\n",
        "\n",
        "#Add a subset column to remember the original split\n",
        "\n",
        "mass_train_df = pd.read_csv(DATA_PATH/MASS_TRAIN)\n",
        "mass_train_df['subset'] = 'train'\n",
        "\n",
        "mass_test_df = pd.read_csv(DATA_PATH/MASS_TEST)\n",
        "mass_test_df['subset'] = 'test'\n",
        "\n",
        "calc_train_df = pd.read_csv(DATA_PATH/CALC_TRAIN)\n",
        "calc_train_df['subset'] = 'train'\n",
        "\n",
        "calc_test_df = pd.read_csv(DATA_PATH/CALC_TEST)\n",
        "calc_test_df['subset'] = 'test'\n",
        "\n",
        "#COMBINED ALL 4 CSV FILES INTO A PANDAFRAME\n",
        "\n",
        "data_df = pd.concat([mass_train_df, calc_train_df, mass_test_df, calc_test_df], sort=False).reset_index()\n",
        "data_df.info()\n",
        "\n",
        "COLS = [\"patient_id\", \"left or right breast\", \"image view\", \"abnormality id\", \"abnormality type\", \"pathology\", \"image file path\", \"ROI mask file path\", \"cropped image file path\", \"subset\"]\n",
        "data_df = data_df[COLS]\n",
        "data_df.head()\n",
        "data_df.to_csv(DATA_PATH/\"all_data.csv\", index=False)\n",
        "#data_df.to_csv(\"/content/drive/MyDrive/BC_Tumor_Segmentation_data/all_data.csv\", index=True)\n",
        "data_df.head()\n",
        "\n",
        "\n",
        "print(\"# unique patients\", len(data_df['patient_id'].unique()))\n",
        "print(\"# abnormality type\", len(data_df['abnormality type'].unique()), data_df['abnormality type'].unique())\n",
        "print(\"# image view\", len(data_df['image view'].unique()), data_df['image view'].unique())\n",
        "print(\"# pathologies\", len(data_df['pathology'].unique()), data_df['pathology'].unique())\n",
        "\n",
        "\n",
        "_df = data_df[['patient_id', 'abnormality type']].drop_duplicates().groupby('abnormality type').count()\n",
        "ax = _df.unstack('abnormality type').plot(kind='bar', figsize=(7, 5))\n",
        "ax.set_title(\"Nr of patients for each abnormality type\", fontsize=14)\n",
        "ax.set_xlabel(\"Abnormality type\", fontsize=14)\n",
        "ax.set_xticklabels(_df.index)\n",
        "ax.set_ylabel(\"Nr of patients\", fontsize=14)\n",
        "\n",
        "\n",
        "_df = data_df[['patient_id', 'subset']].drop_duplicates().groupby('subset').count()\n",
        "ax = _df.unstack('subset').plot(kind='bar', figsize=(7, 5))\n",
        "ax.set_title(\"Nr of patients in each subset\", fontsize=14)\n",
        "ax.set_xlabel(\"Subset\", fontsize=14)\n",
        "ax.set_xticklabels(_df.index)\n",
        "ax.set_ylabel(\"Nr of patients\", fontsize=14)\n",
        "\n",
        "\n",
        "COLS = [\"patient_id\", \"left or right breast\", \"image view\", \"abnormality id\", \"abnormality type\", \"pathology\", \"image file path\", \"ROI mask file path\", \"cropped image file path\", \"subset\"]\n",
        "data_df = data_df[COLS]\n",
        "data_df.head()\n",
        "data_df.to_csv(DATA_PATH/\"all_data.csv\", index=False)\n",
        "\n",
        "\n",
        "\n"
      ],
      "execution_count": null,
      "outputs": []
    },
    {
      "cell_type": "code",
      "metadata": {
        "id": "p5bF-AEVTEyh"
      },
      "source": [
        "####MASS#####\n",
        "\n",
        "import pandas as pd\n",
        "MASS_TRAIN = \"/content/drive/MyDrive/Colab Notebooks/BC_Tumor_Segmentation_data/cbis_ddsm_data/mass_case_description_train_set.csv\"\n",
        "MASS_TEST  = \"/content/drive/MyDrive/Colab Notebooks/BC_Tumor_Segmentation_data/cbis_ddsm_data/mass_case_description_test_set.csv\"\n",
        "\n",
        "# df = pd.read_csv(MASS_TRAIN)\n",
        "# # Rename columns\n",
        "# new_cols = [col.replace(\" \", \"_\") for col in df.columns]\n",
        "# df.columns = new_cols\n",
        "# #df = df.loc[df[\"patient_id\"].isin([\"P_01039\"])]\n",
        "# df = df.loc[df[\"abnormality_id\"] > 1]\n",
        "# df\n",
        "\n",
        "df = pd.read_csv(MASS_TEST)\n",
        "# Rename columns\n",
        "new_cols = [col.replace(\" \", \"_\") for col in df.columns]\n",
        "df.columns = new_cols\n",
        "#df = df.loc[df[\"patient_id\"].isin([\"P_01039\"])]\n",
        "df = df.loc[df[\"abnormality_id\"] > 1]\n",
        "df"
      ],
      "execution_count": null,
      "outputs": []
    },
    {
      "cell_type": "markdown",
      "metadata": {
        "id": "1u7sdinSuzaO"
      },
      "source": [
        "### **Creating a combined \"all.csv\" file and formatting the column names etc.**"
      ]
    },
    {
      "cell_type": "code",
      "metadata": {
        "id": "ZAGWOsTFRclI"
      },
      "source": [
        "# Combining and creating a csv for complete Calc_Test and Train#\n",
        "import numpy as np\n",
        "\n",
        "MASS_TRAIN = \"/content/drive/MyDrive/Colab Notebooks/BC_Tumor_Segmentation_data/cbis_ddsm_data/mass_case_description_train_set.csv\"\n",
        "MASS_TEST  = \"/content/drive/MyDrive/Colab Notebooks/BC_Tumor_Segmentation_data/cbis_ddsm_data/mass_case_description_test_set.csv\"\n",
        "\n",
        "CALC_TRAIN = \"/content/drive/MyDrive/Colab Notebooks/BC_Tumor_Segmentation_data/cbis_ddsm_data/calc_case_description_train_set.csv\"\n",
        "CALC_TEST  = \"/content/drive/MyDrive/Colab Notebooks/BC_Tumor_Segmentation_data/cbis_ddsm_data/calc_case_description_test_set.csv\"\n",
        "\n",
        "mass_train_df = pd.read_csv(MASS_TRAIN)\n",
        "mass_test_df = pd.read_csv(MASS_TEST)\n",
        "\n",
        "mass_all_df = pd.concat(objs=[mass_train_df, mass_test_df])\n",
        "mass_all_df.head()\n",
        "\n",
        "#Remove spaces in columns name\n",
        "mass_all_df.columns = mass_all_df.columns.str.replace(' ','_')\n",
        "mass_all_df.head()\n",
        "\n",
        "mass_all_df['pathology'] =mass_all_df['pathology'].replace({'BENIGN_WITHOUT_CALLBACK':'BENIGN'})\n",
        "\n",
        "# Drop path columns\n",
        "mass_all_df.drop(columns=[\"image_file_path\", \"cropped_image_file_path\", \"ROI_mask_file_path\"], inplace=True)\n",
        "\n",
        "# Create identifier column for calc\n",
        "mass_all_df.insert(loc=0, column=\"identifier\", value=np.nan)\n",
        "mass_all_df[\"identifier\"] = mass_all_df.apply(lambda x: \"_\".join([x[\"patient_id\"], x[\"left_or_right_breast\"], x[\"image_view\"]]), axis=1) #creating a unique identifier for the file names\n",
        "\n",
        "#####calc#####\n",
        "\n",
        "calc_train_df = pd.read_csv(CALC_TRAIN)\n",
        "calc_test_df = pd.read_csv(CALC_TEST)\n",
        "\n",
        "calc_all_df = pd.concat(objs=[calc_train_df, calc_test_df])\n",
        "\n",
        "# Remove spaces in columns name\n",
        "calc_all_df.columns = calc_all_df.columns.str.replace(' ','_')\n",
        "\n",
        "calc_all_df['pathology'] =calc_all_df['pathology'].replace({'BENIGN_WITHOUT_CALLBACK':'BENIGN'})\n",
        "# Drop path columns\n",
        "calc_all_df.drop(columns=[\"image_file_path\", \"cropped_image_file_path\", \"ROI_mask_file_path\"], inplace=True)\n",
        "\n",
        "# Create identifier column for calc\n",
        "calc_all_df.insert(loc=0, column=\"identifier\", value=np.nan)\n",
        "calc_all_df[\"identifier\"] = calc_all_df.apply(lambda x: \"_\".join([x[\"patient_id\"], x[\"left_or_right_breast\"], x[\"image_view\"]]), axis=1)\n",
        "\n",
        "\n",
        "print(mass_all_df.shape)\n",
        "print(calc_all_df.shape)\n",
        "print(len(mass_all_df[\"identifier\"].unique()))\n",
        "print(len(calc_all_df[\"identifier\"].unique()))\n",
        "calc_all_df.head()\n",
        "mass_all_df.head(50)"
      ],
      "execution_count": null,
      "outputs": []
    },
    {
      "cell_type": "markdown",
      "metadata": {
        "id": "o9bWx16RupBR"
      },
      "source": [
        "## **Removal of cases with both mass and calficiation abnormalities**"
      ]
    },
    {
      "cell_type": "code",
      "metadata": {
        "colab": {
          "base_uri": "https://localhost:8080/"
        },
        "id": "aFfEZ7LlfibG",
        "outputId": "d66c0a16-d307-4c63-d603-1d8341ee1757"
      },
      "source": [
        "\n",
        "#There are 71 Patient IDs with both mass and calc abnormalities, so we can remove them \n",
        "\n",
        "calc_set = set(calc_all_df[\"identifier\"].unique())\n",
        "mass_set = set(mass_all_df[\"identifier\"].unique())\n",
        "\n",
        "both_set = calc_set.intersection(mass_set)\n",
        "len(both_set)"
      ],
      "execution_count": null,
      "outputs": [
        {
          "output_type": "execute_result",
          "data": {
            "text/plain": [
              "71"
            ]
          },
          "metadata": {
            "tags": []
          },
          "execution_count": 57
        }
      ]
    },
    {
      "cell_type": "code",
      "metadata": {
        "colab": {
          "base_uri": "https://localhost:8080/"
        },
        "id": "VpdL6pMHy-ZN",
        "outputId": "72624ea1-a266-4f65-bfad-acc2969c728d"
      },
      "source": [
        "all_df=pd.concat([mass_all_df,calc_all_df], sort=False).reset_index()\n",
        "all_df.info()"
      ],
      "execution_count": null,
      "outputs": [
        {
          "output_type": "stream",
          "text": [
            "<class 'pandas.core.frame.DataFrame'>\n",
            "RangeIndex: 3568 entries, 0 to 3567\n",
            "Data columns (total 15 columns):\n",
            " #   Column                Non-Null Count  Dtype \n",
            "---  ------                --------------  ----- \n",
            " 0   index                 3568 non-null   int64 \n",
            " 1   identifier            3568 non-null   object\n",
            " 2   patient_id            3568 non-null   object\n",
            " 3   breast_density        3568 non-null   int64 \n",
            " 4   left_or_right_breast  3568 non-null   object\n",
            " 5   image_view            3568 non-null   object\n",
            " 6   abnormality_id        3568 non-null   int64 \n",
            " 7   abnormality_type      3568 non-null   object\n",
            " 8   mass_shape            1692 non-null   object\n",
            " 9   mass_margins          1636 non-null   object\n",
            " 10  assessment            3568 non-null   int64 \n",
            " 11  pathology             3568 non-null   object\n",
            " 12  subtlety              3568 non-null   int64 \n",
            " 13  calc_type             1848 non-null   object\n",
            " 14  calc_distribution     1433 non-null   object\n",
            "dtypes: int64(5), object(10)\n",
            "memory usage: 418.2+ KB\n"
          ],
          "name": "stdout"
        }
      ]
    },
    {
      "cell_type": "markdown",
      "metadata": {
        "id": "67f9I7R0l20v"
      },
      "source": [
        "**Visualize the Pathology distribution in the dataset**"
      ]
    },
    {
      "cell_type": "code",
      "metadata": {
        "colab": {
          "base_uri": "https://localhost:8080/",
          "height": 404
        },
        "id": "FCDw58U0gDND",
        "outputId": "34a1ed11-7947-4fd7-882d-12b1186781f3"
      },
      "source": [
        "#Pathology- Benign and Malignant#\n",
        "\n",
        "import matplotlib.pyplot as plt\n",
        "plot_df = all_df.groupby([\"abnormality_type\"])[\"pathology\"].value_counts().unstack()\n",
        "new_row = plot_df.loc[\"calcification\"] + plot_df.loc[\"mass\"]\n",
        "new_row.name = \"Calc + Mass\"\n",
        "plot_df = plot_df.append(new_row, ignore_index=False)\n",
        "\n",
        "fig, ax = plt.subplots(nrows=1, ncols=1, figsize=(7, 5))\n",
        "plot_df.plot.bar(ax=ax)"
      ],
      "execution_count": null,
      "outputs": [
        {
          "output_type": "execute_result",
          "data": {
            "text/plain": [
              "<matplotlib.axes._subplots.AxesSubplot at 0x7f257d342d90>"
            ]
          },
          "metadata": {
            "tags": []
          },
          "execution_count": 59
        },
        {
          "output_type": "display_data",
          "data": {
            "image/png": "[encoded data removed]",
            "text/plain": [
              "<Figure size 504x360 with 1 Axes>"
            ]
          },
          "metadata": {
            "tags": []
          }
        }
      ]
    },
    {
      "cell_type": "code",
      "metadata": {
        "colab": {
          "base_uri": "https://localhost:8080/"
        },
        "id": "TahwAL6i1uwq",
        "outputId": "72ec298b-23d8-47b1-d36c-5985ef5e3008"
      },
      "source": [
        "# Get identifiers that have both calcification and mass abnormalities.\n",
        "# --------------------------------------------------------------------\n",
        "\n",
        "# Create dictionary of identifiers.\n",
        "iden_list = list(all_df[\"identifier\"].unique())\n",
        "iden_dict = dict((iden, []) for iden in iden_list)\n",
        "\n",
        "# Loop through all_df and get calcification or mass type.\n",
        "for row in all_df.itertuples():\n",
        "    \n",
        "    iden = row.identifier\n",
        "    ab_type = row.abnormality_type\n",
        "    \n",
        "    if ab_type not in iden_dict[iden]:\n",
        "        iden_dict[iden].append(ab_type)\n",
        "    \n",
        "# Check for identifiers with >1 type.\n",
        "both_iden = []\n",
        "for k, v in iden_dict.items():\n",
        "    \n",
        "    if len(v) > 1:\n",
        "        both_iden.append(k)\n",
        "        \n",
        "print(both_iden)\n",
        "\n",
        "for iden in both_iden:\n",
        "    del iden_dict[iden]\n",
        "\n",
        "all_df.to_csv('all_data.csv',index=False)"
      ],
      "execution_count": null,
      "outputs": [
        {
          "output_type": "stream",
          "text": [
            "['P_00034_RIGHT_CC', 'P_00034_RIGHT_MLO', 'P_00041_LEFT_CC', 'P_00041_LEFT_MLO', 'P_00106_RIGHT_CC', 'P_00106_RIGHT_MLO', 'P_00208_RIGHT_MLO', 'P_00224_LEFT_CC', 'P_00224_LEFT_MLO', 'P_00385_RIGHT_CC', 'P_00385_RIGHT_MLO', 'P_00495_RIGHT_CC', 'P_00495_RIGHT_MLO', 'P_00522_RIGHT_MLO', 'P_00539_RIGHT_CC', 'P_00539_RIGHT_MLO', 'P_00573_RIGHT_MLO', 'P_00666_RIGHT_CC', 'P_00666_RIGHT_MLO', 'P_00673_RIGHT_MLO', 'P_00678_LEFT_CC', 'P_00710_RIGHT_CC', 'P_00710_RIGHT_MLO', 'P_00723_LEFT_MLO', 'P_00734_RIGHT_MLO', 'P_00814_LEFT_CC', 'P_00814_LEFT_MLO', 'P_00847_LEFT_MLO', 'P_00906_LEFT_CC', 'P_00906_LEFT_MLO', 'P_01084_LEFT_CC', 'P_01084_LEFT_MLO', 'P_01152_RIGHT_CC', 'P_01152_RIGHT_MLO', 'P_01179_LEFT_MLO', 'P_01262_RIGHT_CC', 'P_01262_RIGHT_MLO', 'P_01274_RIGHT_MLO', 'P_01297_LEFT_CC', 'P_01297_LEFT_MLO', 'P_01454_LEFT_MLO', 'P_01517_LEFT_MLO', 'P_01567_LEFT_MLO', 'P_01573_RIGHT_CC', 'P_01573_RIGHT_MLO', 'P_01635_RIGHT_CC', 'P_01635_RIGHT_MLO', 'P_01725_RIGHT_CC', 'P_01725_RIGHT_MLO', 'P_01803_RIGHT_CC', 'P_01803_RIGHT_MLO', 'P_01840_RIGHT_MLO', 'P_01864_LEFT_CC', 'P_00016_LEFT_CC', 'P_00016_LEFT_MLO', 'P_00202_RIGHT_CC', 'P_00202_RIGHT_MLO', 'P_00510_LEFT_CC', 'P_00510_LEFT_MLO', 'P_00591_RIGHT_MLO', 'P_00601_LEFT_CC', 'P_00601_LEFT_MLO', 'P_00652_LEFT_CC', 'P_00924_RIGHT_CC', 'P_00969_LEFT_CC', 'P_00969_LEFT_MLO', 'P_01365_LEFT_CC', 'P_01467_RIGHT_CC', 'P_01502_LEFT_CC', 'P_01502_LEFT_MLO', 'P_01605_LEFT_CC']\n"
          ],
          "name": "stdout"
        }
      ]
    },
    {
      "cell_type": "markdown",
      "metadata": {
        "id": "3jWesaSziIQq"
      },
      "source": [
        "**Code to align the images and the masks. This is very important, if the images and masks do not match , then model will not learn.**"
      ]
    },
    {
      "cell_type": "code",
      "metadata": {
        "colab": {
          "base_uri": "https://localhost:8080/"
        },
        "id": "-qhq71X--cbN",
        "outputId": "36b5b7b1-fc75-438b-a533-b1150cff70b0"
      },
      "source": [
        "\"\"\"\n",
        "Comparing file names in the images and mask folders. Making sure the filenames in both folders match. We remove all discrepancies\n",
        "\"\"\"\n",
        "\n",
        "import filecmp\n",
        "import glob\n",
        "\n",
        "dir1=\"/content/drive/MyDrive/Colab Notebooks/BC_Tumor_Segmentation_data/cbis_ddsm_data/images\"  \n",
        "dir2=\"/content/drive/MyDrive/Colab Notebooks/BC_Tumor_Segmentation_data/cbis_ddsm_data/unique_mask\"\n",
        "\n",
        "result = filecmp.dircmp(dir1, dir2)\n",
        "result.report()  # prints a report of file exisitng in both the folders, and in one folder only but missing in the other and so on.\n"
      ],
      "execution_count": null,
      "outputs": [
        {
          "output_type": "stream",
          "text": [
            "diff /content/drive/MyDrive/Colab Notebooks/BC_Tumor_Segmentation_data/cbis_ddsm_data/images /content/drive/MyDrive/Colab Notebooks/BC_Tumor_Segmentation_data/cbis_ddsm_data/unique_mask\n",
            "Only in /content/drive/MyDrive/Colab Notebooks/BC_Tumor_Segmentation_data/cbis_ddsm_data/images : ['P_00315_LEFT_MLO.jpg', 'P_01352_LEFT_MLO.jpg', 'P_01534_LEFT_CC.jpg']\n",
            "Only in /content/drive/MyDrive/Colab Notebooks/BC_Tumor_Segmentation_data/cbis_ddsm_data/unique_mask : ['P_00330_LEFT_CC.jpg', 'P_00634_LEFT_CC.jpg', 'P_00931_LEFT_CC.jpg', 'P_01241_RIGHT_CC.jpg', 'P_01564_RIGHT_CC.jpg', 'P_01853_LEFT_CC.jpg']\n",
            "Differing files : ['P_00001_LEFT_CC.jpg', 'P_00001_LEFT_MLO.jpg', 'P_00004_LEFT_CC.jpg', 'P_00004_LEFT_MLO.jpg', 'P_00004_RIGHT_MLO.jpg', 'P_00005_RIGHT_CC.jpg', 'P_00005_RIGHT_MLO.jpg', 'P_00007_LEFT_CC.jpg', 'P_00007_LEFT_MLO.jpg', 'P_00008_LEFT_CC.jpg', 'P_00008_LEFT_MLO.jpg', 'P_00008_RIGHT_CC.jpg', 'P_00008_RIGHT_MLO.jpg', 'P_00009_RIGHT_CC.jpg', 'P_00009_RIGHT_MLO.jpg', 'P_00010_LEFT_CC.jpg', 'P_00010_LEFT_MLO.jpg', 'P_00011_LEFT_CC.jpg', 'P_00011_LEFT_MLO.jpg', 'P_00012_LEFT_CC.jpg', 'P_00012_LEFT_MLO.jpg', 'P_00013_RIGHT_MLO.jpg', 'P_00014_LEFT_CC.jpg', 'P_00014_LEFT_MLO.jpg', 'P_00015_LEFT_MLO.jpg', 'P_00016_LEFT_CC.jpg', 'P_00016_LEFT_MLO.jpg', 'P_00017_LEFT_CC.jpg', 'P_00017_LEFT_MLO.jpg', 'P_00018_RIGHT_CC.jpg', 'P_00018_RIGHT_MLO.jpg', 'P_00019_RIGHT_CC.jpg', 'P_00019_RIGHT_MLO.jpg', 'P_00020_LEFT_CC.jpg', 'P_00020_LEFT_MLO.jpg', 'P_00021_LEFT_CC.jpg', 'P_00021_LEFT_MLO.jpg', 'P_00021_RIGHT_CC.jpg', 'P_00021_RIGHT_MLO.jpg', 'P_00022_LEFT_CC.jpg', 'P_00022_LEFT_MLO.jpg', 'P_00023_RIGHT_CC.jpg', 'P_00023_RIGHT_MLO.jpg', 'P_00024_LEFT_CC.jpg', 'P_00024_LEFT_MLO.jpg', 'P_00026_LEFT_CC.jpg', 'P_00026_LEFT_MLO.jpg', 'P_00027_RIGHT_CC.jpg', 'P_00027_RIGHT_MLO.jpg', 'P_00028_LEFT_MLO.jpg', 'P_00029_LEFT_CC.jpg', 'P_00029_LEFT_MLO.jpg', 'P_00030_LEFT_CC.jpg', 'P_00030_LEFT_MLO.jpg', 'P_00030_RIGHT_CC.jpg', 'P_00030_RIGHT_MLO.jpg', 'P_00031_LEFT_CC.jpg', 'P_00032_RIGHT_CC.jpg', 'P_00032_RIGHT_MLO.jpg', 'P_00034_RIGHT_CC.jpg', 'P_00034_RIGHT_MLO.jpg', 'P_00037_RIGHT_CC.jpg', 'P_00037_RIGHT_MLO.jpg', 'P_00038_LEFT_CC.jpg', 'P_00038_LEFT_MLO.jpg', 'P_00038_RIGHT_CC.jpg', 'P_00038_RIGHT_MLO.jpg', 'P_00039_RIGHT_CC.jpg', 'P_00039_RIGHT_MLO.jpg', 'P_00041_LEFT_CC.jpg', 'P_00041_LEFT_MLO.jpg', 'P_00043_LEFT_MLO.jpg', 'P_00044_RIGHT_CC.jpg', 'P_00044_RIGHT_MLO.jpg', 'P_00045_LEFT_CC.jpg', 'P_00045_LEFT_MLO.jpg', 'P_00046_RIGHT_MLO.jpg', 'P_00047_LEFT_CC.jpg', 'P_00047_LEFT_MLO.jpg', 'P_00048_RIGHT_CC.jpg', 'P_00048_RIGHT_MLO.jpg', 'P_00049_RIGHT_CC.jpg', 'P_00049_RIGHT_MLO.jpg', 'P_00051_LEFT_CC.jpg', 'P_00051_LEFT_MLO.jpg', 'P_00054_RIGHT_MLO.jpg', 'P_00055_LEFT_CC.jpg', 'P_00056_LEFT_MLO.jpg', 'P_00057_RIGHT_CC.jpg', 'P_00057_RIGHT_MLO.jpg', 'P_00058_RIGHT_CC.jpg', 'P_00059_LEFT_CC.jpg', 'P_00059_LEFT_MLO.jpg', 'P_00060_RIGHT_CC.jpg', 'P_00060_RIGHT_MLO.jpg', 'P_00061_RIGHT_CC.jpg', 'P_00061_RIGHT_MLO.jpg', 'P_00062_LEFT_CC.jpg', 'P_00062_LEFT_MLO.jpg', 'P_00063_RIGHT_CC.jpg', 'P_00063_RIGHT_MLO.jpg', 'P_00064_RIGHT_MLO.jpg', 'P_00065_LEFT_CC.jpg', 'P_00065_LEFT_MLO.jpg', 'P_00066_LEFT_CC.jpg', 'P_00066_LEFT_MLO.jpg', 'P_00068_RIGHT_CC.jpg', 'P_00068_RIGHT_MLO.jpg', 'P_00071_RIGHT_CC.jpg', 'P_00071_RIGHT_MLO.jpg', 'P_00074_LEFT_MLO.jpg', 'P_00074_RIGHT_CC.jpg', 'P_00074_RIGHT_MLO.jpg', 'P_00076_LEFT_CC.jpg', 'P_00076_LEFT_MLO.jpg', 'P_00077_LEFT_CC.jpg', 'P_00077_LEFT_MLO.jpg', 'P_00077_RIGHT_CC.jpg', 'P_00077_RIGHT_MLO.jpg', 'P_00078_LEFT_CC.jpg', 'P_00078_LEFT_MLO.jpg', 'P_00079_RIGHT_CC.jpg', 'P_00079_RIGHT_MLO.jpg', 'P_00080_RIGHT_CC.jpg', 'P_00080_RIGHT_MLO.jpg', 'P_00081_RIGHT_CC.jpg', 'P_00081_RIGHT_MLO.jpg', 'P_00083_RIGHT_CC.jpg', 'P_00084_LEFT_CC.jpg', 'P_00084_LEFT_MLO.jpg', 'P_00085_RIGHT_CC.jpg', 'P_00085_RIGHT_MLO.jpg', 'P_00086_RIGHT_CC.jpg', 'P_00086_RIGHT_MLO.jpg', 'P_00088_LEFT_CC.jpg', 'P_00088_LEFT_MLO.jpg', 'P_00090_LEFT_CC.jpg', 'P_00090_LEFT_MLO.jpg', 'P_00091_LEFT_CC.jpg', 'P_00091_LEFT_MLO.jpg', 'P_00092_LEFT_CC.jpg', 'P_00092_LEFT_MLO.jpg', 'P_00092_RIGHT_CC.jpg', 'P_00092_RIGHT_MLO.jpg', 'P_00094_RIGHT_CC.jpg', 'P_00094_RIGHT_MLO.jpg', 'P_00095_LEFT_CC.jpg', 'P_00095_LEFT_MLO.jpg', 'P_00096_RIGHT_CC.jpg', 'P_00096_RIGHT_MLO.jpg', 'P_00098_LEFT_CC.jpg', 'P_00098_LEFT_MLO.jpg', 'P_00098_RIGHT_CC.jpg', 'P_00098_RIGHT_MLO.jpg', 'P_00099_LEFT_MLO.jpg', 'P_00100_RIGHT_CC.jpg', 'P_00100_RIGHT_MLO.jpg', 'P_00101_RIGHT_CC.jpg', 'P_00101_RIGHT_MLO.jpg', 'P_00105_LEFT_CC.jpg', 'P_00105_LEFT_MLO.jpg', 'P_00106_LEFT_CC.jpg', 'P_00106_LEFT_MLO.jpg', 'P_00106_RIGHT_CC.jpg', 'P_00106_RIGHT_MLO.jpg', 'P_00107_RIGHT_MLO.jpg', 'P_00108_LEFT_CC.jpg', 'P_00108_LEFT_MLO.jpg', 'P_00109_LEFT_CC.jpg', 'P_00110_LEFT_CC.jpg', 'P_00110_LEFT_MLO.jpg', 'P_00110_RIGHT_CC.jpg', 'P_00112_LEFT_CC.jpg', 'P_00112_LEFT_MLO.jpg', 'P_00112_RIGHT_CC.jpg', 'P_00112_RIGHT_MLO.jpg', 'P_00114_LEFT_MLO.jpg', 'P_00116_RIGHT_CC.jpg', 'P_00116_RIGHT_MLO.jpg', 'P_00117_LEFT_MLO.jpg', 'P_00118_RIGHT_CC.jpg', 'P_00118_RIGHT_MLO.jpg', 'P_00119_LEFT_CC.jpg', 'P_00119_LEFT_MLO.jpg', 'P_00120_LEFT_CC.jpg', 'P_00120_LEFT_MLO.jpg', 'P_00121_LEFT_CC.jpg', 'P_00121_LEFT_MLO.jpg', 'P_00122_RIGHT_MLO.jpg', 'P_00123_LEFT_CC.jpg', 'P_00123_LEFT_MLO.jpg', 'P_00124_RIGHT_CC.jpg', 'P_00126_RIGHT_CC.jpg', 'P_00126_RIGHT_MLO.jpg', 'P_00127_RIGHT_CC.jpg', 'P_00127_RIGHT_MLO.jpg', 'P_00128_LEFT_CC.jpg', 'P_00129_LEFT_CC.jpg', 'P_00129_LEFT_MLO.jpg', 'P_00131_LEFT_CC.jpg', 'P_00131_LEFT_MLO.jpg', 'P_00132_LEFT_MLO.jpg', 'P_00133_LEFT_CC.jpg', 'P_00133_LEFT_MLO.jpg', 'P_00134_LEFT_CC.jpg', 'P_00134_LEFT_MLO.jpg', 'P_00136_LEFT_CC.jpg', 'P_00136_LEFT_MLO.jpg', 'P_00137_LEFT_CC.jpg', 'P_00137_LEFT_MLO.jpg', 'P_00140_LEFT_CC.jpg', 'P_00140_LEFT_MLO.jpg', 'P_00140_RIGHT_CC.jpg', 'P_00140_RIGHT_MLO.jpg', 'P_00141_LEFT_CC.jpg', 'P_00141_LEFT_MLO.jpg', 'P_00145_LEFT_CC.jpg', 'P_00145_LEFT_MLO.jpg', 'P_00146_RIGHT_CC.jpg', 'P_00146_RIGHT_MLO.jpg', 'P_00147_RIGHT_CC.jpg', 'P_00147_RIGHT_MLO.jpg', 'P_00148_RIGHT_CC.jpg', 'P_00148_RIGHT_MLO.jpg', 'P_00149_LEFT_CC.jpg', 'P_00149_LEFT_MLO.jpg', 'P_00150_RIGHT_MLO.jpg', 'P_00151_RIGHT_MLO.jpg', 'P_00156_RIGHT_MLO.jpg', 'P_00157_LEFT_CC.jpg', 'P_00157_LEFT_MLO.jpg', 'P_00158_RIGHT_MLO.jpg', 'P_00159_LEFT_CC.jpg', 'P_00159_LEFT_MLO.jpg', 'P_00159_RIGHT_MLO.jpg', 'P_00160_LEFT_CC.jpg', 'P_00160_LEFT_MLO.jpg', 'P_00160_RIGHT_CC.jpg', 'P_00160_RIGHT_MLO.jpg', 'P_00161_LEFT_MLO.jpg', 'P_00162_LEFT_CC.jpg', 'P_00162_LEFT_MLO.jpg', 'P_00163_LEFT_CC.jpg', 'P_00163_LEFT_MLO.jpg', 'P_00164_RIGHT_CC.jpg', 'P_00166_RIGHT_CC.jpg', 'P_00166_RIGHT_MLO.jpg', 'P_00169_RIGHT_MLO.jpg', 'P_00171_RIGHT_CC.jpg', 'P_00171_RIGHT_MLO.jpg', 'P_00172_LEFT_CC.jpg', 'P_00172_LEFT_MLO.jpg', 'P_00173_LEFT_CC.jpg', 'P_00173_LEFT_MLO.jpg', 'P_00173_RIGHT_CC.jpg', 'P_00173_RIGHT_MLO.jpg', 'P_00174_RIGHT_CC.jpg', 'P_00174_RIGHT_MLO.jpg', 'P_00175_RIGHT_CC.jpg', 'P_00175_RIGHT_MLO.jpg', 'P_00177_LEFT_CC.jpg', 'P_00177_LEFT_MLO.jpg', 'P_00179_LEFT_CC.jpg', 'P_00179_LEFT_MLO.jpg', 'P_00180_LEFT_CC.jpg', 'P_00180_LEFT_MLO.jpg', 'P_00181_RIGHT_CC.jpg', 'P_00181_RIGHT_MLO.jpg', 'P_00182_LEFT_CC.jpg', 'P_00182_LEFT_MLO.jpg', 'P_00183_RIGHT_MLO.jpg', 'P_00185_LEFT_CC.jpg', 'P_00185_LEFT_MLO.jpg', 'P_00187_LEFT_CC.jpg', 'P_00187_LEFT_MLO.jpg', 'P_00188_RIGHT_MLO.jpg', 'P_00189_LEFT_CC.jpg', 'P_00189_LEFT_MLO.jpg', 'P_00190_LEFT_MLO.jpg', 'P_00192_RIGHT_CC.jpg', 'P_00194_RIGHT_CC.jpg', 'P_00194_RIGHT_MLO.jpg', 'P_00195_LEFT_CC.jpg', 'P_00195_LEFT_MLO.jpg', 'P_00196_RIGHT_CC.jpg', 'P_00196_RIGHT_MLO.jpg', 'P_00197_RIGHT_CC.jpg', 'P_00197_RIGHT_MLO.jpg', 'P_00198_LEFT_CC.jpg', 'P_00198_LEFT_MLO.jpg', 'P_00199_LEFT_CC.jpg', 'P_00199_LEFT_MLO.jpg', 'P_00200_LEFT_CC.jpg', 'P_00200_LEFT_MLO.jpg', 'P_00200_RIGHT_CC.jpg', 'P_00200_RIGHT_MLO.jpg', 'P_00201_LEFT_MLO.jpg', 'P_00202_RIGHT_CC.jpg', 'P_00202_RIGHT_MLO.jpg', 'P_00203_LEFT_CC.jpg', 'P_00203_LEFT_MLO.jpg', 'P_00205_RIGHT_CC.jpg', 'P_00205_RIGHT_MLO.jpg', 'P_00206_RIGHT_MLO.jpg', 'P_00207_LEFT_CC.jpg', 'P_00207_LEFT_MLO.jpg', 'P_00208_RIGHT_CC.jpg', 'P_00208_RIGHT_MLO.jpg', 'P_00209_LEFT_MLO.jpg', 'P_00212_RIGHT_CC.jpg', 'P_00212_RIGHT_MLO.jpg', 'P_00214_LEFT_CC.jpg', 'P_00214_LEFT_MLO.jpg', 'P_00214_RIGHT_MLO.jpg', 'P_00215_RIGHT_CC.jpg', 'P_00217_LEFT_CC.jpg', 'P_00218_LEFT_CC.jpg', 'P_00218_LEFT_MLO.jpg', 'P_00219_RIGHT_CC.jpg', 'P_00220_LEFT_CC.jpg', 'P_00220_LEFT_MLO.jpg', 'P_00221_RIGHT_MLO.jpg', 'P_00223_LEFT_MLO.jpg', 'P_00224_LEFT_CC.jpg', 'P_00224_LEFT_MLO.jpg', 'P_00224_RIGHT_CC.jpg', 'P_00224_RIGHT_MLO.jpg', 'P_00225_RIGHT_CC.jpg', 'P_00225_RIGHT_MLO.jpg', 'P_00226_LEFT_CC.jpg', 'P_00226_LEFT_MLO.jpg', 'P_00229_LEFT_CC.jpg', 'P_00229_LEFT_MLO.jpg', 'P_00230_RIGHT_CC.jpg', 'P_00230_RIGHT_MLO.jpg', 'P_00231_LEFT_CC.jpg', 'P_00231_LEFT_MLO.jpg', 'P_00232_RIGHT_CC.jpg', 'P_00232_RIGHT_MLO.jpg', 'P_00234_LEFT_CC.jpg', 'P_00235_RIGHT_CC.jpg', 'P_00235_RIGHT_MLO.jpg', 'P_00236_RIGHT_MLO.jpg', 'P_00238_RIGHT_CC.jpg', 'P_00238_RIGHT_MLO.jpg', 'P_00239_RIGHT_CC.jpg', 'P_00239_RIGHT_MLO.jpg', 'P_00240_RIGHT_CC.jpg', 'P_00240_RIGHT_MLO.jpg', 'P_00241_RIGHT_CC.jpg', 'P_00241_RIGHT_MLO.jpg', 'P_00242_RIGHT_CC.jpg', 'P_00242_RIGHT_MLO.jpg', 'P_00243_LEFT_CC.jpg', 'P_00243_LEFT_MLO.jpg', 'P_00244_RIGHT_MLO.jpg', 'P_00245_RIGHT_MLO.jpg', 'P_00246_RIGHT_MLO.jpg', 'P_00247_RIGHT_CC.jpg', 'P_00247_RIGHT_MLO.jpg', 'P_00248_LEFT_MLO.jpg', 'P_00250_LEFT_MLO.jpg', 'P_00251_RIGHT_CC.jpg', 'P_00251_RIGHT_MLO.jpg', 'P_00254_LEFT_CC.jpg', 'P_00254_LEFT_MLO.jpg', 'P_00255_RIGHT_CC.jpg', 'P_00255_RIGHT_MLO.jpg', 'P_00256_LEFT_CC.jpg', 'P_00256_LEFT_MLO.jpg', 'P_00257_RIGHT_CC.jpg', 'P_00257_RIGHT_MLO.jpg', 'P_00259_RIGHT_CC.jpg', 'P_00259_RIGHT_MLO.jpg', 'P_00260_RIGHT_CC.jpg', 'P_00260_RIGHT_MLO.jpg', 'P_00263_LEFT_MLO.jpg', 'P_00264_LEFT_CC.jpg', 'P_00264_LEFT_MLO.jpg', 'P_00265_RIGHT_CC.jpg', 'P_00265_RIGHT_MLO.jpg', 'P_00266_LEFT_CC.jpg', 'P_00266_LEFT_MLO.jpg', 'P_00268_LEFT_CC.jpg', 'P_00268_LEFT_MLO.jpg', 'P_00269_LEFT_CC.jpg', 'P_00269_LEFT_MLO.jpg', 'P_00270_LEFT_CC.jpg', 'P_00270_LEFT_MLO.jpg', 'P_00271_LEFT_CC.jpg', 'P_00271_LEFT_MLO.jpg', 'P_00273_LEFT_CC.jpg', 'P_00274_RIGHT_MLO.jpg', 'P_00275_LEFT_CC.jpg', 'P_00275_LEFT_MLO.jpg', 'P_00276_RIGHT_CC.jpg', 'P_00276_RIGHT_MLO.jpg', 'P_00278_RIGHT_CC.jpg', 'P_00278_RIGHT_MLO.jpg', 'P_00279_LEFT_CC.jpg', 'P_00280_LEFT_CC.jpg', 'P_00280_LEFT_MLO.jpg', 'P_00281_LEFT_MLO.jpg', 'P_00282_LEFT_CC.jpg', 'P_00282_LEFT_MLO.jpg', 'P_00283_RIGHT_CC.jpg', 'P_00283_RIGHT_MLO.jpg', 'P_00284_LEFT_CC.jpg', 'P_00284_LEFT_MLO.jpg', 'P_00287_RIGHT_CC.jpg', 'P_00287_RIGHT_MLO.jpg', 'P_00288_RIGHT_CC.jpg', 'P_00288_RIGHT_MLO.jpg', 'P_00289_LEFT_CC.jpg', 'P_00289_LEFT_MLO.jpg', 'P_00291_LEFT_CC.jpg', 'P_00291_LEFT_MLO.jpg', 'P_00291_RIGHT_CC.jpg', 'P_00291_RIGHT_MLO.jpg', 'P_00293_LEFT_CC.jpg', 'P_00293_LEFT_MLO.jpg', 'P_00294_LEFT_CC.jpg', 'P_00294_LEFT_MLO.jpg', 'P_00296_LEFT_CC.jpg', 'P_00296_LEFT_MLO.jpg', 'P_00297_RIGHT_CC.jpg', 'P_00297_RIGHT_MLO.jpg', 'P_00298_LEFT_CC.jpg', 'P_00298_LEFT_MLO.jpg', 'P_00299_LEFT_MLO.jpg', 'P_00299_RIGHT_CC.jpg', 'P_00299_RIGHT_MLO.jpg', 'P_00302_LEFT_CC.jpg', 'P_00302_LEFT_MLO.jpg', 'P_00302_RIGHT_CC.jpg', 'P_00302_RIGHT_MLO.jpg', 'P_00303_LEFT_CC.jpg', 'P_00303_LEFT_MLO.jpg', 'P_00303_RIGHT_CC.jpg', 'P_00303_RIGHT_MLO.jpg', 'P_00304_LEFT_MLO.jpg', 'P_00307_LEFT_CC.jpg', 'P_00307_LEFT_MLO.jpg', 'P_00308_LEFT_CC.jpg', 'P_00308_LEFT_MLO.jpg', 'P_00309_LEFT_CC.jpg', 'P_00309_LEFT_MLO.jpg', 'P_00311_RIGHT_CC.jpg', 'P_00312_RIGHT_MLO.jpg', 'P_00313_RIGHT_CC.jpg', 'P_00313_RIGHT_MLO.jpg', 'P_00314_RIGHT_CC.jpg', 'P_00314_RIGHT_MLO.jpg', 'P_00316_RIGHT_CC.jpg', 'P_00316_RIGHT_MLO.jpg', 'P_00317_RIGHT_MLO.jpg', 'P_00318_LEFT_MLO.jpg', 'P_00319_LEFT_CC.jpg', 'P_00319_LEFT_MLO.jpg', 'P_00320_LEFT_CC.jpg', 'P_00320_LEFT_MLO.jpg', 'P_00321_LEFT_CC.jpg', 'P_00321_LEFT_MLO.jpg', 'P_00322_LEFT_CC.jpg', 'P_00322_LEFT_MLO.jpg', 'P_00324_RIGHT_CC.jpg', 'P_00324_RIGHT_MLO.jpg', 'P_00325_RIGHT_MLO.jpg', 'P_00326_LEFT_MLO.jpg', 'P_00328_LEFT_MLO.jpg', 'P_00328_RIGHT_CC.jpg', 'P_00328_RIGHT_MLO.jpg', 'P_00330_LEFT_MLO.jpg', 'P_00331_LEFT_CC.jpg', 'P_00331_LEFT_MLO.jpg', 'P_00332_LEFT_CC.jpg', 'P_00332_LEFT_MLO.jpg', 'P_00332_RIGHT_CC.jpg', 'P_00332_RIGHT_MLO.jpg', 'P_00333_RIGHT_CC.jpg', 'P_00333_RIGHT_MLO.jpg', 'P_00334_LEFT_MLO.jpg', 'P_00335_LEFT_MLO.jpg', 'P_00336_LEFT_CC.jpg', 'P_00336_LEFT_MLO.jpg', 'P_00337_LEFT_CC.jpg', 'P_00337_LEFT_MLO.jpg', 'P_00339_LEFT_CC.jpg', 'P_00339_LEFT_MLO.jpg', 'P_00340_LEFT_CC.jpg', 'P_00342_RIGHT_CC.jpg', 'P_00342_RIGHT_MLO.jpg', 'P_00343_LEFT_CC.jpg', 'P_00343_LEFT_MLO.jpg', 'P_00343_RIGHT_CC.jpg', 'P_00343_RIGHT_MLO.jpg', 'P_00344_LEFT_CC.jpg', 'P_00344_LEFT_MLO.jpg', 'P_00346_RIGHT_CC.jpg', 'P_00346_RIGHT_MLO.jpg', 'P_00347_LEFT_CC.jpg', 'P_00347_LEFT_MLO.jpg', 'P_00348_LEFT_CC.jpg', 'P_00348_LEFT_MLO.jpg', 'P_00349_RIGHT_CC.jpg', 'P_00349_RIGHT_MLO.jpg', 'P_00351_LEFT_CC.jpg', 'P_00351_LEFT_MLO.jpg', 'P_00352_LEFT_CC.jpg', 'P_00352_LEFT_MLO.jpg', 'P_00353_LEFT_CC.jpg', 'P_00353_LEFT_MLO.jpg', 'P_00354_LEFT_CC.jpg', 'P_00354_LEFT_MLO.jpg', 'P_00355_LEFT_CC.jpg', 'P_00355_LEFT_MLO.jpg', 'P_00356_LEFT_CC.jpg', 'P_00357_LEFT_CC.jpg', 'P_00358_RIGHT_CC.jpg', 'P_00358_RIGHT_MLO.jpg', 'P_00359_LEFT_MLO.jpg', 'P_00360_RIGHT_CC.jpg', 'P_00360_RIGHT_MLO.jpg', 'P_00361_RIGHT_MLO.jpg', 'P_00363_LEFT_CC.jpg', 'P_00363_LEFT_MLO.jpg', 'P_00364_RIGHT_CC.jpg', 'P_00364_RIGHT_MLO.jpg', 'P_00366_RIGHT_CC.jpg', 'P_00366_RIGHT_MLO.jpg', 'P_00368_LEFT_CC.jpg', 'P_00368_LEFT_MLO.jpg', 'P_00369_LEFT_CC.jpg', 'P_00369_LEFT_MLO.jpg', 'P_00370_RIGHT_CC.jpg', 'P_00370_RIGHT_MLO.jpg', 'P_00372_RIGHT_CC.jpg', 'P_00372_RIGHT_MLO.jpg', 'P_00373_LEFT_CC.jpg', 'P_00373_LEFT_MLO.jpg', 'P_00375_RIGHT_CC.jpg', 'P_00375_RIGHT_MLO.jpg', 'P_00376_RIGHT_CC.jpg', 'P_00376_RIGHT_MLO.jpg', 'P_00377_LEFT_CC.jpg', 'P_00377_LEFT_MLO.jpg', 'P_00378_LEFT_CC.jpg', 'P_00378_LEFT_MLO.jpg', 'P_00379_LEFT_CC.jpg', 'P_00379_LEFT_MLO.jpg', 'P_00380_RIGHT_CC.jpg', 'P_00380_RIGHT_MLO.jpg', 'P_00381_LEFT_CC.jpg', 'P_00381_LEFT_MLO.jpg', 'P_00383_LEFT_MLO.jpg', 'P_00384_RIGHT_CC.jpg', 'P_00384_RIGHT_MLO.jpg', 'P_00385_LEFT_CC.jpg', 'P_00385_LEFT_MLO.jpg', 'P_00385_RIGHT_CC.jpg', 'P_00385_RIGHT_MLO.jpg', 'P_00386_LEFT_CC.jpg', 'P_00386_LEFT_MLO.jpg', 'P_00387_RIGHT_CC.jpg', 'P_00387_RIGHT_MLO.jpg', 'P_00389_LEFT_MLO.jpg', 'P_00390_RIGHT_CC.jpg', 'P_00390_RIGHT_MLO.jpg', 'P_00391_LEFT_CC.jpg', 'P_00391_LEFT_MLO.jpg', 'P_00391_RIGHT_CC.jpg', 'P_00391_RIGHT_MLO.jpg', 'P_00392_LEFT_CC.jpg', 'P_00392_LEFT_MLO.jpg', 'P_00393_LEFT_MLO.jpg', 'P_00394_LEFT_MLO.jpg', 'P_00394_RIGHT_MLO.jpg', 'P_00395_RIGHT_CC.jpg', 'P_00395_RIGHT_MLO.jpg', 'P_00396_LEFT_CC.jpg', 'P_00396_LEFT_MLO.jpg', 'P_00397_LEFT_CC.jpg', 'P_00398_LEFT_CC.jpg', 'P_00398_LEFT_MLO.jpg', 'P_00399_RIGHT_CC.jpg', 'P_00399_RIGHT_MLO.jpg', 'P_00400_RIGHT_CC.jpg', 'P_00400_RIGHT_MLO.jpg', 'P_00401_LEFT_CC.jpg', 'P_00401_LEFT_MLO.jpg', 'P_00402_RIGHT_CC.jpg', 'P_00402_RIGHT_MLO.jpg', 'P_00403_RIGHT_CC.jpg', 'P_00403_RIGHT_MLO.jpg', 'P_00404_RIGHT_MLO.jpg', 'P_00405_LEFT_CC.jpg', 'P_00405_LEFT_MLO.jpg', 'P_00406_RIGHT_CC.jpg', 'P_00406_RIGHT_MLO.jpg', 'P_00408_RIGHT_CC.jpg', 'P_00408_RIGHT_MLO.jpg', 'P_00409_RIGHT_CC.jpg', 'P_00409_RIGHT_MLO.jpg', 'P_00410_RIGHT_CC.jpg', 'P_00410_RIGHT_MLO.jpg', 'P_00411_RIGHT_CC.jpg', 'P_00411_RIGHT_MLO.jpg', 'P_00412_RIGHT_CC.jpg', 'P_00412_RIGHT_MLO.jpg', 'P_00413_LEFT_CC.jpg', 'P_00413_LEFT_MLO.jpg', 'P_00414_LEFT_CC.jpg', 'P_00414_LEFT_MLO.jpg', 'P_00415_RIGHT_CC.jpg', 'P_00415_RIGHT_MLO.jpg', 'P_00417_RIGHT_CC.jpg', 'P_00417_RIGHT_MLO.jpg', 'P_00418_LEFT_CC.jpg', 'P_00418_LEFT_MLO.jpg', 'P_00418_RIGHT_CC.jpg', 'P_00418_RIGHT_MLO.jpg', 'P_00419_LEFT_CC.jpg', 'P_00419_LEFT_MLO.jpg', 'P_00419_RIGHT_CC.jpg', 'P_00419_RIGHT_MLO.jpg', 'P_00420_RIGHT_CC.jpg', 'P_00420_RIGHT_MLO.jpg', 'P_00421_LEFT_CC.jpg', 'P_00421_LEFT_MLO.jpg', 'P_00422_LEFT_CC.jpg', 'P_00422_LEFT_MLO.jpg', 'P_00423_RIGHT_CC.jpg', 'P_00425_RIGHT_CC.jpg', 'P_00425_RIGHT_MLO.jpg', 'P_00426_RIGHT_CC.jpg', 'P_00426_RIGHT_MLO.jpg', 'P_00427_RIGHT_MLO.jpg', 'P_00428_LEFT_CC.jpg', 'P_00429_LEFT_CC.jpg', 'P_00429_LEFT_MLO.jpg', 'P_00430_LEFT_CC.jpg', 'P_00430_LEFT_MLO.jpg', 'P_00431_RIGHT_CC.jpg', 'P_00431_RIGHT_MLO.jpg', 'P_00432_LEFT_CC.jpg', 'P_00432_LEFT_MLO.jpg', 'P_00432_RIGHT_CC.jpg', 'P_00432_RIGHT_MLO.jpg', 'P_00433_LEFT_CC.jpg', 'P_00433_LEFT_MLO.jpg', 'P_00435_RIGHT_MLO.jpg', 'P_00436_LEFT_CC.jpg', 'P_00436_LEFT_MLO.jpg', 'P_00437_LEFT_CC.jpg', 'P_00437_LEFT_MLO.jpg', 'P_00438_LEFT_CC.jpg', 'P_00438_LEFT_MLO.jpg', 'P_00439_RIGHT_CC.jpg', 'P_00439_RIGHT_MLO.jpg', 'P_00440_RIGHT_MLO.jpg', 'P_00441_RIGHT_MLO.jpg', 'P_00442_RIGHT_CC.jpg', 'P_00442_RIGHT_MLO.jpg', 'P_00443_RIGHT_MLO.jpg', 'P_00444_LEFT_CC.jpg', 'P_00444_LEFT_MLO.jpg', 'P_00445_LEFT_MLO.jpg', 'P_00447_RIGHT_CC.jpg', 'P_00447_RIGHT_MLO.jpg', 'P_00448_LEFT_CC.jpg', 'P_00448_LEFT_MLO.jpg', 'P_00450_LEFT_CC.jpg', 'P_00450_LEFT_MLO.jpg', 'P_00451_LEFT_CC.jpg', 'P_00451_LEFT_MLO.jpg', 'P_00452_LEFT_CC.jpg', 'P_00452_LEFT_MLO.jpg', 'P_00452_RIGHT_CC.jpg', 'P_00452_RIGHT_MLO.jpg', 'P_00453_LEFT_CC.jpg', 'P_00453_LEFT_MLO.jpg', 'P_00454_RIGHT_CC.jpg', 'P_00454_RIGHT_MLO.jpg', 'P_00455_LEFT_CC.jpg', 'P_00455_LEFT_MLO.jpg', 'P_00456_RIGHT_CC.jpg', 'P_00456_RIGHT_MLO.jpg', 'P_00457_LEFT_CC.jpg', 'P_00457_LEFT_MLO.jpg', 'P_00458_LEFT_CC.jpg', 'P_00460_LEFT_CC.jpg', 'P_00460_LEFT_MLO.jpg', 'P_00462_LEFT_CC.jpg', 'P_00462_LEFT_MLO.jpg', 'P_00464_RIGHT_CC.jpg', 'P_00464_RIGHT_MLO.jpg', 'P_00465_LEFT_CC.jpg', 'P_00465_LEFT_MLO.jpg', 'P_00466_LEFT_MLO.jpg', 'P_00467_LEFT_CC.jpg', 'P_00467_LEFT_MLO.jpg', 'P_00467_RIGHT_CC.jpg', 'P_00467_RIGHT_MLO.jpg', 'P_00468_LEFT_CC.jpg', 'P_00468_LEFT_MLO.jpg', 'P_00469_LEFT_CC.jpg', 'P_00469_LEFT_MLO.jpg', 'P_00470_RIGHT_CC.jpg', 'P_00470_RIGHT_MLO.jpg', 'P_00471_LEFT_CC.jpg', 'P_00471_LEFT_MLO.jpg', 'P_00471_RIGHT_CC.jpg', 'P_00471_RIGHT_MLO.jpg', 'P_00473_LEFT_CC.jpg', 'P_00473_LEFT_MLO.jpg', 'P_00474_LEFT_CC.jpg', 'P_00474_LEFT_MLO.jpg', 'P_00475_LEFT_MLO.jpg', 'P_00475_RIGHT_MLO.jpg', 'P_00476_LEFT_CC.jpg', 'P_00476_LEFT_MLO.jpg', 'P_00476_RIGHT_CC.jpg', 'P_00476_RIGHT_MLO.jpg', 'P_00479_LEFT_CC.jpg', 'P_00479_LEFT_MLO.jpg', 'P_00480_LEFT_CC.jpg', 'P_00480_LEFT_MLO.jpg', 'P_00480_RIGHT_CC.jpg', 'P_00480_RIGHT_MLO.jpg', 'P_00481_RIGHT_CC.jpg', 'P_00481_RIGHT_MLO.jpg', 'P_00482_LEFT_CC.jpg', 'P_00482_LEFT_MLO.jpg', 'P_00484_LEFT_CC.jpg', 'P_00484_LEFT_MLO.jpg', 'P_00484_RIGHT_CC.jpg', 'P_00485_LEFT_CC.jpg', 'P_00485_LEFT_MLO.jpg', 'P_00486_RIGHT_CC.jpg', 'P_00486_RIGHT_MLO.jpg', 'P_00487_RIGHT_CC.jpg', 'P_00487_RIGHT_MLO.jpg', 'P_00488_LEFT_CC.jpg', 'P_00488_LEFT_MLO.jpg', 'P_00490_RIGHT_CC.jpg', 'P_00490_RIGHT_MLO.jpg', 'P_00491_LEFT_MLO.jpg', 'P_00492_RIGHT_MLO.jpg', 'P_00493_RIGHT_CC.jpg', 'P_00494_RIGHT_CC.jpg', 'P_00494_RIGHT_MLO.jpg', 'P_00495_RIGHT_CC.jpg', 'P_00495_RIGHT_MLO.jpg', 'P_00496_LEFT_CC.jpg', 'P_00496_LEFT_MLO.jpg', 'P_00497_LEFT_CC.jpg', 'P_00497_LEFT_MLO.jpg', 'P_00498_LEFT_CC.jpg', 'P_00498_LEFT_MLO.jpg', 'P_00499_RIGHT_CC.jpg', 'P_00499_RIGHT_MLO.jpg', 'P_00500_RIGHT_MLO.jpg', 'P_00502_LEFT_CC.jpg', 'P_00502_LEFT_MLO.jpg', 'P_00503_RIGHT_CC.jpg', 'P_00503_RIGHT_MLO.jpg', 'P_00504_RIGHT_MLO.jpg', 'P_00505_LEFT_CC.jpg', 'P_00505_LEFT_MLO.jpg', 'P_00505_RIGHT_CC.jpg', 'P_00505_RIGHT_MLO.jpg', 'P_00506_LEFT_MLO.jpg', 'P_00506_RIGHT_CC.jpg', 'P_00506_RIGHT_MLO.jpg', 'P_00508_LEFT_CC.jpg', 'P_00508_LEFT_MLO.jpg', 'P_00509_RIGHT_CC.jpg', 'P_00509_RIGHT_MLO.jpg', 'P_00510_LEFT_CC.jpg', 'P_00510_LEFT_MLO.jpg', 'P_00510_RIGHT_CC.jpg', 'P_00510_RIGHT_MLO.jpg', 'P_00512_RIGHT_CC.jpg', 'P_00512_RIGHT_MLO.jpg', 'P_00514_LEFT_MLO.jpg', 'P_00515_LEFT_CC.jpg', 'P_00515_LEFT_MLO.jpg', 'P_00515_RIGHT_CC.jpg', 'P_00516_LEFT_CC.jpg', 'P_00516_LEFT_MLO.jpg', 'P_00517_LEFT_CC.jpg', 'P_00517_LEFT_MLO.jpg', 'P_00518_LEFT_CC.jpg', 'P_00518_LEFT_MLO.jpg', 'P_00519_LEFT_CC.jpg', 'P_00519_LEFT_MLO.jpg', 'P_00519_RIGHT_CC.jpg', 'P_00519_RIGHT_MLO.jpg', 'P_00520_LEFT_CC.jpg', 'P_00520_LEFT_MLO.jpg', 'P_00522_RIGHT_CC.jpg', 'P_00522_RIGHT_MLO.jpg', 'P_00523_RIGHT_CC.jpg', 'P_00523_RIGHT_MLO.jpg', 'P_00524_LEFT_CC.jpg', 'P_00524_LEFT_MLO.jpg', 'P_00526_RIGHT_CC.jpg', 'P_00526_RIGHT_MLO.jpg', 'P_00527_RIGHT_MLO.jpg', 'P_00528_LEFT_MLO.jpg', 'P_00528_RIGHT_CC.jpg', 'P_00528_RIGHT_MLO.jpg', 'P_00529_LEFT_MLO.jpg', 'P_00529_RIGHT_CC.jpg', 'P_00529_RIGHT_MLO.jpg', 'P_00530_LEFT_CC.jpg', 'P_00530_LEFT_MLO.jpg', 'P_00531_RIGHT_CC.jpg', 'P_00531_RIGHT_MLO.jpg', 'P_00532_LEFT_CC.jpg', 'P_00533_LEFT_CC.jpg', 'P_00533_LEFT_MLO.jpg', 'P_00534_LEFT_CC.jpg', 'P_00534_LEFT_MLO.jpg', 'P_00534_RIGHT_CC.jpg', 'P_00534_RIGHT_MLO.jpg', 'P_00535_LEFT_CC.jpg', 'P_00537_RIGHT_MLO.jpg', 'P_00538_RIGHT_CC.jpg', 'P_00538_RIGHT_MLO.jpg', 'P_00539_RIGHT_CC.jpg', 'P_00539_RIGHT_MLO.jpg', 'P_00540_LEFT_CC.jpg', 'P_00540_LEFT_MLO.jpg', 'P_00543_RIGHT_CC.jpg', 'P_00543_RIGHT_MLO.jpg', 'P_00544_LEFT_CC.jpg', 'P_00544_LEFT_MLO.jpg', 'P_00545_LEFT_MLO.jpg', 'P_00546_RIGHT_MLO.jpg', 'P_00548_LEFT_CC.jpg', 'P_00548_LEFT_MLO.jpg', 'P_00549_LEFT_CC.jpg', 'P_00549_LEFT_MLO.jpg', 'P_00550_RIGHT_MLO.jpg', 'P_00551_RIGHT_CC.jpg', 'P_00551_RIGHT_MLO.jpg', 'P_00552_RIGHT_MLO.jpg', 'P_00553_LEFT_CC.jpg', 'P_00553_LEFT_MLO.jpg', 'P_00554_LEFT_CC.jpg', 'P_00554_LEFT_MLO.jpg', 'P_00555_RIGHT_CC.jpg', 'P_00555_RIGHT_MLO.jpg', 'P_00556_LEFT_CC.jpg', 'P_00556_LEFT_MLO.jpg', 'P_00557_LEFT_CC.jpg', 'P_00557_LEFT_MLO.jpg', 'P_00557_RIGHT_CC.jpg', 'P_00557_RIGHT_MLO.jpg', 'P_00558_RIGHT_CC.jpg', 'P_00558_RIGHT_MLO.jpg', 'P_00559_LEFT_CC.jpg', 'P_00559_LEFT_MLO.jpg', 'P_00559_RIGHT_CC.jpg', 'P_00559_RIGHT_MLO.jpg', 'P_00560_RIGHT_MLO.jpg', 'P_00562_LEFT_CC.jpg', 'P_00562_LEFT_MLO.jpg', 'P_00562_RIGHT_CC.jpg', 'P_00562_RIGHT_MLO.jpg', 'P_00563_RIGHT_MLO.jpg', 'P_00564_RIGHT_CC.jpg', 'P_00566_RIGHT_CC.jpg', 'P_00566_RIGHT_MLO.jpg', 'P_00568_LEFT_CC.jpg', 'P_00568_LEFT_MLO.jpg', 'P_00569_RIGHT_CC.jpg', 'P_00569_RIGHT_MLO.jpg', 'P_00570_LEFT_MLO.jpg', 'P_00571_RIGHT_CC.jpg', 'P_00571_RIGHT_MLO.jpg', 'P_00572_RIGHT_CC.jpg', 'P_00572_RIGHT_MLO.jpg', 'P_00573_RIGHT_CC.jpg', 'P_00573_RIGHT_MLO.jpg', 'P_00574_RIGHT_CC.jpg', 'P_00574_RIGHT_MLO.jpg', 'P_00575_RIGHT_MLO.jpg', 'P_00576_LEFT_CC.jpg', 'P_00576_LEFT_MLO.jpg', 'P_00577_RIGHT_CC.jpg', 'P_00577_RIGHT_MLO.jpg', 'P_00578_LEFT_CC.jpg', 'P_00578_LEFT_MLO.jpg', 'P_00579_LEFT_MLO.jpg', 'P_00581_LEFT_MLO.jpg', 'P_00582_RIGHT_MLO.jpg', 'P_00583_LEFT_CC.jpg', 'P_00583_LEFT_MLO.jpg', 'P_00584_LEFT_CC.jpg', 'P_00584_LEFT_MLO.jpg', 'P_00585_LEFT_CC.jpg', 'P_00585_LEFT_MLO.jpg', 'P_00586_LEFT_CC.jpg', 'P_00586_LEFT_MLO.jpg', 'P_00587_RIGHT_CC.jpg', 'P_00587_RIGHT_MLO.jpg', 'P_00589_LEFT_CC.jpg', 'P_00589_LEFT_MLO.jpg', 'P_00591_RIGHT_CC.jpg', 'P_00591_RIGHT_MLO.jpg', 'P_00592_LEFT_CC.jpg', 'P_00592_LEFT_MLO.jpg', 'P_00593_RIGHT_CC.jpg', 'P_00593_RIGHT_MLO.jpg', 'P_00594_LEFT_CC.jpg', 'P_00594_LEFT_MLO.jpg', 'P_00595_LEFT_CC.jpg', 'P_00595_LEFT_MLO.jpg', 'P_00596_LEFT_CC.jpg', 'P_00596_LEFT_MLO.jpg', 'P_00596_RIGHT_CC.jpg', 'P_00596_RIGHT_MLO.jpg', 'P_00597_LEFT_CC.jpg', 'P_00597_LEFT_MLO.jpg', 'P_00597_RIGHT_MLO.jpg', 'P_00598_LEFT_CC.jpg', 'P_00598_LEFT_MLO.jpg', 'P_00600_LEFT_CC.jpg', 'P_00600_LEFT_MLO.jpg', 'P_00601_LEFT_CC.jpg', 'P_00601_LEFT_MLO.jpg', 'P_00604_LEFT_CC.jpg', 'P_00604_LEFT_MLO.jpg', 'P_00605_RIGHT_MLO.jpg', 'P_00606_LEFT_CC.jpg', 'P_00606_LEFT_MLO.jpg', 'P_00607_RIGHT_CC.jpg', 'P_00607_RIGHT_MLO.jpg', 'P_00608_LEFT_CC.jpg', 'P_00608_LEFT_MLO.jpg', 'P_00609_RIGHT_CC.jpg', 'P_00609_RIGHT_MLO.jpg', 'P_00611_RIGHT_CC.jpg', 'P_00611_RIGHT_MLO.jpg', 'P_00612_RIGHT_MLO.jpg', 'P_00613_RIGHT_CC.jpg', 'P_00613_RIGHT_MLO.jpg', 'P_00615_RIGHT_CC.jpg', 'P_00615_RIGHT_MLO.jpg', 'P_00616_LEFT_MLO.jpg', 'P_00617_RIGHT_MLO.jpg', 'P_00620_LEFT_CC.jpg', 'P_00621_LEFT_CC.jpg', 'P_00621_LEFT_MLO.jpg', 'P_00622_LEFT_CC.jpg', 'P_00623_LEFT_CC.jpg', 'P_00623_LEFT_MLO.jpg', 'P_00624_LEFT_CC.jpg', 'P_00624_LEFT_MLO.jpg', 'P_00624_RIGHT_CC.jpg', 'P_00624_RIGHT_MLO.jpg', 'P_00625_RIGHT_MLO.jpg', 'P_00626_LEFT_CC.jpg', 'P_00626_LEFT_MLO.jpg', 'P_00627_LEFT_CC.jpg', 'P_00629_RIGHT_CC.jpg', 'P_00629_RIGHT_MLO.jpg', 'P_00630_LEFT_CC.jpg', 'P_00630_LEFT_MLO.jpg', 'P_00631_RIGHT_CC.jpg', 'P_00631_RIGHT_MLO.jpg', 'P_00633_RIGHT_MLO.jpg', 'P_00634_LEFT_MLO.jpg', 'P_00634_RIGHT_MLO.jpg', 'P_00635_LEFT_CC.jpg', 'P_00635_LEFT_MLO.jpg', 'P_00635_RIGHT_CC.jpg', 'P_00635_RIGHT_MLO.jpg', 'P_00636_RIGHT_CC.jpg', 'P_00636_RIGHT_MLO.jpg', 'P_00637_RIGHT_CC.jpg', 'P_00638_LEFT_CC.jpg', 'P_00638_LEFT_MLO.jpg', 'P_00639_LEFT_MLO.jpg', 'P_00639_RIGHT_CC.jpg', 'P_00639_RIGHT_MLO.jpg', 'P_00640_RIGHT_CC.jpg', 'P_00640_RIGHT_MLO.jpg', 'P_00641_RIGHT_CC.jpg', 'P_00641_RIGHT_MLO.jpg', 'P_00642_LEFT_CC.jpg', 'P_00642_LEFT_MLO.jpg', 'P_00642_RIGHT_CC.jpg', 'P_00642_RIGHT_MLO.jpg', 'P_00643_LEFT_CC.jpg', 'P_00643_LEFT_MLO.jpg', 'P_00644_LEFT_CC.jpg', 'P_00644_LEFT_MLO.jpg', 'P_00645_RIGHT_MLO.jpg', 'P_00646_LEFT_CC.jpg', 'P_00646_LEFT_MLO.jpg', 'P_00647_RIGHT_CC.jpg', 'P_00647_RIGHT_MLO.jpg', 'P_00648_LEFT_CC.jpg', 'P_00648_LEFT_MLO.jpg', 'P_00649_LEFT_CC.jpg', 'P_00649_LEFT_MLO.jpg', 'P_00651_RIGHT_MLO.jpg', 'P_00652_LEFT_CC.jpg', 'P_00652_LEFT_MLO.jpg', 'P_00653_LEFT_CC.jpg', 'P_00653_LEFT_MLO.jpg', 'P_00654_RIGHT_CC.jpg', 'P_00654_RIGHT_MLO.jpg', 'P_00655_RIGHT_CC.jpg', 'P_00655_RIGHT_MLO.jpg', 'P_00656_RIGHT_MLO.jpg', 'P_00658_LEFT_CC.jpg', 'P_00658_LEFT_MLO.jpg', 'P_00659_RIGHT_MLO.jpg', 'P_00660_LEFT_CC.jpg', 'P_00660_LEFT_MLO.jpg', 'P_00661_LEFT_CC.jpg', 'P_00661_LEFT_MLO.jpg', 'P_00662_LEFT_CC.jpg', 'P_00662_LEFT_MLO.jpg', 'P_00663_RIGHT_CC.jpg', 'P_00663_RIGHT_MLO.jpg', 'P_00664_RIGHT_CC.jpg', 'P_00664_RIGHT_MLO.jpg', 'P_00665_LEFT_MLO.jpg', 'P_00666_LEFT_CC.jpg', 'P_00666_LEFT_MLO.jpg', 'P_00666_RIGHT_CC.jpg', 'P_00666_RIGHT_MLO.jpg', 'P_00667_RIGHT_CC.jpg', 'P_00667_RIGHT_MLO.jpg', 'P_00669_RIGHT_CC.jpg', 'P_00669_RIGHT_MLO.jpg', 'P_00670_RIGHT_CC.jpg', 'P_00670_RIGHT_MLO.jpg', 'P_00671_LEFT_CC.jpg', 'P_00671_LEFT_MLO.jpg', 'P_00673_LEFT_MLO.jpg', 'P_00673_RIGHT_MLO.jpg', 'P_00674_RIGHT_CC.jpg', 'P_00674_RIGHT_MLO.jpg', 'P_00675_LEFT_CC.jpg', 'P_00675_LEFT_MLO.jpg', 'P_00677_RIGHT_CC.jpg', 'P_00677_RIGHT_MLO.jpg', 'P_00678_LEFT_CC.jpg', 'P_00678_LEFT_MLO.jpg', 'P_00679_LEFT_CC.jpg', 'P_00679_LEFT_MLO.jpg', 'P_00680_LEFT_CC.jpg', 'P_00680_LEFT_MLO.jpg', 'P_00680_RIGHT_CC.jpg', 'P_00680_RIGHT_MLO.jpg', 'P_00681_LEFT_CC.jpg', 'P_00681_LEFT_MLO.jpg', 'P_00682_RIGHT_CC.jpg', 'P_00682_RIGHT_MLO.jpg', 'P_00683_RIGHT_CC.jpg', 'P_00683_RIGHT_MLO.jpg', 'P_00684_RIGHT_CC.jpg', 'P_00684_RIGHT_MLO.jpg', 'P_00685_RIGHT_CC.jpg', 'P_00685_RIGHT_MLO.jpg', 'P_00686_RIGHT_MLO.jpg', 'P_00687_LEFT_CC.jpg', 'P_00687_LEFT_MLO.jpg', 'P_00690_LEFT_MLO.jpg', 'P_00692_LEFT_MLO.jpg', 'P_00693_LEFT_CC.jpg', 'P_00693_LEFT_MLO.jpg', 'P_00694_RIGHT_CC.jpg', 'P_00694_RIGHT_MLO.jpg', 'P_00695_RIGHT_CC.jpg', 'P_00695_RIGHT_MLO.jpg', 'P_00698_RIGHT_CC.jpg', 'P_00698_RIGHT_MLO.jpg', 'P_00699_RIGHT_CC.jpg', 'P_00699_RIGHT_MLO.jpg', 'P_00700_RIGHT_CC.jpg', 'P_00700_RIGHT_MLO.jpg', 'P_00701_LEFT_CC.jpg', 'P_00701_LEFT_MLO.jpg', 'P_00702_RIGHT_CC.jpg', 'P_00702_RIGHT_MLO.jpg', 'P_00703_LEFT_CC.jpg', 'P_00703_LEFT_MLO.jpg', 'P_00704_LEFT_CC.jpg', 'P_00704_LEFT_MLO.jpg', 'P_00705_LEFT_CC.jpg', 'P_00705_LEFT_MLO.jpg', 'P_00706_RIGHT_CC.jpg', 'P_00706_RIGHT_MLO.jpg', 'P_00707_RIGHT_CC.jpg', 'P_00707_RIGHT_MLO.jpg', 'P_00708_RIGHT_CC.jpg', 'P_00708_RIGHT_MLO.jpg', 'P_00709_RIGHT_CC.jpg', 'P_00709_RIGHT_MLO.jpg', 'P_00710_LEFT_CC.jpg', 'P_00710_LEFT_MLO.jpg', 'P_00710_RIGHT_CC.jpg', 'P_00710_RIGHT_MLO.jpg', 'P_00711_LEFT_CC.jpg', 'P_00711_LEFT_MLO.jpg', 'P_00711_RIGHT_CC.jpg', 'P_00711_RIGHT_MLO.jpg', 'P_00712_RIGHT_CC.jpg', 'P_00712_RIGHT_MLO.jpg', 'P_00713_LEFT_CC.jpg', 'P_00715_RIGHT_CC.jpg', 'P_00715_RIGHT_MLO.jpg', 'P_00716_LEFT_MLO.jpg', 'P_00717_RIGHT_CC.jpg', 'P_00717_RIGHT_MLO.jpg', 'P_00718_RIGHT_MLO.jpg', 'P_00719_LEFT_CC.jpg', 'P_00719_LEFT_MLO.jpg', 'P_00720_RIGHT_MLO.jpg', 'P_00723_LEFT_MLO.jpg', 'P_00725_LEFT_CC.jpg', 'P_00725_LEFT_MLO.jpg', 'P_00726_RIGHT_CC.jpg', 'P_00726_RIGHT_MLO.jpg', 'P_00728_RIGHT_CC.jpg', 'P_00728_RIGHT_MLO.jpg', 'P_00729_LEFT_CC.jpg', 'P_00729_LEFT_MLO.jpg', 'P_00730_RIGHT_CC.jpg', 'P_00731_RIGHT_CC.jpg', 'P_00731_RIGHT_MLO.jpg', 'P_00732_LEFT_CC.jpg', 'P_00732_LEFT_MLO.jpg', 'P_00733_RIGHT_CC.jpg', 'P_00733_RIGHT_MLO.jpg', 'P_00734_RIGHT_CC.jpg', 'P_00734_RIGHT_MLO.jpg', 'P_00735_LEFT_CC.jpg', 'P_00735_LEFT_MLO.jpg', 'P_00736_LEFT_CC.jpg', 'P_00736_LEFT_MLO.jpg', 'P_00737_LEFT_CC.jpg', 'P_00737_LEFT_MLO.jpg', 'P_00738_RIGHT_CC.jpg', 'P_00738_RIGHT_MLO.jpg', 'P_00739_LEFT_CC.jpg', 'P_00739_LEFT_MLO.jpg', 'P_00741_LEFT_CC.jpg', 'P_00741_LEFT_MLO.jpg', 'P_00742_LEFT_CC.jpg', 'P_00742_LEFT_MLO.jpg', 'P_00743_LEFT_CC.jpg', 'P_00743_LEFT_MLO.jpg', 'P_00744_RIGHT_CC.jpg', 'P_00744_RIGHT_MLO.jpg', 'P_00746_LEFT_CC.jpg', 'P_00746_LEFT_MLO.jpg', 'P_00747_LEFT_CC.jpg', 'P_00747_LEFT_MLO.jpg', 'P_00750_LEFT_CC.jpg', 'P_00750_LEFT_MLO.jpg', 'P_00750_RIGHT_CC.jpg', 'P_00750_RIGHT_MLO.jpg', 'P_00751_LEFT_CC.jpg', 'P_00753_LEFT_CC.jpg', 'P_00753_LEFT_MLO.jpg', 'P_00753_RIGHT_CC.jpg', 'P_00753_RIGHT_MLO.jpg', 'P_00754_LEFT_CC.jpg', 'P_00754_LEFT_MLO.jpg', 'P_00757_LEFT_MLO.jpg', 'P_00758_LEFT_CC.jpg', 'P_00758_LEFT_MLO.jpg', 'P_00759_LEFT_CC.jpg', 'P_00759_LEFT_MLO.jpg', 'P_00761_RIGHT_CC.jpg', 'P_00761_RIGHT_MLO.jpg', 'P_00764_RIGHT_CC.jpg', 'P_00764_RIGHT_MLO.jpg', 'P_00765_RIGHT_CC.jpg', 'P_00765_RIGHT_MLO.jpg', 'P_00766_LEFT_CC.jpg', 'P_00766_LEFT_MLO.jpg', 'P_00767_LEFT_CC.jpg', 'P_00767_LEFT_MLO.jpg', 'P_00767_RIGHT_CC.jpg', 'P_00767_RIGHT_MLO.jpg', 'P_00768_LEFT_CC.jpg', 'P_00768_LEFT_MLO.jpg', 'P_00770_RIGHT_CC.jpg', 'P_00771_RIGHT_CC.jpg', 'P_00771_RIGHT_MLO.jpg', 'P_00772_RIGHT_CC.jpg', 'P_00772_RIGHT_MLO.jpg', 'P_00773_LEFT_CC.jpg', 'P_00773_LEFT_MLO.jpg', 'P_00774_RIGHT_CC.jpg', 'P_00774_RIGHT_MLO.jpg', 'P_00775_LEFT_CC.jpg', 'P_00775_LEFT_MLO.jpg', 'P_00776_RIGHT_CC.jpg', 'P_00776_RIGHT_MLO.jpg', 'P_00778_LEFT_CC.jpg', 'P_00778_LEFT_MLO.jpg', 'P_00778_RIGHT_CC.jpg', 'P_00778_RIGHT_MLO.jpg', 'P_00779_LEFT_CC.jpg', 'P_00779_LEFT_MLO.jpg', 'P_00780_LEFT_CC.jpg', 'P_00780_LEFT_MLO.jpg', 'P_00780_RIGHT_CC.jpg', 'P_00780_RIGHT_MLO.jpg', 'P_00781_RIGHT_CC.jpg', 'P_00781_RIGHT_MLO.jpg', 'P_00782_RIGHT_CC.jpg', 'P_00784_RIGHT_CC.jpg', 'P_00784_RIGHT_MLO.jpg', 'P_00787_LEFT_CC.jpg', 'P_00787_LEFT_MLO.jpg', 'P_00788_RIGHT_MLO.jpg', 'P_00789_LEFT_MLO.jpg', 'P_00790_RIGHT_CC.jpg', 'P_00790_RIGHT_MLO.jpg', 'P_00792_LEFT_CC.jpg', 'P_00792_LEFT_MLO.jpg', 'P_00793_LEFT_CC.jpg', 'P_00793_LEFT_MLO.jpg', 'P_00794_LEFT_CC.jpg', 'P_00794_LEFT_MLO.jpg', 'P_00795_LEFT_CC.jpg', 'P_00795_LEFT_MLO.jpg', 'P_00797_LEFT_CC.jpg', 'P_00797_LEFT_MLO.jpg', 'P_00797_RIGHT_CC.jpg', 'P_00797_RIGHT_MLO.jpg', 'P_00798_RIGHT_CC.jpg', 'P_00798_RIGHT_MLO.jpg', 'P_00799_LEFT_CC.jpg', 'P_00799_LEFT_MLO.jpg', 'P_00799_RIGHT_CC.jpg', 'P_00799_RIGHT_MLO.jpg', 'P_00801_LEFT_CC.jpg', 'P_00801_LEFT_MLO.jpg', 'P_00802_LEFT_CC.jpg', 'P_00802_LEFT_MLO.jpg', 'P_00803_LEFT_CC.jpg', 'P_00806_LEFT_CC.jpg', 'P_00806_LEFT_MLO.jpg', 'P_00808_LEFT_MLO.jpg', 'P_00809_LEFT_CC.jpg', 'P_00809_LEFT_MLO.jpg', 'P_00810_RIGHT_MLO.jpg', 'P_00811_LEFT_CC.jpg', 'P_00812_LEFT_CC.jpg', 'P_00812_LEFT_MLO.jpg', 'P_00813_RIGHT_MLO.jpg', 'P_00814_LEFT_CC.jpg', 'P_00814_LEFT_MLO.jpg', 'P_00814_RIGHT_CC.jpg', 'P_00814_RIGHT_MLO.jpg', 'P_00815_LEFT_CC.jpg', 'P_00815_LEFT_MLO.jpg', 'P_00816_RIGHT_CC.jpg', 'P_00816_RIGHT_MLO.jpg', 'P_00818_RIGHT_CC.jpg', 'P_00818_RIGHT_MLO.jpg', 'P_00819_RIGHT_CC.jpg', 'P_00819_RIGHT_MLO.jpg', 'P_00820_LEFT_CC.jpg', 'P_00820_LEFT_MLO.jpg', 'P_00820_RIGHT_CC.jpg', 'P_00820_RIGHT_MLO.jpg', 'P_00823_RIGHT_CC.jpg', 'P_00823_RIGHT_MLO.jpg', 'P_00824_LEFT_CC.jpg', 'P_00824_LEFT_MLO.jpg', 'P_00825_RIGHT_MLO.jpg', 'P_00826_LEFT_CC.jpg', 'P_00826_LEFT_MLO.jpg', 'P_00827_RIGHT_CC.jpg', 'P_00827_RIGHT_MLO.jpg', 'P_00828_LEFT_CC.jpg', 'P_00829_LEFT_CC.jpg', 'P_00829_LEFT_MLO.jpg', 'P_00831_RIGHT_MLO.jpg', 'P_00832_RIGHT_CC.jpg', 'P_00832_RIGHT_MLO.jpg', 'P_00833_LEFT_CC.jpg', 'P_00833_LEFT_MLO.jpg', 'P_00834_LEFT_CC.jpg', 'P_00834_LEFT_MLO.jpg', 'P_00835_LEFT_CC.jpg', 'P_00835_LEFT_MLO.jpg', 'P_00836_LEFT_CC.jpg', 'P_00836_LEFT_MLO.jpg', 'P_00837_RIGHT_CC.jpg', 'P_00837_RIGHT_MLO.jpg', 'P_00840_RIGHT_CC.jpg', 'P_00840_RIGHT_MLO.jpg', 'P_00841_RIGHT_CC.jpg', 'P_00841_RIGHT_MLO.jpg', 'P_00842_LEFT_CC.jpg', 'P_00842_LEFT_MLO.jpg', 'P_00843_RIGHT_CC.jpg', 'P_00843_RIGHT_MLO.jpg', 'P_00844_RIGHT_CC.jpg', 'P_00844_RIGHT_MLO.jpg', 'P_00845_RIGHT_CC.jpg', 'P_00846_LEFT_CC.jpg', 'P_00846_LEFT_MLO.jpg', 'P_00847_LEFT_CC.jpg', 'P_00847_LEFT_MLO.jpg', 'P_00848_LEFT_CC.jpg', 'P_00848_LEFT_MLO.jpg', 'P_00849_LEFT_CC.jpg', 'P_00849_LEFT_MLO.jpg', 'P_00851_LEFT_CC.jpg', 'P_00851_LEFT_MLO.jpg', 'P_00852_LEFT_CC.jpg', 'P_00852_LEFT_MLO.jpg', 'P_00853_RIGHT_CC.jpg', 'P_00854_RIGHT_CC.jpg', 'P_00854_RIGHT_MLO.jpg', 'P_00855_RIGHT_CC.jpg', 'P_00856_LEFT_MLO.jpg', 'P_00857_RIGHT_CC.jpg', 'P_00857_RIGHT_MLO.jpg', 'P_00858_LEFT_CC.jpg', 'P_00858_LEFT_MLO.jpg', 'P_00858_RIGHT_CC.jpg', 'P_00858_RIGHT_MLO.jpg', 'P_00859_LEFT_CC.jpg', 'P_00859_LEFT_MLO.jpg', 'P_00861_RIGHT_CC.jpg', 'P_00861_RIGHT_MLO.jpg', 'P_00862_LEFT_CC.jpg', 'P_00862_LEFT_MLO.jpg', 'P_00863_RIGHT_CC.jpg', 'P_00863_RIGHT_MLO.jpg', 'P_00864_LEFT_CC.jpg', 'P_00864_LEFT_MLO.jpg', 'P_00865_RIGHT_MLO.jpg', 'P_00866_RIGHT_CC.jpg', 'P_00866_RIGHT_MLO.jpg', 'P_00868_RIGHT_CC.jpg', 'P_00868_RIGHT_MLO.jpg', 'P_00869_LEFT_CC.jpg', 'P_00869_LEFT_MLO.jpg', 'P_00870_LEFT_CC.jpg', 'P_00870_LEFT_MLO.jpg', 'P_00871_LEFT_CC.jpg', 'P_00871_LEFT_MLO.jpg', 'P_00875_RIGHT_CC.jpg', 'P_00875_RIGHT_MLO.jpg', 'P_00876_LEFT_CC.jpg', 'P_00876_LEFT_MLO.jpg', 'P_00877_LEFT_CC.jpg', 'P_00877_LEFT_MLO.jpg', 'P_00878_LEFT_CC.jpg', 'P_00878_LEFT_MLO.jpg', 'P_00879_RIGHT_CC.jpg', 'P_00879_RIGHT_MLO.jpg', 'P_00880_RIGHT_CC.jpg', 'P_00881_LEFT_CC.jpg', 'P_00881_LEFT_MLO.jpg', 'P_00882_LEFT_CC.jpg', 'P_00882_LEFT_MLO.jpg', 'P_00882_RIGHT_CC.jpg', 'P_00882_RIGHT_MLO.jpg', 'P_00883_RIGHT_CC.jpg', 'P_00883_RIGHT_MLO.jpg', 'P_00884_LEFT_MLO.jpg', 'P_00886_LEFT_CC.jpg', 'P_00886_LEFT_MLO.jpg', 'P_00889_LEFT_CC.jpg', 'P_00889_LEFT_MLO.jpg', 'P_00890_RIGHT_MLO.jpg', 'P_00891_RIGHT_CC.jpg', 'P_00891_RIGHT_MLO.jpg', 'P_00892_LEFT_CC.jpg', 'P_00892_LEFT_MLO.jpg', 'P_00893_LEFT_CC.jpg', 'P_00893_LEFT_MLO.jpg', 'P_00894_RIGHT_MLO.jpg', 'P_00895_RIGHT_CC.jpg', 'P_00895_RIGHT_MLO.jpg', 'P_00896_LEFT_CC.jpg', 'P_00897_LEFT_CC.jpg', 'P_00897_LEFT_MLO.jpg', 'P_00898_LEFT_CC.jpg', 'P_00899_RIGHT_CC.jpg', 'P_00899_RIGHT_MLO.jpg', 'P_00900_LEFT_MLO.jpg', 'P_00901_RIGHT_CC.jpg', 'P_00901_RIGHT_MLO.jpg', 'P_00902_LEFT_CC.jpg', 'P_00902_LEFT_MLO.jpg', 'P_00903_LEFT_MLO.jpg', 'P_00905_RIGHT_CC.jpg', 'P_00905_RIGHT_MLO.jpg', 'P_00906_LEFT_CC.jpg', 'P_00906_LEFT_MLO.jpg', 'P_00909_LEFT_MLO.jpg', 'P_00911_LEFT_CC.jpg', 'P_00912_LEFT_CC.jpg', 'P_00912_LEFT_MLO.jpg', 'P_00913_LEFT_CC.jpg', 'P_00913_LEFT_MLO.jpg', 'P_00914_LEFT_CC.jpg', 'P_00914_LEFT_MLO.jpg', 'P_00915_RIGHT_CC.jpg', 'P_00915_RIGHT_MLO.jpg', 'P_00916_RIGHT_MLO.jpg', 'P_00917_RIGHT_MLO.jpg', 'P_00919_RIGHT_CC.jpg', 'P_00919_RIGHT_MLO.jpg', 'P_00920_RIGHT_CC.jpg', 'P_00920_RIGHT_MLO.jpg', 'P_00921_RIGHT_CC.jpg', 'P_00922_RIGHT_CC.jpg', 'P_00922_RIGHT_MLO.jpg', 'P_00923_RIGHT_CC.jpg', 'P_00923_RIGHT_MLO.jpg', 'P_00924_LEFT_CC.jpg', 'P_00924_LEFT_MLO.jpg', 'P_00924_RIGHT_CC.jpg', 'P_00924_RIGHT_MLO.jpg', 'P_00925_RIGHT_CC.jpg', 'P_00925_RIGHT_MLO.jpg', 'P_00926_LEFT_CC.jpg', 'P_00926_LEFT_MLO.jpg', 'P_00927_LEFT_CC.jpg', 'P_00927_LEFT_MLO.jpg', 'P_00928_RIGHT_CC.jpg', 'P_00928_RIGHT_MLO.jpg', 'P_00929_LEFT_CC.jpg', 'P_00929_LEFT_MLO.jpg', 'P_00930_LEFT_CC.jpg', 'P_00930_LEFT_MLO.jpg', 'P_00931_LEFT_MLO.jpg', 'P_00932_LEFT_MLO.jpg', 'P_00933_LEFT_CC.jpg', 'P_00933_LEFT_MLO.jpg', 'P_00935_LEFT_CC.jpg', 'P_00935_LEFT_MLO.jpg', 'P_00937_LEFT_CC.jpg', 'P_00937_LEFT_MLO.jpg', 'P_00937_RIGHT_CC.jpg', 'P_00937_RIGHT_MLO.jpg', 'P_00939_RIGHT_CC.jpg', 'P_00939_RIGHT_MLO.jpg', 'P_00941_LEFT_MLO.jpg', 'P_00942_LEFT_CC.jpg', 'P_00944_LEFT_CC.jpg', 'P_00944_LEFT_MLO.jpg', 'P_00945_RIGHT_CC.jpg', 'P_00945_RIGHT_MLO.jpg', 'P_00947_RIGHT_CC.jpg', 'P_00947_RIGHT_MLO.jpg', 'P_00949_LEFT_CC.jpg', 'P_00949_LEFT_MLO.jpg', 'P_00950_LEFT_CC.jpg', 'P_00951_LEFT_CC.jpg', 'P_00951_RIGHT_CC.jpg', 'P_00951_RIGHT_MLO.jpg', 'P_00952_RIGHT_CC.jpg', 'P_00952_RIGHT_MLO.jpg', 'P_00953_LEFT_CC.jpg', 'P_00953_LEFT_MLO.jpg', 'P_00954_RIGHT_CC.jpg', 'P_00954_RIGHT_MLO.jpg', 'P_00955_RIGHT_CC.jpg', 'P_00955_RIGHT_MLO.jpg', 'P_00956_LEFT_MLO.jpg', 'P_00958_LEFT_CC.jpg', 'P_00958_LEFT_MLO.jpg', 'P_00959_RIGHT_MLO.jpg', 'P_00960_LEFT_CC.jpg', 'P_00960_LEFT_MLO.jpg', 'P_00961_LEFT_MLO.jpg', 'P_00962_RIGHT_CC.jpg', 'P_00962_RIGHT_MLO.jpg', 'P_00963_LEFT_CC.jpg', 'P_00963_LEFT_MLO.jpg', 'P_00965_LEFT_CC.jpg', 'P_00965_LEFT_MLO.jpg', 'P_00966_RIGHT_MLO.jpg', 'P_00967_RIGHT_CC.jpg', 'P_00967_RIGHT_MLO.jpg', 'P_00968_LEFT_CC.jpg', 'P_00968_LEFT_MLO.jpg', 'P_00969_LEFT_CC.jpg', 'P_00969_LEFT_MLO.jpg', 'P_00970_LEFT_MLO.jpg', 'P_00971_RIGHT_MLO.jpg', 'P_00972_LEFT_CC.jpg', 'P_00972_LEFT_MLO.jpg', 'P_00973_RIGHT_CC.jpg', 'P_00973_RIGHT_MLO.jpg', 'P_00974_RIGHT_CC.jpg', 'P_00974_RIGHT_MLO.jpg', 'P_00976_LEFT_CC.jpg', 'P_00976_LEFT_MLO.jpg', 'P_00977_LEFT_MLO.jpg', 'P_00978_LEFT_CC.jpg', 'P_00978_LEFT_MLO.jpg', 'P_00978_RIGHT_CC.jpg', 'P_00978_RIGHT_MLO.jpg', 'P_00979_LEFT_CC.jpg', 'P_00979_LEFT_MLO.jpg', 'P_00980_LEFT_CC.jpg', 'P_00980_LEFT_MLO.jpg', 'P_00981_LEFT_CC.jpg', 'P_00981_LEFT_MLO.jpg', 'P_00982_RIGHT_CC.jpg', 'P_00982_RIGHT_MLO.jpg', 'P_00983_LEFT_CC.jpg', 'P_00984_RIGHT_CC.jpg', 'P_00984_RIGHT_MLO.jpg', 'P_00985_RIGHT_CC.jpg', 'P_00985_RIGHT_MLO.jpg', 'P_00986_LEFT_MLO.jpg', 'P_00987_LEFT_CC.jpg', 'P_00987_LEFT_MLO.jpg', 'P_00988_LEFT_CC.jpg', 'P_00988_LEFT_MLO.jpg', 'P_00989_RIGHT_CC.jpg', 'P_00989_RIGHT_MLO.jpg', 'P_00990_RIGHT_CC.jpg', 'P_00990_RIGHT_MLO.jpg', 'P_00991_LEFT_CC.jpg', 'P_00991_LEFT_MLO.jpg', 'P_00992_LEFT_CC.jpg', 'P_00992_LEFT_MLO.jpg', 'P_00992_RIGHT_CC.jpg', 'P_00992_RIGHT_MLO.jpg', 'P_00993_RIGHT_CC.jpg', 'P_00993_RIGHT_MLO.jpg', 'P_00994_RIGHT_MLO.jpg', 'P_00995_LEFT_CC.jpg', 'P_00995_LEFT_MLO.jpg', 'P_00996_RIGHT_CC.jpg', 'P_00997_LEFT_CC.jpg', 'P_00997_LEFT_MLO.jpg', 'P_00998_LEFT_CC.jpg', 'P_00999_LEFT_CC.jpg', 'P_00999_LEFT_MLO.jpg', 'P_01000_RIGHT_CC.jpg', 'P_01000_RIGHT_MLO.jpg', 'P_01002_LEFT_CC.jpg', 'P_01002_LEFT_MLO.jpg', 'P_01003_LEFT_CC.jpg', 'P_01003_LEFT_MLO.jpg', 'P_01004_LEFT_CC.jpg', 'P_01004_LEFT_MLO.jpg', 'P_01006_LEFT_CC.jpg', 'P_01006_LEFT_MLO.jpg', 'P_01008_RIGHT_CC.jpg', 'P_01008_RIGHT_MLO.jpg', 'P_01009_RIGHT_CC.jpg', 'P_01009_RIGHT_MLO.jpg', 'P_01010_RIGHT_MLO.jpg', 'P_01014_LEFT_CC.jpg', 'P_01014_LEFT_MLO.jpg', 'P_01015_LEFT_CC.jpg', 'P_01015_LEFT_MLO.jpg', 'P_01016_RIGHT_MLO.jpg', 'P_01018_RIGHT_MLO.jpg', 'P_01019_LEFT_CC.jpg', 'P_01019_LEFT_MLO.jpg', 'P_01022_LEFT_CC.jpg', 'P_01022_LEFT_MLO.jpg', 'P_01029_LEFT_CC.jpg', 'P_01029_LEFT_MLO.jpg', 'P_01029_RIGHT_CC.jpg', 'P_01029_RIGHT_MLO.jpg', 'P_01030_RIGHT_CC.jpg', 'P_01030_RIGHT_MLO.jpg', 'P_01031_LEFT_CC.jpg', 'P_01032_RIGHT_CC.jpg', 'P_01033_LEFT_CC.jpg', 'P_01033_LEFT_MLO.jpg', 'P_01034_LEFT_CC.jpg', 'P_01034_LEFT_MLO.jpg', 'P_01034_RIGHT_CC.jpg', 'P_01034_RIGHT_MLO.jpg', 'P_01035_RIGHT_CC.jpg', 'P_01035_RIGHT_MLO.jpg', 'P_01036_RIGHT_MLO.jpg', 'P_01037_LEFT_CC.jpg', 'P_01037_LEFT_MLO.jpg', 'P_01039_LEFT_CC.jpg', 'P_01039_RIGHT_CC.jpg', 'P_01039_RIGHT_MLO.jpg', 'P_01040_RIGHT_CC.jpg', 'P_01040_RIGHT_MLO.jpg', 'P_01041_RIGHT_CC.jpg', 'P_01041_RIGHT_MLO.jpg', 'P_01042_RIGHT_CC.jpg', 'P_01042_RIGHT_MLO.jpg', 'P_01043_RIGHT_CC.jpg', 'P_01043_RIGHT_MLO.jpg', 'P_01044_LEFT_MLO.jpg', 'P_01045_RIGHT_CC.jpg', 'P_01045_RIGHT_MLO.jpg', 'P_01046_LEFT_CC.jpg', 'P_01046_LEFT_MLO.jpg', 'P_01047_LEFT_CC.jpg', 'P_01047_LEFT_MLO.jpg', 'P_01048_RIGHT_CC.jpg', 'P_01048_RIGHT_MLO.jpg', 'P_01049_LEFT_CC.jpg', 'P_01049_LEFT_MLO.jpg', 'P_01050_LEFT_MLO.jpg', 'P_01051_RIGHT_CC.jpg', 'P_01051_RIGHT_MLO.jpg', 'P_01052_LEFT_CC.jpg', 'P_01052_LEFT_MLO.jpg', 'P_01053_LEFT_CC.jpg', 'P_01053_LEFT_MLO.jpg', 'P_01054_RIGHT_MLO.jpg', 'P_01056_RIGHT_CC.jpg', 'P_01056_RIGHT_MLO.jpg', 'P_01057_RIGHT_CC.jpg', 'P_01057_RIGHT_MLO.jpg', 'P_01058_LEFT_CC.jpg', 'P_01058_LEFT_MLO.jpg', 'P_01059_LEFT_CC.jpg', 'P_01059_LEFT_MLO.jpg', 'P_01060_RIGHT_CC.jpg', 'P_01060_RIGHT_MLO.jpg', 'P_01062_RIGHT_CC.jpg', 'P_01062_RIGHT_MLO.jpg', 'P_01063_RIGHT_MLO.jpg', 'P_01064_LEFT_MLO.jpg', 'P_01065_LEFT_CC.jpg', 'P_01065_LEFT_MLO.jpg', 'P_01066_RIGHT_CC.jpg', 'P_01066_RIGHT_MLO.jpg', 'P_01067_LEFT_CC.jpg', 'P_01067_LEFT_MLO.jpg', 'P_01068_RIGHT_MLO.jpg', 'P_01069_LEFT_CC.jpg', 'P_01069_LEFT_MLO.jpg', 'P_01069_RIGHT_CC.jpg', 'P_01069_RIGHT_MLO.jpg', 'P_01070_LEFT_CC.jpg', 'P_01070_LEFT_MLO.jpg', 'P_01071_LEFT_CC.jpg', 'P_01071_LEFT_MLO.jpg', 'P_01072_LEFT_CC.jpg', 'P_01072_LEFT_MLO.jpg', 'P_01073_RIGHT_CC.jpg', 'P_01073_RIGHT_MLO.jpg', 'P_01076_RIGHT_CC.jpg', 'P_01076_RIGHT_MLO.jpg', 'P_01077_LEFT_CC.jpg', 'P_01079_RIGHT_CC.jpg', 'P_01079_RIGHT_MLO.jpg', 'P_01082_RIGHT_MLO.jpg', 'P_01083_RIGHT_MLO.jpg', 'P_01084_LEFT_CC.jpg', 'P_01084_LEFT_MLO.jpg', 'P_01086_LEFT_MLO.jpg', 'P_01087_LEFT_CC.jpg', 'P_01088_LEFT_CC.jpg', 'P_01088_LEFT_MLO.jpg', 'P_01090_LEFT_CC.jpg', 'P_01090_LEFT_MLO.jpg', 'P_01090_RIGHT_MLO.jpg', 'P_01091_RIGHT_MLO.jpg', 'P_01092_LEFT_CC.jpg', 'P_01092_LEFT_MLO.jpg', 'P_01093_LEFT_CC.jpg', 'P_01093_LEFT_MLO.jpg', 'P_01094_RIGHT_CC.jpg', 'P_01094_RIGHT_MLO.jpg', 'P_01095_LEFT_CC.jpg', 'P_01095_LEFT_MLO.jpg', 'P_01097_LEFT_CC.jpg', 'P_01097_LEFT_MLO.jpg', 'P_01099_LEFT_CC.jpg', 'P_01099_LEFT_MLO.jpg', 'P_01099_RIGHT_CC.jpg', 'P_01099_RIGHT_MLO.jpg', 'P_01100_RIGHT_CC.jpg', 'P_01100_RIGHT_MLO.jpg', 'P_01101_LEFT_CC.jpg', 'P_01102_LEFT_CC.jpg', 'P_01102_LEFT_MLO.jpg', 'P_01103_RIGHT_CC.jpg', 'P_01103_RIGHT_MLO.jpg', 'P_01104_LEFT_MLO.jpg', 'P_01106_LEFT_MLO.jpg', 'P_01107_LEFT_CC.jpg', 'P_01108_LEFT_CC.jpg', 'P_01108_LEFT_MLO.jpg', 'P_01108_RIGHT_CC.jpg', 'P_01108_RIGHT_MLO.jpg', 'P_01109_LEFT_MLO.jpg', 'P_01110_RIGHT_CC.jpg', 'P_01111_RIGHT_CC.jpg', 'P_01111_RIGHT_MLO.jpg', 'P_01112_LEFT_CC.jpg', 'P_01112_LEFT_MLO.jpg', 'P_01114_RIGHT_MLO.jpg', 'P_01115_RIGHT_CC.jpg', 'P_01115_RIGHT_MLO.jpg', 'P_01116_LEFT_CC.jpg', 'P_01116_LEFT_MLO.jpg', 'P_01118_RIGHT_CC.jpg', 'P_01118_RIGHT_MLO.jpg', 'P_01119_LEFT_CC.jpg', 'P_01119_LEFT_MLO.jpg', 'P_01120_LEFT_CC.jpg', 'P_01120_LEFT_MLO.jpg', 'P_01121_RIGHT_CC.jpg', 'P_01122_LEFT_MLO.jpg', 'P_01123_LEFT_CC.jpg', 'P_01123_LEFT_MLO.jpg', 'P_01124_RIGHT_CC.jpg', 'P_01124_RIGHT_MLO.jpg', 'P_01126_LEFT_CC.jpg', 'P_01126_LEFT_MLO.jpg', 'P_01127_RIGHT_CC.jpg', 'P_01127_RIGHT_MLO.jpg', 'P_01128_RIGHT_CC.jpg', 'P_01128_RIGHT_MLO.jpg', 'P_01129_RIGHT_CC.jpg', 'P_01129_RIGHT_MLO.jpg', 'P_01130_RIGHT_CC.jpg', 'P_01130_RIGHT_MLO.jpg', 'P_01131_LEFT_CC.jpg', 'P_01131_LEFT_MLO.jpg', 'P_01132_RIGHT_MLO.jpg', 'P_01133_RIGHT_CC.jpg', 'P_01134_RIGHT_CC.jpg', 'P_01134_RIGHT_MLO.jpg', 'P_01135_RIGHT_CC.jpg', 'P_01135_RIGHT_MLO.jpg', 'P_01136_RIGHT_CC.jpg', 'P_01136_RIGHT_MLO.jpg', 'P_01137_LEFT_CC.jpg', 'P_01137_LEFT_MLO.jpg', 'P_01138_RIGHT_CC.jpg', 'P_01138_RIGHT_MLO.jpg', 'P_01139_RIGHT_CC.jpg', 'P_01139_RIGHT_MLO.jpg', 'P_01140_LEFT_CC.jpg', 'P_01140_LEFT_MLO.jpg', 'P_01142_RIGHT_CC.jpg', 'P_01142_RIGHT_MLO.jpg', 'P_01143_RIGHT_CC.jpg', 'P_01144_LEFT_CC.jpg', 'P_01144_LEFT_MLO.jpg', 'P_01145_LEFT_MLO.jpg', 'P_01146_LEFT_CC.jpg', 'P_01148_RIGHT_MLO.jpg', 'P_01149_RIGHT_CC.jpg', 'P_01149_RIGHT_MLO.jpg', 'P_01150_LEFT_CC.jpg', 'P_01150_LEFT_MLO.jpg', 'P_01151_RIGHT_CC.jpg', 'P_01151_RIGHT_MLO.jpg', 'P_01152_RIGHT_CC.jpg', 'P_01152_RIGHT_MLO.jpg', 'P_01153_RIGHT_CC.jpg', 'P_01154_LEFT_CC.jpg', 'P_01154_LEFT_MLO.jpg', 'P_01155_RIGHT_CC.jpg', 'P_01155_RIGHT_MLO.jpg', 'P_01156_LEFT_CC.jpg', 'P_01156_LEFT_MLO.jpg', 'P_01156_RIGHT_CC.jpg', 'P_01156_RIGHT_MLO.jpg', 'P_01157_RIGHT_CC.jpg', 'P_01157_RIGHT_MLO.jpg', 'P_01158_RIGHT_CC.jpg', 'P_01158_RIGHT_MLO.jpg', 'P_01159_LEFT_CC.jpg', 'P_01159_LEFT_MLO.jpg', 'P_01160_LEFT_CC.jpg', 'P_01160_LEFT_MLO.jpg', 'P_01160_RIGHT_CC.jpg', 'P_01160_RIGHT_MLO.jpg', 'P_01161_LEFT_CC.jpg', 'P_01161_LEFT_MLO.jpg', 'P_01162_LEFT_CC.jpg', 'P_01162_LEFT_MLO.jpg', 'P_01163_LEFT_CC.jpg', 'P_01163_LEFT_MLO.jpg', 'P_01164_RIGHT_CC.jpg', 'P_01164_RIGHT_MLO.jpg', 'P_01165_LEFT_CC.jpg', 'P_01165_LEFT_MLO.jpg', 'P_01165_RIGHT_CC.jpg', 'P_01166_RIGHT_CC.jpg', 'P_01166_RIGHT_MLO.jpg', 'P_01167_LEFT_MLO.jpg', 'P_01169_LEFT_CC.jpg', 'P_01169_LEFT_MLO.jpg', 'P_01170_RIGHT_CC.jpg', 'P_01170_RIGHT_MLO.jpg', 'P_01171_LEFT_CC.jpg', 'P_01171_LEFT_MLO.jpg', 'P_01172_LEFT_CC.jpg', 'P_01172_LEFT_MLO.jpg', 'P_01173_RIGHT_CC.jpg', 'P_01173_RIGHT_MLO.jpg', 'P_01175_LEFT_MLO.jpg', 'P_01175_RIGHT_CC.jpg', 'P_01175_RIGHT_MLO.jpg', 'P_01178_RIGHT_CC.jpg', 'P_01178_RIGHT_MLO.jpg', 'P_01179_LEFT_CC.jpg', 'P_01179_LEFT_MLO.jpg', 'P_01180_LEFT_CC.jpg', 'P_01180_LEFT_MLO.jpg', 'P_01181_LEFT_CC.jpg', 'P_01181_LEFT_MLO.jpg', 'P_01182_LEFT_CC.jpg', 'P_01182_LEFT_MLO.jpg', 'P_01183_LEFT_CC.jpg', 'P_01183_LEFT_MLO.jpg', 'P_01184_LEFT_CC.jpg', 'P_01184_LEFT_MLO.jpg', 'P_01185_RIGHT_CC.jpg', 'P_01185_RIGHT_MLO.jpg', 'P_01186_LEFT_CC.jpg', 'P_01186_LEFT_MLO.jpg', 'P_01187_LEFT_MLO.jpg', 'P_01188_RIGHT_CC.jpg', 'P_01188_RIGHT_MLO.jpg', 'P_01189_LEFT_CC.jpg', 'P_01189_LEFT_MLO.jpg', 'P_01190_LEFT_CC.jpg', 'P_01190_LEFT_MLO.jpg', 'P_01192_LEFT_CC.jpg', 'P_01192_LEFT_MLO.jpg', 'P_01193_LEFT_CC.jpg', 'P_01194_LEFT_MLO.jpg', 'P_01196_LEFT_MLO.jpg', 'P_01197_LEFT_CC.jpg', 'P_01197_LEFT_MLO.jpg', 'P_01198_RIGHT_CC.jpg', 'P_01198_RIGHT_MLO.jpg', 'P_01200_LEFT_CC.jpg', 'P_01200_LEFT_MLO.jpg', 'P_01200_RIGHT_MLO.jpg', 'P_01201_LEFT_CC.jpg', 'P_01201_LEFT_MLO.jpg', 'P_01203_RIGHT_CC.jpg', 'P_01203_RIGHT_MLO.jpg', 'P_01204_RIGHT_CC.jpg', 'P_01204_RIGHT_MLO.jpg', 'P_01205_RIGHT_CC.jpg', 'P_01205_RIGHT_MLO.jpg', 'P_01206_RIGHT_CC.jpg', 'P_01206_RIGHT_MLO.jpg', 'P_01207_RIGHT_MLO.jpg', 'P_01209_LEFT_CC.jpg', 'P_01210_RIGHT_MLO.jpg', 'P_01211_LEFT_CC.jpg', 'P_01211_LEFT_MLO.jpg', 'P_01211_RIGHT_CC.jpg', 'P_01211_RIGHT_MLO.jpg', 'P_01212_RIGHT_CC.jpg', 'P_01212_RIGHT_MLO.jpg', 'P_01213_LEFT_CC.jpg', 'P_01213_LEFT_MLO.jpg', 'P_01215_RIGHT_CC.jpg', 'P_01215_RIGHT_MLO.jpg', 'P_01216_RIGHT_CC.jpg', 'P_01216_RIGHT_MLO.jpg', 'P_01217_RIGHT_CC.jpg', 'P_01217_RIGHT_MLO.jpg', 'P_01218_RIGHT_CC.jpg', 'P_01218_RIGHT_MLO.jpg', 'P_01219_LEFT_CC.jpg', 'P_01219_LEFT_MLO.jpg', 'P_01220_RIGHT_CC.jpg', 'P_01220_RIGHT_MLO.jpg', 'P_01221_LEFT_CC.jpg', 'P_01221_LEFT_MLO.jpg', 'P_01222_LEFT_MLO.jpg', 'P_01224_RIGHT_CC.jpg', 'P_01224_RIGHT_MLO.jpg', 'P_01225_RIGHT_CC.jpg', 'P_01225_RIGHT_MLO.jpg', 'P_01226_LEFT_MLO.jpg', 'P_01227_RIGHT_CC.jpg', 'P_01227_RIGHT_MLO.jpg', 'P_01229_RIGHT_CC.jpg', 'P_01229_RIGHT_MLO.jpg', 'P_01230_LEFT_MLO.jpg', 'P_01231_LEFT_CC.jpg', 'P_01231_LEFT_MLO.jpg', 'P_01232_RIGHT_CC.jpg', 'P_01232_RIGHT_MLO.jpg', 'P_01233_LEFT_CC.jpg', 'P_01233_LEFT_MLO.jpg', 'P_01234_RIGHT_CC.jpg', 'P_01234_RIGHT_MLO.jpg', 'P_01235_RIGHT_MLO.jpg', 'P_01237_LEFT_CC.jpg', 'P_01237_LEFT_MLO.jpg', 'P_01237_RIGHT_MLO.jpg', 'P_01238_RIGHT_CC.jpg', 'P_01238_RIGHT_MLO.jpg', 'P_01239_RIGHT_CC.jpg', 'P_01240_RIGHT_MLO.jpg', 'P_01241_RIGHT_MLO.jpg', 'P_01243_LEFT_CC.jpg', 'P_01243_LEFT_MLO.jpg', 'P_01246_RIGHT_MLO.jpg', 'P_01248_LEFT_CC.jpg', 'P_01248_LEFT_MLO.jpg', 'P_01249_LEFT_CC.jpg', 'P_01249_LEFT_MLO.jpg', 'P_01250_LEFT_CC.jpg', 'P_01250_LEFT_MLO.jpg', 'P_01250_RIGHT_CC.jpg', 'P_01250_RIGHT_MLO.jpg', 'P_01251_LEFT_CC.jpg', 'P_01251_LEFT_MLO.jpg', 'P_01252_RIGHT_CC.jpg', 'P_01252_RIGHT_MLO.jpg', 'P_01253_RIGHT_CC.jpg', 'P_01253_RIGHT_MLO.jpg', 'P_01254_RIGHT_CC.jpg', 'P_01254_RIGHT_MLO.jpg', 'P_01255_RIGHT_CC.jpg', 'P_01255_RIGHT_MLO.jpg', 'P_01256_RIGHT_CC.jpg', 'P_01256_RIGHT_MLO.jpg', 'P_01257_RIGHT_CC.jpg', 'P_01257_RIGHT_MLO.jpg', 'P_01258_LEFT_CC.jpg', 'P_01259_RIGHT_CC.jpg', 'P_01259_RIGHT_MLO.jpg', 'P_01260_LEFT_MLO.jpg', 'P_01261_LEFT_CC.jpg', 'P_01261_LEFT_MLO.jpg', 'P_01262_RIGHT_CC.jpg', 'P_01262_RIGHT_MLO.jpg', 'P_01264_LEFT_MLO.jpg', 'P_01264_RIGHT_MLO.jpg', 'P_01265_RIGHT_CC.jpg', 'P_01265_RIGHT_MLO.jpg', 'P_01267_RIGHT_MLO.jpg', 'P_01268_RIGHT_CC.jpg', 'P_01268_RIGHT_MLO.jpg', 'P_01270_LEFT_CC.jpg', 'P_01270_LEFT_MLO.jpg', 'P_01270_RIGHT_CC.jpg', 'P_01270_RIGHT_MLO.jpg', 'P_01271_RIGHT_CC.jpg', 'P_01271_RIGHT_MLO.jpg', 'P_01272_LEFT_CC.jpg', 'P_01272_LEFT_MLO.jpg', 'P_01273_RIGHT_CC.jpg', 'P_01273_RIGHT_MLO.jpg', 'P_01274_LEFT_CC.jpg', 'P_01274_LEFT_MLO.jpg', 'P_01274_RIGHT_CC.jpg', 'P_01274_RIGHT_MLO.jpg', 'P_01275_LEFT_CC.jpg', 'P_01275_LEFT_MLO.jpg', 'P_01276_LEFT_CC.jpg', 'P_01276_LEFT_MLO.jpg', 'P_01276_RIGHT_CC.jpg', 'P_01276_RIGHT_MLO.jpg', 'P_01277_RIGHT_CC.jpg', 'P_01277_RIGHT_MLO.jpg', 'P_01279_LEFT_CC.jpg', 'P_01280_RIGHT_CC.jpg', 'P_01280_RIGHT_MLO.jpg', 'P_01281_RIGHT_MLO.jpg', 'P_01283_RIGHT_MLO.jpg', 'P_01284_RIGHT_MLO.jpg', 'P_01285_RIGHT_CC.jpg', 'P_01285_RIGHT_MLO.jpg', 'P_01286_LEFT_CC.jpg', 'P_01286_LEFT_MLO.jpg', 'P_01288_RIGHT_MLO.jpg', 'P_01290_RIGHT_CC.jpg', 'P_01291_RIGHT_CC.jpg', 'P_01291_RIGHT_MLO.jpg', 'P_01292_RIGHT_CC.jpg', 'P_01292_RIGHT_MLO.jpg', 'P_01293_RIGHT_CC.jpg', 'P_01293_RIGHT_MLO.jpg', 'P_01294_RIGHT_CC.jpg', 'P_01294_RIGHT_MLO.jpg', 'P_01296_RIGHT_CC.jpg', 'P_01296_RIGHT_MLO.jpg', 'P_01297_LEFT_CC.jpg', 'P_01297_LEFT_MLO.jpg', 'P_01298_LEFT_CC.jpg', 'P_01298_LEFT_MLO.jpg', 'P_01299_LEFT_MLO.jpg', 'P_01300_LEFT_CC.jpg', 'P_01300_LEFT_MLO.jpg', 'P_01301_RIGHT_CC.jpg', 'P_01301_RIGHT_MLO.jpg', 'P_01302_RIGHT_CC.jpg', 'P_01302_RIGHT_MLO.jpg', 'P_01303_LEFT_CC.jpg', 'P_01303_LEFT_MLO.jpg', 'P_01304_RIGHT_CC.jpg', 'P_01304_RIGHT_MLO.jpg', 'P_01305_LEFT_CC.jpg', 'P_01305_LEFT_MLO.jpg', 'P_01306_LEFT_CC.jpg', 'P_01306_LEFT_MLO.jpg', 'P_01306_RIGHT_CC.jpg', 'P_01306_RIGHT_MLO.jpg', 'P_01307_LEFT_CC.jpg', 'P_01307_LEFT_MLO.jpg', 'P_01307_RIGHT_CC.jpg', 'P_01307_RIGHT_MLO.jpg', 'P_01308_LEFT_MLO.jpg', 'P_01309_RIGHT_CC.jpg', 'P_01309_RIGHT_MLO.jpg', 'P_01312_LEFT_CC.jpg', 'P_01313_LEFT_CC.jpg', 'P_01313_LEFT_MLO.jpg', 'P_01314_LEFT_CC.jpg', 'P_01314_LEFT_MLO.jpg', 'P_01315_LEFT_CC.jpg', 'P_01315_LEFT_MLO.jpg', 'P_01316_RIGHT_CC.jpg', 'P_01316_RIGHT_MLO.jpg', 'P_01317_RIGHT_MLO.jpg', 'P_01318_LEFT_MLO.jpg', 'P_01319_RIGHT_CC.jpg', 'P_01319_RIGHT_MLO.jpg', 'P_01320_LEFT_MLO.jpg', 'P_01321_RIGHT_CC.jpg', 'P_01321_RIGHT_MLO.jpg', 'P_01322_RIGHT_CC.jpg', 'P_01322_RIGHT_MLO.jpg', 'P_01323_LEFT_CC.jpg', 'P_01323_LEFT_MLO.jpg', 'P_01324_LEFT_CC.jpg', 'P_01324_LEFT_MLO.jpg', 'P_01325_RIGHT_MLO.jpg', 'P_01326_LEFT_CC.jpg', 'P_01326_LEFT_MLO.jpg', 'P_01327_LEFT_MLO.jpg', 'P_01328_LEFT_CC.jpg', 'P_01328_LEFT_MLO.jpg', 'P_01330_RIGHT_MLO.jpg', 'P_01331_LEFT_CC.jpg', 'P_01331_LEFT_MLO.jpg', 'P_01332_RIGHT_CC.jpg', 'P_01332_RIGHT_MLO.jpg', 'P_01333_LEFT_CC.jpg', 'P_01333_LEFT_MLO.jpg', 'P_01334_RIGHT_CC.jpg', 'P_01334_RIGHT_MLO.jpg', 'P_01336_LEFT_CC.jpg', 'P_01336_LEFT_MLO.jpg', 'P_01336_RIGHT_CC.jpg', 'P_01336_RIGHT_MLO.jpg', 'P_01337_LEFT_CC.jpg', 'P_01337_LEFT_MLO.jpg', 'P_01338_LEFT_CC.jpg', 'P_01338_LEFT_MLO.jpg', 'P_01339_LEFT_CC.jpg', 'P_01339_LEFT_MLO.jpg', 'P_01340_LEFT_CC.jpg', 'P_01342_LEFT_CC.jpg', 'P_01342_LEFT_MLO.jpg', 'P_01343_LEFT_CC.jpg', 'P_01343_LEFT_MLO.jpg', 'P_01345_LEFT_CC.jpg', 'P_01346_LEFT_CC.jpg', 'P_01346_LEFT_MLO.jpg', 'P_01347_RIGHT_CC.jpg', 'P_01347_RIGHT_MLO.jpg', 'P_01348_LEFT_MLO.jpg', 'P_01349_LEFT_MLO.jpg', 'P_01350_RIGHT_CC.jpg', 'P_01350_RIGHT_MLO.jpg', 'P_01351_LEFT_CC.jpg', 'P_01352_LEFT_CC.jpg', 'P_01353_LEFT_CC.jpg', 'P_01353_LEFT_MLO.jpg', 'P_01354_RIGHT_MLO.jpg', 'P_01355_LEFT_MLO.jpg', 'P_01356_LEFT_CC.jpg', 'P_01356_LEFT_MLO.jpg', 'P_01357_LEFT_MLO.jpg', 'P_01358_RIGHT_CC.jpg', 'P_01358_RIGHT_MLO.jpg', 'P_01359_LEFT_CC.jpg', 'P_01359_LEFT_MLO.jpg', 'P_01360_LEFT_CC.jpg', 'P_01360_LEFT_MLO.jpg', 'P_01361_LEFT_CC.jpg', 'P_01361_LEFT_MLO.jpg', 'P_01362_LEFT_MLO.jpg', 'P_01362_RIGHT_CC.jpg', 'P_01362_RIGHT_MLO.jpg', 'P_01363_RIGHT_CC.jpg', 'P_01363_RIGHT_MLO.jpg', 'P_01364_LEFT_CC.jpg', 'P_01364_LEFT_MLO.jpg', 'P_01365_LEFT_CC.jpg', 'P_01365_LEFT_MLO.jpg', 'P_01366_LEFT_MLO.jpg', 'P_01367_LEFT_MLO.jpg', 'P_01369_RIGHT_MLO.jpg', 'P_01370_LEFT_CC.jpg', 'P_01370_LEFT_MLO.jpg', 'P_01371_RIGHT_CC.jpg', 'P_01371_RIGHT_MLO.jpg', 'P_01373_RIGHT_CC.jpg', 'P_01373_RIGHT_MLO.jpg', 'P_01374_RIGHT_CC.jpg', 'P_01374_RIGHT_MLO.jpg', 'P_01375_LEFT_CC.jpg', 'P_01375_LEFT_MLO.jpg', 'P_01378_LEFT_CC.jpg', 'P_01378_RIGHT_CC.jpg', 'P_01378_RIGHT_MLO.jpg', 'P_01379_LEFT_CC.jpg', 'P_01379_LEFT_MLO.jpg', 'P_01381_RIGHT_CC.jpg', 'P_01381_RIGHT_MLO.jpg', 'P_01382_LEFT_CC.jpg', 'P_01382_LEFT_MLO.jpg', 'P_01383_LEFT_CC.jpg', 'P_01383_LEFT_MLO.jpg', 'P_01384_LEFT_MLO.jpg', 'P_01385_RIGHT_CC.jpg', 'P_01385_RIGHT_MLO.jpg', 'P_01386_LEFT_CC.jpg', 'P_01387_LEFT_CC.jpg', 'P_01387_LEFT_MLO.jpg', 'P_01388_LEFT_CC.jpg', 'P_01388_LEFT_MLO.jpg', 'P_01389_RIGHT_CC.jpg', 'P_01389_RIGHT_MLO.jpg', 'P_01390_RIGHT_CC.jpg', 'P_01390_RIGHT_MLO.jpg', 'P_01391_LEFT_CC.jpg', 'P_01392_LEFT_CC.jpg', 'P_01392_LEFT_MLO.jpg', 'P_01394_LEFT_CC.jpg', 'P_01394_LEFT_MLO.jpg', 'P_01394_RIGHT_CC.jpg', 'P_01394_RIGHT_MLO.jpg', 'P_01395_RIGHT_CC.jpg', 'P_01395_RIGHT_MLO.jpg', 'P_01397_LEFT_CC.jpg', 'P_01397_LEFT_MLO.jpg', 'P_01398_LEFT_CC.jpg', 'P_01398_LEFT_MLO.jpg', 'P_01399_RIGHT_CC.jpg', 'P_01399_RIGHT_MLO.jpg', 'P_01400_LEFT_CC.jpg', 'P_01400_LEFT_MLO.jpg', 'P_01401_LEFT_CC.jpg', 'P_01401_LEFT_MLO.jpg', 'P_01402_RIGHT_MLO.jpg', 'P_01405_RIGHT_CC.jpg', 'P_01405_RIGHT_MLO.jpg', 'P_01406_LEFT_MLO.jpg', 'P_01406_RIGHT_CC.jpg', 'P_01406_RIGHT_MLO.jpg', 'P_01407_LEFT_CC.jpg', 'P_01407_LEFT_MLO.jpg', 'P_01407_RIGHT_CC.jpg', 'P_01407_RIGHT_MLO.jpg', 'P_01408_LEFT_CC.jpg', 'P_01408_LEFT_MLO.jpg', 'P_01409_LEFT_CC.jpg', 'P_01409_LEFT_MLO.jpg', 'P_01409_RIGHT_CC.jpg', 'P_01409_RIGHT_MLO.jpg', 'P_01410_LEFT_CC.jpg', 'P_01410_LEFT_MLO.jpg', 'P_01411_RIGHT_MLO.jpg', 'P_01412_LEFT_CC.jpg', 'P_01412_LEFT_MLO.jpg', 'P_01413_RIGHT_CC.jpg', 'P_01413_RIGHT_MLO.jpg', 'P_01414_RIGHT_CC.jpg', 'P_01414_RIGHT_MLO.jpg', 'P_01415_RIGHT_MLO.jpg', 'P_01416_RIGHT_CC.jpg', 'P_01416_RIGHT_MLO.jpg', 'P_01417_RIGHT_MLO.jpg', 'P_01418_RIGHT_CC.jpg', 'P_01418_RIGHT_MLO.jpg', 'P_01419_LEFT_CC.jpg', 'P_01419_LEFT_MLO.jpg', 'P_01420_RIGHT_CC.jpg', 'P_01420_RIGHT_MLO.jpg', 'P_01422_RIGHT_CC.jpg', 'P_01422_RIGHT_MLO.jpg', 'P_01423_RIGHT_CC.jpg', 'P_01423_RIGHT_MLO.jpg', 'P_01424_LEFT_CC.jpg', 'P_01424_LEFT_MLO.jpg', 'P_01425_LEFT_CC.jpg', 'P_01425_LEFT_MLO.jpg', 'P_01426_RIGHT_CC.jpg', 'P_01426_RIGHT_MLO.jpg', 'P_01427_LEFT_MLO.jpg', 'P_01430_RIGHT_MLO.jpg', 'P_01431_LEFT_MLO.jpg', 'P_01433_LEFT_CC.jpg', 'P_01433_LEFT_MLO.jpg', 'P_01434_LEFT_CC.jpg', 'P_01434_LEFT_MLO.jpg', 'P_01435_RIGHT_CC.jpg', 'P_01435_RIGHT_MLO.jpg', 'P_01436_RIGHT_CC.jpg', 'P_01436_RIGHT_MLO.jpg', 'P_01437_LEFT_CC.jpg', 'P_01437_LEFT_MLO.jpg', 'P_01437_RIGHT_CC.jpg', 'P_01437_RIGHT_MLO.jpg', 'P_01438_LEFT_MLO.jpg', 'P_01439_LEFT_CC.jpg', 'P_01439_LEFT_MLO.jpg', 'P_01440_LEFT_CC.jpg', 'P_01440_LEFT_MLO.jpg', 'P_01440_RIGHT_CC.jpg', 'P_01440_RIGHT_MLO.jpg', 'P_01441_RIGHT_CC.jpg', 'P_01441_RIGHT_MLO.jpg', 'P_01442_RIGHT_CC.jpg', 'P_01442_RIGHT_MLO.jpg', 'P_01443_RIGHT_CC.jpg', 'P_01443_RIGHT_MLO.jpg', 'P_01444_RIGHT_MLO.jpg', 'P_01445_RIGHT_CC.jpg', 'P_01445_RIGHT_MLO.jpg', 'P_01446_LEFT_MLO.jpg', 'P_01447_RIGHT_CC.jpg', 'P_01447_RIGHT_MLO.jpg', 'P_01451_RIGHT_CC.jpg', 'P_01451_RIGHT_MLO.jpg', 'P_01452_RIGHT_CC.jpg', 'P_01453_LEFT_MLO.jpg', 'P_01454_LEFT_MLO.jpg', 'P_01455_RIGHT_CC.jpg', 'P_01455_RIGHT_MLO.jpg', 'P_01456_LEFT_CC.jpg', 'P_01456_LEFT_MLO.jpg', 'P_01457_LEFT_CC.jpg', 'P_01457_LEFT_MLO.jpg', 'P_01457_RIGHT_CC.jpg', 'P_01457_RIGHT_MLO.jpg', 'P_01458_LEFT_CC.jpg', 'P_01458_LEFT_MLO.jpg', 'P_01459_LEFT_CC.jpg', 'P_01459_LEFT_MLO.jpg', 'P_01460_LEFT_CC.jpg', 'P_01460_LEFT_MLO.jpg', 'P_01460_RIGHT_CC.jpg', 'P_01460_RIGHT_MLO.jpg', 'P_01461_RIGHT_CC.jpg', 'P_01461_RIGHT_MLO.jpg', 'P_01462_LEFT_CC.jpg', 'P_01462_LEFT_MLO.jpg', 'P_01465_LEFT_MLO.jpg', 'P_01467_RIGHT_CC.jpg', 'P_01467_RIGHT_MLO.jpg', 'P_01471_RIGHT_CC.jpg', 'P_01471_RIGHT_MLO.jpg', 'P_01472_RIGHT_MLO.jpg', 'P_01473_RIGHT_MLO.jpg', 'P_01474_RIGHT_CC.jpg', 'P_01474_RIGHT_MLO.jpg', 'P_01475_LEFT_CC.jpg', 'P_01475_LEFT_MLO.jpg', 'P_01476_RIGHT_CC.jpg', 'P_01476_RIGHT_MLO.jpg', 'P_01477_LEFT_CC.jpg', 'P_01478_RIGHT_CC.jpg', 'P_01478_RIGHT_MLO.jpg', 'P_01481_RIGHT_CC.jpg', 'P_01481_RIGHT_MLO.jpg', 'P_01482_RIGHT_CC.jpg', 'P_01482_RIGHT_MLO.jpg', 'P_01483_LEFT_CC.jpg', 'P_01483_LEFT_MLO.jpg', 'P_01484_RIGHT_MLO.jpg', 'P_01485_LEFT_CC.jpg', 'P_01485_LEFT_MLO.jpg', 'P_01486_RIGHT_CC.jpg', 'P_01486_RIGHT_MLO.jpg', 'P_01487_RIGHT_MLO.jpg', 'P_01488_LEFT_CC.jpg', 'P_01488_LEFT_MLO.jpg', 'P_01489_RIGHT_MLO.jpg', 'P_01490_LEFT_CC.jpg', 'P_01490_LEFT_MLO.jpg', 'P_01491_RIGHT_MLO.jpg', 'P_01493_RIGHT_CC.jpg', 'P_01494_LEFT_CC.jpg', 'P_01494_LEFT_MLO.jpg', 'P_01495_RIGHT_MLO.jpg', 'P_01497_LEFT_CC.jpg', 'P_01497_LEFT_MLO.jpg', 'P_01497_RIGHT_MLO.jpg', 'P_01498_RIGHT_MLO.jpg', 'P_01499_RIGHT_CC.jpg', 'P_01499_RIGHT_MLO.jpg', 'P_01501_RIGHT_CC.jpg', 'P_01501_RIGHT_MLO.jpg', 'P_01502_LEFT_CC.jpg', 'P_01502_LEFT_MLO.jpg', 'P_01503_LEFT_CC.jpg', 'P_01503_LEFT_MLO.jpg', 'P_01504_LEFT_CC.jpg', 'P_01504_LEFT_MLO.jpg', 'P_01505_RIGHT_CC.jpg', 'P_01505_RIGHT_MLO.jpg', 'P_01506_LEFT_CC.jpg', 'P_01506_LEFT_MLO.jpg', 'P_01508_LEFT_MLO.jpg', 'P_01509_RIGHT_CC.jpg', 'P_01509_RIGHT_MLO.jpg', 'P_01510_RIGHT_CC.jpg', 'P_01510_RIGHT_MLO.jpg', 'P_01512_LEFT_CC.jpg', 'P_01512_LEFT_MLO.jpg', 'P_01513_LEFT_CC.jpg', 'P_01513_LEFT_MLO.jpg', 'P_01514_LEFT_CC.jpg', 'P_01514_LEFT_MLO.jpg', 'P_01516_RIGHT_CC.jpg', 'P_01516_RIGHT_MLO.jpg', 'P_01517_LEFT_MLO.jpg', 'P_01518_LEFT_CC.jpg', 'P_01518_LEFT_MLO.jpg', 'P_01522_RIGHT_CC.jpg', 'P_01522_RIGHT_MLO.jpg', 'P_01523_LEFT_MLO.jpg', 'P_01524_LEFT_CC.jpg', 'P_01524_LEFT_MLO.jpg', 'P_01526_RIGHT_CC.jpg', 'P_01526_RIGHT_MLO.jpg', 'P_01529_RIGHT_CC.jpg', 'P_01529_RIGHT_MLO.jpg', 'P_01531_RIGHT_MLO.jpg', 'P_01532_LEFT_CC.jpg', 'P_01532_LEFT_MLO.jpg', 'P_01534_LEFT_MLO.jpg', 'P_01534_RIGHT_CC.jpg', 'P_01534_RIGHT_MLO.jpg', 'P_01535_LEFT_CC.jpg', 'P_01535_LEFT_MLO.jpg', 'P_01536_RIGHT_CC.jpg', 'P_01536_RIGHT_MLO.jpg', 'P_01537_RIGHT_CC.jpg', 'P_01538_RIGHT_MLO.jpg', 'P_01539_RIGHT_CC.jpg', 'P_01539_RIGHT_MLO.jpg', 'P_01540_LEFT_CC.jpg', 'P_01540_LEFT_MLO.jpg', 'P_01543_RIGHT_CC.jpg', 'P_01543_RIGHT_MLO.jpg', 'P_01544_RIGHT_CC.jpg', 'P_01544_RIGHT_MLO.jpg', 'P_01545_RIGHT_CC.jpg', 'P_01545_RIGHT_MLO.jpg', 'P_01546_LEFT_CC.jpg', 'P_01546_LEFT_MLO.jpg', 'P_01547_LEFT_CC.jpg', 'P_01547_LEFT_MLO.jpg', 'P_01548_LEFT_CC.jpg', 'P_01548_LEFT_MLO.jpg', 'P_01549_LEFT_CC.jpg', 'P_01549_LEFT_MLO.jpg', 'P_01551_LEFT_CC.jpg', 'P_01551_LEFT_MLO.jpg', 'P_01553_RIGHT_MLO.jpg', 'P_01556_LEFT_CC.jpg', 'P_01557_RIGHT_CC.jpg', 'P_01557_RIGHT_MLO.jpg', 'P_01558_RIGHT_CC.jpg', 'P_01558_RIGHT_MLO.jpg', 'P_01559_RIGHT_MLO.jpg', 'P_01560_RIGHT_CC.jpg', 'P_01560_RIGHT_MLO.jpg', 'P_01561_LEFT_CC.jpg', 'P_01561_LEFT_MLO.jpg', 'P_01562_LEFT_CC.jpg', 'P_01562_LEFT_MLO.jpg', 'P_01563_LEFT_CC.jpg', 'P_01563_LEFT_MLO.jpg', 'P_01563_RIGHT_CC.jpg', 'P_01563_RIGHT_MLO.jpg', 'P_01564_RIGHT_MLO.jpg', 'P_01565_RIGHT_CC.jpg', 'P_01565_RIGHT_MLO.jpg', 'P_01566_LEFT_CC.jpg', 'P_01566_LEFT_MLO.jpg', 'P_01566_RIGHT_CC.jpg', 'P_01566_RIGHT_MLO.jpg', 'P_01567_LEFT_CC.jpg', 'P_01567_LEFT_MLO.jpg', 'P_01569_RIGHT_CC.jpg', 'P_01569_RIGHT_MLO.jpg', 'P_01570_RIGHT_CC.jpg', 'P_01570_RIGHT_MLO.jpg', 'P_01571_RIGHT_CC.jpg', 'P_01571_RIGHT_MLO.jpg', 'P_01572_RIGHT_CC.jpg', 'P_01572_RIGHT_MLO.jpg', 'P_01573_RIGHT_CC.jpg', 'P_01573_RIGHT_MLO.jpg', 'P_01574_RIGHT_CC.jpg', 'P_01574_RIGHT_MLO.jpg', 'P_01575_RIGHT_MLO.jpg', 'P_01576_RIGHT_CC.jpg', 'P_01576_RIGHT_MLO.jpg', 'P_01577_RIGHT_CC.jpg', 'P_01577_RIGHT_MLO.jpg', 'P_01578_LEFT_MLO.jpg', 'P_01579_RIGHT_CC.jpg', 'P_01579_RIGHT_MLO.jpg', 'P_01581_LEFT_CC.jpg', 'P_01581_LEFT_MLO.jpg', 'P_01582_LEFT_CC.jpg', 'P_01582_LEFT_MLO.jpg', 'P_01582_RIGHT_CC.jpg', 'P_01582_RIGHT_MLO.jpg', 'P_01583_RIGHT_MLO.jpg', 'P_01585_RIGHT_CC.jpg', 'P_01585_RIGHT_MLO.jpg', 'P_01589_LEFT_CC.jpg', 'P_01589_LEFT_MLO.jpg', 'P_01590_LEFT_CC.jpg', 'P_01590_LEFT_MLO.jpg', 'P_01591_LEFT_CC.jpg', 'P_01591_LEFT_MLO.jpg', 'P_01593_LEFT_CC.jpg', 'P_01593_LEFT_MLO.jpg', 'P_01595_LEFT_CC.jpg', 'P_01595_LEFT_MLO.jpg', 'P_01596_LEFT_CC.jpg', 'P_01596_LEFT_MLO.jpg', 'P_01596_RIGHT_MLO.jpg', 'P_01599_LEFT_CC.jpg', 'P_01599_LEFT_MLO.jpg', 'P_01600_RIGHT_CC.jpg', 'P_01600_RIGHT_MLO.jpg', 'P_01602_RIGHT_CC.jpg', 'P_01604_LEFT_CC.jpg', 'P_01604_LEFT_MLO.jpg', 'P_01605_LEFT_CC.jpg', 'P_01605_LEFT_MLO.jpg', 'P_01606_RIGHT_MLO.jpg', 'P_01608_RIGHT_CC.jpg', 'P_01608_RIGHT_MLO.jpg', 'P_01609_LEFT_CC.jpg', 'P_01609_LEFT_MLO.jpg', 'P_01610_RIGHT_MLO.jpg', 'P_01611_RIGHT_CC.jpg', 'P_01611_RIGHT_MLO.jpg', 'P_01612_LEFT_CC.jpg', 'P_01612_LEFT_MLO.jpg', 'P_01613_LEFT_CC.jpg', 'P_01613_LEFT_MLO.jpg', 'P_01614_LEFT_MLO.jpg', 'P_01616_RIGHT_CC.jpg', 'P_01616_RIGHT_MLO.jpg', 'P_01617_LEFT_CC.jpg', 'P_01617_LEFT_MLO.jpg', 'P_01619_LEFT_CC.jpg', 'P_01619_LEFT_MLO.jpg', 'P_01620_RIGHT_CC.jpg', 'P_01620_RIGHT_MLO.jpg', 'P_01621_LEFT_CC.jpg', 'P_01621_LEFT_MLO.jpg', 'P_01621_RIGHT_CC.jpg', 'P_01621_RIGHT_MLO.jpg', 'P_01623_RIGHT_CC.jpg', 'P_01623_RIGHT_MLO.jpg', 'P_01625_RIGHT_CC.jpg', 'P_01625_RIGHT_MLO.jpg', 'P_01626_LEFT_CC.jpg', 'P_01626_LEFT_MLO.jpg', 'P_01628_LEFT_CC.jpg', 'P_01628_LEFT_MLO.jpg', 'P_01628_RIGHT_CC.jpg', 'P_01628_RIGHT_MLO.jpg', 'P_01629_LEFT_CC.jpg', 'P_01629_LEFT_MLO.jpg', 'P_01630_RIGHT_MLO.jpg', 'P_01632_LEFT_CC.jpg', 'P_01632_LEFT_MLO.jpg', 'P_01632_RIGHT_CC.jpg', 'P_01632_RIGHT_MLO.jpg', 'P_01633_RIGHT_CC.jpg', 'P_01633_RIGHT_MLO.jpg', 'P_01634_LEFT_CC.jpg', 'P_01634_LEFT_MLO.jpg', 'P_01635_LEFT_CC.jpg', 'P_01635_LEFT_MLO.jpg', 'P_01635_RIGHT_CC.jpg', 'P_01635_RIGHT_MLO.jpg', 'P_01636_RIGHT_MLO.jpg', 'P_01637_LEFT_MLO.jpg', 'P_01638_RIGHT_CC.jpg', 'P_01638_RIGHT_MLO.jpg', 'P_01639_RIGHT_CC.jpg', 'P_01639_RIGHT_MLO.jpg', 'P_01640_LEFT_MLO.jpg', 'P_01641_LEFT_CC.jpg', 'P_01641_LEFT_MLO.jpg', 'P_01642_RIGHT_CC.jpg', 'P_01642_RIGHT_MLO.jpg', 'P_01643_LEFT_CC.jpg', 'P_01643_LEFT_MLO.jpg', 'P_01643_RIGHT_CC.jpg', 'P_01643_RIGHT_MLO.jpg', 'P_01644_LEFT_CC.jpg', 'P_01644_LEFT_MLO.jpg', 'P_01644_RIGHT_CC.jpg', 'P_01644_RIGHT_MLO.jpg', 'P_01645_RIGHT_CC.jpg', 'P_01646_LEFT_CC.jpg', 'P_01646_LEFT_MLO.jpg', 'P_01647_RIGHT_CC.jpg', 'P_01647_RIGHT_MLO.jpg', 'P_01649_LEFT_CC.jpg', 'P_01650_LEFT_CC.jpg', 'P_01650_LEFT_MLO.jpg', 'P_01651_RIGHT_CC.jpg', 'P_01651_RIGHT_MLO.jpg', 'P_01652_RIGHT_CC.jpg', 'P_01652_RIGHT_MLO.jpg', 'P_01653_RIGHT_MLO.jpg', 'P_01654_RIGHT_CC.jpg', 'P_01654_RIGHT_MLO.jpg', 'P_01655_RIGHT_CC.jpg', 'P_01655_RIGHT_MLO.jpg', 'P_01656_LEFT_CC.jpg', 'P_01656_LEFT_MLO.jpg', 'P_01659_LEFT_CC.jpg', 'P_01659_LEFT_MLO.jpg', 'P_01660_RIGHT_CC.jpg', 'P_01660_RIGHT_MLO.jpg', 'P_01661_LEFT_CC.jpg', 'P_01661_LEFT_MLO.jpg', 'P_01663_RIGHT_CC.jpg', 'P_01663_RIGHT_MLO.jpg', 'P_01664_LEFT_CC.jpg', 'P_01664_LEFT_MLO.jpg', 'P_01664_RIGHT_CC.jpg', 'P_01664_RIGHT_MLO.jpg', 'P_01666_RIGHT_CC.jpg', 'P_01666_RIGHT_MLO.jpg', 'P_01668_LEFT_CC.jpg', 'P_01668_LEFT_MLO.jpg', 'P_01669_LEFT_CC.jpg', 'P_01669_LEFT_MLO.jpg', 'P_01670_LEFT_CC.jpg', 'P_01670_LEFT_MLO.jpg', 'P_01671_LEFT_CC.jpg', 'P_01671_LEFT_MLO.jpg', 'P_01673_RIGHT_CC.jpg', 'P_01673_RIGHT_MLO.jpg', 'P_01674_LEFT_CC.jpg', 'P_01675_RIGHT_CC.jpg', 'P_01675_RIGHT_MLO.jpg', 'P_01676_RIGHT_MLO.jpg', 'P_01677_RIGHT_MLO.jpg', 'P_01678_RIGHT_CC.jpg', 'P_01678_RIGHT_MLO.jpg', 'P_01679_RIGHT_CC.jpg', 'P_01679_RIGHT_MLO.jpg', 'P_01680_LEFT_MLO.jpg', 'P_01682_LEFT_CC.jpg', 'P_01682_LEFT_MLO.jpg', 'P_01683_LEFT_CC.jpg', 'P_01684_LEFT_CC.jpg', 'P_01684_LEFT_MLO.jpg', 'P_01685_RIGHT_CC.jpg', 'P_01685_RIGHT_MLO.jpg', 'P_01686_RIGHT_CC.jpg', 'P_01686_RIGHT_MLO.jpg', 'P_01687_RIGHT_CC.jpg', 'P_01687_RIGHT_MLO.jpg', 'P_01688_RIGHT_MLO.jpg', 'P_01689_LEFT_MLO.jpg', 'P_01690_LEFT_CC.jpg', 'P_01690_LEFT_MLO.jpg', 'P_01691_RIGHT_CC.jpg', 'P_01691_RIGHT_MLO.jpg', 'P_01694_RIGHT_CC.jpg', 'P_01694_RIGHT_MLO.jpg', 'P_01697_LEFT_CC.jpg', 'P_01697_LEFT_MLO.jpg', 'P_01698_RIGHT_CC.jpg', 'P_01698_RIGHT_MLO.jpg', 'P_01700_LEFT_CC.jpg', 'P_01700_LEFT_MLO.jpg', 'P_01700_RIGHT_CC.jpg', 'P_01700_RIGHT_MLO.jpg', 'P_01701_LEFT_CC.jpg', 'P_01701_LEFT_MLO.jpg', 'P_01702_RIGHT_CC.jpg', 'P_01702_RIGHT_MLO.jpg', 'P_01703_RIGHT_MLO.jpg', 'P_01705_LEFT_CC.jpg', 'P_01705_LEFT_MLO.jpg', 'P_01709_RIGHT_CC.jpg', 'P_01709_RIGHT_MLO.jpg', 'P_01710_LEFT_CC.jpg', 'P_01710_LEFT_MLO.jpg', 'P_01711_RIGHT_CC.jpg', 'P_01711_RIGHT_MLO.jpg', 'P_01712_LEFT_CC.jpg', 'P_01712_LEFT_MLO.jpg', 'P_01712_RIGHT_CC.jpg', 'P_01712_RIGHT_MLO.jpg', 'P_01713_RIGHT_MLO.jpg', 'P_01714_RIGHT_CC.jpg', 'P_01714_RIGHT_MLO.jpg', 'P_01715_RIGHT_CC.jpg', 'P_01715_RIGHT_MLO.jpg', 'P_01716_RIGHT_CC.jpg', 'P_01716_RIGHT_MLO.jpg', 'P_01717_LEFT_CC.jpg', 'P_01717_LEFT_MLO.jpg', 'P_01718_RIGHT_MLO.jpg', 'P_01719_RIGHT_CC.jpg', 'P_01719_RIGHT_MLO.jpg', 'P_01720_RIGHT_CC.jpg', 'P_01720_RIGHT_MLO.jpg', 'P_01721_RIGHT_CC.jpg', 'P_01723_RIGHT_CC.jpg', 'P_01723_RIGHT_MLO.jpg', 'P_01724_LEFT_CC.jpg', 'P_01724_LEFT_MLO.jpg', 'P_01725_RIGHT_CC.jpg', 'P_01725_RIGHT_MLO.jpg', 'P_01726_RIGHT_CC.jpg', 'P_01726_RIGHT_MLO.jpg', 'P_01728_LEFT_CC.jpg', 'P_01729_LEFT_CC.jpg', 'P_01729_LEFT_MLO.jpg', 'P_01730_LEFT_CC.jpg', 'P_01730_LEFT_MLO.jpg', 'P_01732_LEFT_CC.jpg', 'P_01732_LEFT_MLO.jpg', 'P_01733_RIGHT_MLO.jpg', 'P_01735_RIGHT_CC.jpg', 'P_01735_RIGHT_MLO.jpg', 'P_01736_LEFT_CC.jpg', 'P_01736_LEFT_MLO.jpg', 'P_01736_RIGHT_CC.jpg', 'P_01736_RIGHT_MLO.jpg', 'P_01737_RIGHT_CC.jpg', 'P_01737_RIGHT_MLO.jpg', 'P_01739_LEFT_CC.jpg', 'P_01739_LEFT_MLO.jpg', 'P_01739_RIGHT_CC.jpg', 'P_01739_RIGHT_MLO.jpg', 'P_01740_LEFT_CC.jpg', 'P_01740_LEFT_MLO.jpg', 'P_01740_RIGHT_CC.jpg', 'P_01740_RIGHT_MLO.jpg', 'P_01741_LEFT_CC.jpg', 'P_01741_LEFT_MLO.jpg', 'P_01741_RIGHT_CC.jpg', 'P_01741_RIGHT_MLO.jpg', 'P_01743_RIGHT_CC.jpg', 'P_01743_RIGHT_MLO.jpg', 'P_01744_LEFT_MLO.jpg', 'P_01745_RIGHT_MLO.jpg', 'P_01748_RIGHT_CC.jpg', 'P_01748_RIGHT_MLO.jpg', 'P_01749_LEFT_CC.jpg', 'P_01749_LEFT_MLO.jpg', 'P_01750_LEFT_CC.jpg', 'P_01750_LEFT_MLO.jpg', 'P_01751_LEFT_CC.jpg', 'P_01751_LEFT_MLO.jpg', 'P_01752_LEFT_CC.jpg', 'P_01752_LEFT_MLO.jpg', 'P_01753_RIGHT_CC.jpg', 'P_01753_RIGHT_MLO.jpg', 'P_01754_RIGHT_CC.jpg', 'P_01754_RIGHT_MLO.jpg', 'P_01755_RIGHT_CC.jpg', 'P_01755_RIGHT_MLO.jpg', 'P_01756_LEFT_CC.jpg', 'P_01756_LEFT_MLO.jpg', 'P_01757_RIGHT_CC.jpg', 'P_01757_RIGHT_MLO.jpg', 'P_01759_RIGHT_CC.jpg', 'P_01759_RIGHT_MLO.jpg', 'P_01760_RIGHT_CC.jpg', 'P_01760_RIGHT_MLO.jpg', 'P_01761_LEFT_CC.jpg', 'P_01761_LEFT_MLO.jpg', 'P_01765_RIGHT_CC.jpg', 'P_01765_RIGHT_MLO.jpg', 'P_01766_LEFT_CC.jpg', 'P_01766_LEFT_MLO.jpg', 'P_01767_LEFT_CC.jpg', 'P_01767_LEFT_MLO.jpg', 'P_01768_LEFT_CC.jpg', 'P_01768_LEFT_MLO.jpg', 'P_01769_LEFT_CC.jpg', 'P_01769_LEFT_MLO.jpg', 'P_01769_RIGHT_CC.jpg', 'P_01769_RIGHT_MLO.jpg', 'P_01770_LEFT_MLO.jpg', 'P_01773_RIGHT_CC.jpg', 'P_01773_RIGHT_MLO.jpg', 'P_01775_LEFT_MLO.jpg', 'P_01776_RIGHT_CC.jpg', 'P_01776_RIGHT_MLO.jpg', 'P_01777_LEFT_CC.jpg', 'P_01777_LEFT_MLO.jpg', 'P_01778_RIGHT_CC.jpg', 'P_01780_LEFT_CC.jpg', 'P_01780_LEFT_MLO.jpg', 'P_01783_LEFT_MLO.jpg', 'P_01784_LEFT_CC.jpg', 'P_01784_LEFT_MLO.jpg', 'P_01785_RIGHT_CC.jpg', 'P_01785_RIGHT_MLO.jpg', 'P_01786_LEFT_CC.jpg', 'P_01786_RIGHT_CC.jpg', 'P_01786_RIGHT_MLO.jpg', 'P_01787_LEFT_CC.jpg', 'P_01787_LEFT_MLO.jpg', 'P_01788_RIGHT_CC.jpg', 'P_01788_RIGHT_MLO.jpg', 'P_01790_LEFT_CC.jpg', 'P_01790_LEFT_MLO.jpg', 'P_01791_LEFT_CC.jpg', 'P_01791_LEFT_MLO.jpg', 'P_01792_RIGHT_CC.jpg', 'P_01792_RIGHT_MLO.jpg', 'P_01793_LEFT_CC.jpg', 'P_01793_LEFT_MLO.jpg', 'P_01795_LEFT_CC.jpg', 'P_01795_LEFT_MLO.jpg', 'P_01796_LEFT_CC.jpg', 'P_01796_LEFT_MLO.jpg', 'P_01797_LEFT_CC.jpg', 'P_01797_LEFT_MLO.jpg', 'P_01798_LEFT_CC.jpg', 'P_01798_LEFT_MLO.jpg', 'P_01799_LEFT_CC.jpg', 'P_01799_LEFT_MLO.jpg', 'P_01800_LEFT_CC.jpg', 'P_01800_LEFT_MLO.jpg', 'P_01800_RIGHT_CC.jpg', 'P_01801_RIGHT_CC.jpg', 'P_01801_RIGHT_MLO.jpg', 'P_01802_LEFT_MLO.jpg', 'P_01803_RIGHT_CC.jpg', 'P_01803_RIGHT_MLO.jpg', 'P_01804_LEFT_MLO.jpg', 'P_01805_LEFT_CC.jpg', 'P_01805_LEFT_MLO.jpg', 'P_01805_RIGHT_MLO.jpg', 'P_01807_RIGHT_MLO.jpg', 'P_01809_LEFT_MLO.jpg', 'P_01810_LEFT_CC.jpg', 'P_01810_LEFT_MLO.jpg', 'P_01814_RIGHT_CC.jpg', 'P_01815_RIGHT_CC.jpg', 'P_01815_RIGHT_MLO.jpg', 'P_01816_LEFT_CC.jpg', 'P_01816_LEFT_MLO.jpg', 'P_01817_RIGHT_CC.jpg', 'P_01817_RIGHT_MLO.jpg', 'P_01818_LEFT_CC.jpg', 'P_01818_LEFT_MLO.jpg', 'P_01819_LEFT_CC.jpg', 'P_01819_LEFT_MLO.jpg', 'P_01819_RIGHT_CC.jpg', 'P_01820_LEFT_MLO.jpg', 'P_01821_LEFT_CC.jpg', 'P_01821_LEFT_MLO.jpg', 'P_01822_LEFT_CC.jpg', 'P_01822_LEFT_MLO.jpg', 'P_01823_LEFT_CC.jpg', 'P_01823_LEFT_MLO.jpg', 'P_01823_RIGHT_CC.jpg', 'P_01823_RIGHT_MLO.jpg', 'P_01824_RIGHT_CC.jpg', 'P_01824_RIGHT_MLO.jpg', 'P_01825_RIGHT_CC.jpg', 'P_01825_RIGHT_MLO.jpg', 'P_01826_RIGHT_CC.jpg', 'P_01826_RIGHT_MLO.jpg', 'P_01829_LEFT_MLO.jpg', 'P_01830_LEFT_CC.jpg', 'P_01830_LEFT_MLO.jpg', 'P_01830_RIGHT_CC.jpg', 'P_01830_RIGHT_MLO.jpg', 'P_01831_RIGHT_CC.jpg', 'P_01831_RIGHT_MLO.jpg', 'P_01832_LEFT_CC.jpg', 'P_01832_LEFT_MLO.jpg', 'P_01832_RIGHT_MLO.jpg', 'P_01833_RIGHT_MLO.jpg', 'P_01834_LEFT_MLO.jpg', 'P_01838_LEFT_CC.jpg', 'P_01838_LEFT_MLO.jpg', 'P_01838_RIGHT_CC.jpg', 'P_01838_RIGHT_MLO.jpg', 'P_01839_LEFT_CC.jpg', 'P_01839_LEFT_MLO.jpg', 'P_01840_RIGHT_MLO.jpg', 'P_01841_RIGHT_CC.jpg', 'P_01841_RIGHT_MLO.jpg', 'P_01842_LEFT_MLO.jpg', 'P_01844_RIGHT_MLO.jpg', 'P_01845_RIGHT_CC.jpg', 'P_01845_RIGHT_MLO.jpg', 'P_01846_RIGHT_CC.jpg', 'P_01846_RIGHT_MLO.jpg', 'P_01847_LEFT_CC.jpg', 'P_01847_LEFT_MLO.jpg', 'P_01848_RIGHT_CC.jpg', 'P_01848_RIGHT_MLO.jpg', 'P_01849_RIGHT_CC.jpg', 'P_01849_RIGHT_MLO.jpg', 'P_01850_RIGHT_CC.jpg', 'P_01850_RIGHT_MLO.jpg', 'P_01853_LEFT_MLO.jpg', 'P_01856_LEFT_CC.jpg', 'P_01856_LEFT_MLO.jpg', 'P_01858_LEFT_CC.jpg', 'P_01858_LEFT_MLO.jpg', 'P_01860_RIGHT_CC.jpg', 'P_01861_LEFT_CC.jpg', 'P_01861_LEFT_MLO.jpg', 'P_01864_LEFT_CC.jpg', 'P_01864_LEFT_MLO.jpg', 'P_01864_RIGHT_CC.jpg', 'P_01864_RIGHT_MLO.jpg', 'P_01865_LEFT_MLO.jpg', 'P_01866_RIGHT_CC.jpg', 'P_01866_RIGHT_MLO.jpg', 'P_01867_LEFT_CC.jpg', 'P_01867_LEFT_MLO.jpg', 'P_01868_LEFT_CC.jpg', 'P_01868_LEFT_MLO.jpg', 'P_01872_LEFT_CC.jpg', 'P_01872_LEFT_MLO.jpg', 'P_01875_LEFT_CC.jpg', 'P_01875_LEFT_MLO.jpg', 'P_01875_RIGHT_CC.jpg', 'P_01875_RIGHT_MLO.jpg', 'P_01876_LEFT_CC.jpg', 'P_01876_LEFT_MLO.jpg', 'P_01877_LEFT_CC.jpg', 'P_01877_LEFT_MLO.jpg', 'P_01878_RIGHT_CC.jpg', 'P_01878_RIGHT_MLO.jpg', 'P_01882_LEFT_CC.jpg', 'P_01882_LEFT_MLO.jpg', 'P_01883_LEFT_CC.jpg', 'P_01883_RIGHT_CC.jpg', 'P_01883_RIGHT_MLO.jpg', 'P_01884_RIGHT_CC.jpg', 'P_01884_RIGHT_MLO.jpg', 'P_01885_LEFT_CC.jpg', 'P_01885_LEFT_MLO.jpg', 'P_01885_RIGHT_CC.jpg', 'P_01885_RIGHT_MLO.jpg', 'P_01886_RIGHT_CC.jpg', 'P_01887_LEFT_CC.jpg', 'P_01887_LEFT_MLO.jpg', 'P_01888_RIGHT_MLO.jpg', 'P_01889_RIGHT_CC.jpg', 'P_01889_RIGHT_MLO.jpg', 'P_01890_LEFT_MLO.jpg', 'P_01908_LEFT_CC.jpg', 'P_01912_RIGHT_CC.jpg', 'P_01912_RIGHT_MLO.jpg', 'P_01946_RIGHT_CC.jpg', 'P_01946_RIGHT_MLO.jpg', 'P_01981_RIGHT_CC.jpg', 'P_01981_RIGHT_MLO.jpg', 'P_01983_LEFT_MLO.jpg', 'P_02033_RIGHT_CC.jpg', 'P_02033_RIGHT_MLO.jpg', 'P_02079_RIGHT_CC.jpg', 'P_02079_RIGHT_MLO.jpg', 'P_02092_LEFT_CC.jpg', 'P_02092_LEFT_MLO.jpg', 'P_02102_LEFT_CC.jpg', 'P_02102_LEFT_MLO.jpg', 'P_02105_LEFT_CC.jpg', 'P_02105_LEFT_MLO.jpg', 'P_02115_LEFT_CC.jpg', 'P_02115_LEFT_MLO.jpg', 'P_02133_LEFT_CC.jpg', 'P_02133_LEFT_MLO.jpg', 'P_02139_LEFT_CC.jpg', 'P_02139_LEFT_MLO.jpg', 'P_02153_RIGHT_CC.jpg', 'P_02153_RIGHT_MLO.jpg', 'P_02154_LEFT_CC.jpg', 'P_02154_LEFT_MLO.jpg', 'P_02159_LEFT_CC.jpg', 'P_02159_LEFT_MLO.jpg', 'P_02176_RIGHT_CC.jpg', 'P_02176_RIGHT_MLO.jpg', 'P_02190_RIGHT_CC.jpg', 'P_02190_RIGHT_MLO.jpg', 'P_02195_RIGHT_CC.jpg', 'P_02195_RIGHT_MLO.jpg', 'P_02198_LEFT_CC.jpg', 'P_02198_LEFT_MLO.jpg', 'P_02218_LEFT_CC.jpg', 'P_02218_LEFT_MLO.jpg', 'P_02220_LEFT_CC.jpg', 'P_02220_LEFT_MLO.jpg', 'P_02226_LEFT_CC.jpg', 'P_02226_LEFT_MLO.jpg', 'P_02232_LEFT_CC.jpg', 'P_02232_LEFT_MLO.jpg', 'P_02234_LEFT_CC.jpg', 'P_02234_LEFT_MLO.jpg', 'P_02259_LEFT_CC.jpg', 'P_02259_LEFT_MLO.jpg', 'P_02270_RIGHT_CC.jpg', 'P_02270_RIGHT_MLO.jpg', 'P_02275_LEFT_CC.jpg', 'P_02275_LEFT_MLO.jpg', 'P_02285_LEFT_CC.jpg', 'P_02285_LEFT_MLO.jpg', 'P_02313_LEFT_CC.jpg', 'P_02313_LEFT_MLO.jpg', 'P_02316_RIGHT_CC.jpg', 'P_02316_RIGHT_MLO.jpg', 'P_02318_RIGHT_CC.jpg', 'P_02318_RIGHT_MLO.jpg', 'P_02323_LEFT_CC.jpg', 'P_02323_LEFT_MLO.jpg', 'P_02348_RIGHT_CC.jpg', 'P_02348_RIGHT_MLO.jpg', 'P_02368_RIGHT_CC.jpg', 'P_02368_RIGHT_MLO.jpg', 'P_02380_LEFT_CC.jpg', 'P_02380_LEFT_MLO.jpg', 'P_02393_LEFT_CC.jpg', 'P_02393_LEFT_MLO.jpg', 'P_02400_LEFT_CC.jpg', 'P_02400_LEFT_MLO.jpg', 'P_02402_RIGHT_CC.jpg', 'P_02402_RIGHT_MLO.jpg', 'P_02405_RIGHT_CC.jpg', 'P_02405_RIGHT_MLO.jpg', 'P_02409_RIGHT_CC.jpg', 'P_02409_RIGHT_MLO.jpg', 'P_02418_RIGHT_CC.jpg', 'P_02418_RIGHT_MLO.jpg', 'P_02419_LEFT_CC.jpg', 'P_02419_LEFT_MLO.jpg', 'P_02420_RIGHT_CC.jpg', 'P_02420_RIGHT_MLO.jpg', 'P_02424_RIGHT_CC.jpg', 'P_02424_RIGHT_MLO.jpg', 'P_02432_LEFT_CC.jpg', 'P_02432_LEFT_MLO.jpg', 'P_02434_LEFT_CC.jpg', 'P_02434_LEFT_MLO.jpg', 'P_02437_LEFT_CC.jpg', 'P_02437_LEFT_MLO.jpg', 'P_02442_LEFT_CC.jpg', 'P_02442_LEFT_MLO.jpg', 'P_02456_LEFT_MLO.jpg', 'P_02459_RIGHT_CC.jpg', 'P_02459_RIGHT_MLO.jpg', 'P_02460_RIGHT_CC.jpg', 'P_02460_RIGHT_MLO.jpg', 'P_02464_RIGHT_CC.jpg', 'P_02464_RIGHT_MLO.jpg', 'P_02468_LEFT_CC.jpg', 'P_02468_LEFT_MLO.jpg', 'P_02475_LEFT_CC.jpg', 'P_02475_LEFT_MLO.jpg', 'P_02489_RIGHT_CC.jpg', 'P_02489_RIGHT_MLO.jpg', 'P_02498_RIGHT_CC.jpg', 'P_02498_RIGHT_MLO.jpg', 'P_02501_RIGHT_CC.jpg', 'P_02501_RIGHT_MLO.jpg', 'P_02508_LEFT_CC.jpg', 'P_02508_LEFT_MLO.jpg', 'P_02518_RIGHT_CC.jpg', 'P_02518_RIGHT_MLO.jpg', 'P_02522_RIGHT_CC.jpg', 'P_02522_RIGHT_MLO.jpg', 'P_02559_RIGHT_CC.jpg', 'P_02559_RIGHT_MLO.jpg', 'P_02563_RIGHT_CC.jpg', 'P_02563_RIGHT_MLO.jpg', 'P_02566_RIGHT_CC.jpg', 'P_02566_RIGHT_MLO.jpg', 'P_02572_LEFT_CC.jpg', 'P_02572_LEFT_MLO.jpg', 'P_02584_LEFT_CC.jpg', 'P_02584_LEFT_MLO.jpg']\n"
          ],
          "name": "stdout"
        }
      ]
    },
    {
      "cell_type": "markdown",
      "metadata": {
        "id": "naE5XRZFQq5N"
      },
      "source": [
        "**Preprocessing the data** \n",
        "\n",
        "Main Steps\n",
        "\n",
        "*   CLAHE- Contrast Limited Adaptive Histogram Equalization\n",
        "*   CROP the edges of the images to remove white edges\n",
        "*   Resize to 512 x 512- all images and masks have been resized.\n",
        "*   Median Filtering to remove the salt and pepper noise\n",
        "\n",
        "Desired but not implemented- will be done in phase-2\n",
        "\n",
        "*   Removal of Artifacts- The images have some artifacts (wording) on the corners which should be removed- for this the image needs to be binarized.\n",
        "*   Removal of Pectoral Muscle - this muscle can interfere with the tumor detection and should be removed.\n",
        "\n",
        "\n",
        "\n",
        "\n",
        "\n"
      ]
    },
    {
      "cell_type": "code",
      "metadata": {
        "id": "hZT-6ta1Ruz2"
      },
      "source": [
        "############PRE-PROCESSING THE IMAGE AND MASK DATASET -- DO NOT CHANGE CODE- TESTED ON JULY 7#########\n",
        "\n",
        "\"\"\"\n",
        "PREPROCESSING IMAGES AND MASKS=CROP, CLAHE, RESCALE, Median filtering\n",
        "INPUT IMAGE SHAPE:  4728 X 3064 X 3 (FLOAT 64) AND PRE-PROCESSED IMAGE SHAPE= 512 x 512 (UNIT8)\n",
        "IMAGE,MASK DATASET IS A LIST OF NUMPY ARRAYS.\n",
        "\"\"\"\n",
        "\n",
        "#### Images and Masks directories containing the files in \".jpg/png\" format ####\n",
        "\n",
        "## Defining Pre-Processing Functions ##\n",
        "\n",
        "def cropBorders(img,l=0.01, r=0.01, u=0.08, d=0.04):\n",
        "\n",
        "    \"\"\"\n",
        "    This function crops a specified percentage of border from\n",
        "    each side of the given image. Default is 1% from the \n",
        "    left and right sides (l,r) and 4% from the top and bottom side (t,d)\n",
        "    Parameters\n",
        "    ----------\n",
        "    img : {numpy.ndarray}\n",
        "        The image to crop.\n",
        "    Returns\n",
        "    -------\n",
        "    cropped_img: {numpy.ndarray}\n",
        "        The cropped image.\n",
        "    \"\"\"\n",
        "\n",
        "    try:\n",
        "        nrows, ncols = img.shape\n",
        "\n",
        "        # Get the start and end rows and columns\n",
        "        l_crop = int(ncols * l)\n",
        "        r_crop = int(ncols * (1 - r))\n",
        "        u_crop = int(nrows * u)\n",
        "        d_crop = int(nrows * (1 - d))\n",
        "\n",
        "        cropped_img = img[u_crop:d_crop, l_crop:r_crop]\n",
        "\n",
        "    except Exception as e:\n",
        "        # logger.error(f'Unable to cropBorders!\\n{e}')\n",
        "        print((f\"Unable to get cropBorders!\\n{e}\"))\n",
        "\n",
        "    return cropped_img\n",
        "\n",
        "\n",
        "def clahe(img, clip=2.0, tile=(8, 8)):\n",
        "\n",
        "    \"\"\"\n",
        "    This function applies the Contrast-Limited Adaptive\n",
        "    Histogram Equalisation filter to a given image.\n",
        "    Parameters\n",
        "    ----------\n",
        "    img : {numpy.ndarray}\n",
        "        The image to edit.\n",
        "    clip : {int or floa}\n",
        "        Threshold for contrast limiting.\n",
        "    tile : {tuple (int, int)}\n",
        "        Size of grid for histogram equalization. Input\n",
        "        image will be divided into equally sized\n",
        "        rectangular tiles. `tile` defines the number of\n",
        "        tiles in row and column.\n",
        "    Returns\n",
        "    -------\n",
        "    clahe_img : {numpy.ndarray, np.uint8}\n",
        "        The CLAHE edited image, with values ranging from [0, 255]\n",
        "    \"\"\"\n",
        "\n",
        "    try:\n",
        "        # Convert to uint8.\n",
        "        # img = skimage.img_as_ubyte(img)\n",
        "        img = cv2.normalize(\n",
        "            img,\n",
        "            None,\n",
        "            alpha=0,\n",
        "            beta=255,\n",
        "            norm_type=cv2.NORM_MINMAX,\n",
        "            dtype=cv2.CV_32F,\n",
        "        )\n",
        "        img_uint8 = img.astype(\"uint8\")\n",
        "        #  img = cv2.normalize(\n",
        "        #     img, None, alpha=0, beta=1, norm_type=cv2.NORM_MINMAX, dtype=cv2.CV_8U\n",
        "        # )\n",
        "\n",
        "        clahe_create = cv2.createCLAHE(clipLimit=clip, tileGridSize=tile)\n",
        "        clahe_img = clahe_create.apply(img_uint8)\n",
        "\n",
        "    except Exception as e:\n",
        "        # logger.error(f'Unable to clahe!\\n{e}')\n",
        "        print((f\"Unable to get clahe!\\n{e}\"))\n",
        "\n",
        "    return clahe_img\n",
        "\n",
        "# Execution #\n",
        "\n",
        "image_dataset=[]\n",
        "mask_dataset=[]\n",
        "SIZE=512\n",
        "IMG_CHANNELS=3\n",
        "\n",
        "path=\"/content/drive/MyDrive/Colab Notebooks/BC_Tumor_Segmentation_data/cbis_ddsm_data/images/\"\n",
        "resized_img_path=\"/content/drive/MyDrive/Colab Notebooks/BC_Tumor_Segmentation_data/resized_images/\"\n",
        "\n",
        "\n",
        "image_ids = sorted(next(os.walk(path))[2])   #pls note the [2] to access the file names in the images folder. List needs to be sorted.\n",
        "\n",
        "print(image_ids)\n",
        "print(len(image_ids))\n",
        "print('Resizing training images and masks')\n",
        "\n",
        "for n, id_ in tqdm(enumerate(image_ids), total=len(image_ids)):   #image_ids: are essentially file names>>\"n\" and #len(image_ids is 3023)\n",
        "    img_path = path + id_    #/content/drive/MyDrive/Colab Notebooks/BC_Tumor_Segmentation_data/cbis_ddsm_data/images/P_02405_RIGHT_MLO.jpg\n",
        "    print(img_path)\n",
        "    img1 = imread(img_path, as_gray=True) #reads as a float graysacle image\n",
        "    print(img1)\n",
        "    img_clahe=clahe(img1)\n",
        "    img_crop=cropBorders(img_clahe,l=0.01, r=0.01, u=0.08, d=0.04)                       \n",
        "    img_resize=resize(img_crop,(SIZE,SIZE),anti_aliasing=False)\n",
        "    from skimage.morphology import disk\n",
        "    img_median = median(img_resize, disk(3), mode='constant', cval=0.0)   #median (non-linear) filtering using skimage. This is great to remove the salt_pepper_noise opposed to Gaussian blur (smoothing images).\n",
        "    plt.imsave(resized_img_path+ \"/\" + str(id_), img_median, cmap='Greys_r')\n",
        "    image_dataset.append(np.array(img_median))\n",
        "    imgs_df = pd.DataFrame(np.array(img_median))\n",
        "    imgs_df.to_csv('processed_image.csv',index=False)\n",
        "    print(len(image_dataset))\n",
        "\n",
        "# Same operation on mask dataset #\n",
        "\n",
        "mask_dataset = []\n",
        "SIZE=512\n",
        "path_mask=\"/content/drive/MyDrive/Colab Notebooks/BC_Tumor_Segmentation_data/cbis_ddsm_data/masks/\"\n",
        "resized_mask_path=\"/content/drive/MyDrive/Colab Notebooks/BC_Tumor_Segmentation_data/resized_masks/\"\n",
        "\n",
        "for n, id_ in tqdm(enumerate(image_ids), total=len(image_ids)):   #image_ids: are essentially file names>>\"n\" and #len(image_ids) is 3023)\n",
        "    mask_path = path_mask + id_    #/content/drive/MyDrive/Colab Notebooks/BC_Tumor_Segmentation_data/cbis_ddsm_data/images/P_02405_RIGHT_MLO.jpg\n",
        "    print(mask_path)\n",
        "    img1 = imread(mask_path, as_gray=True) #reads as a float graysacle image\n",
        "    print(img1)\n",
        "    img_clahe=clahe(img1)\n",
        "    img_crop=cropBorders(img_clahe,l=0.01, r=0.01, u=0.08, d=0.04)                       \n",
        "    img_resize=resize(img_crop,(SIZE,SIZE),anti_aliasing=False)\n",
        "    from skimage.morphology import disk\n",
        "    img_median = median(img_resize, disk(3), mode='constant', cval=0.0)   #median (non-linear) filtering using skimage. This is great to remove the salt_pepper_noise opposed to Gaussian blur (smoothing images).\n",
        "    plt.imsave(resized_mask_path+ \"/\" + str(id_), img_median, cmap='Greys_r')\n",
        "    mask_dataset.append(np.array(img_median))\n",
        "    imgs_df = pd.DataFrame(np.array(img_median))\n",
        "    imgs_df.to_csv('processed_mask.csv',index=False)\n",
        "    print(len(mask_dataset))\n",
        "\n",
        "## plot random image and masks to ensure they match up ##\n",
        "\n",
        "import random\n",
        "import matplotlib.pyplot as plt\n",
        "img_number= random.randint(0, (len(image_ids)-1))\n",
        "print(img_number)\n",
        "img= image_dataset[img_number]\n",
        "#print(img)\n",
        "mask= mask_dataset[img_number]\n",
        "#print(mask)\n",
        "plt.figure(figsize=(12, 8))\n",
        "plt.subplot(221)\n",
        "plt.title('Image')\n",
        "plt.imshow(img, cmap='Greys_r')\n",
        "plt.subplot(222)\n",
        "plt.title('Mask')\n",
        "plt.imshow(mask,cmap='Greys_r') #forces grayscale image\n",
        "plt.show()\n",
        "\n"
      ],
      "execution_count": null,
      "outputs": []
    },
    {
      "cell_type": "markdown",
      "metadata": {
        "id": "395lQqx1oQvL"
      },
      "source": [
        "### **This code reads the \"pre-processed\" images and masks and appends them to a list for input to the machine learning pipeline.** "
      ]
    },
    {
      "cell_type": "code",
      "metadata": {
        "id": "9ErjNyAmpljP"
      },
      "source": [
        "\n",
        "image_dataset=[]  \n",
        "mask_dataset=[]  \n",
        "\n",
        "image_directory = '/content/drive/MyDrive/Colab Notebooks/BC_Tumor_Segmentation_data/resize_img_gen_folder/images/'\n",
        "mask_directory = '/content/drive/MyDrive/Colab Notebooks/BC_Tumor_Segmentation_data/resize_img_gen_folder/masks/'\n",
        "SIZE = 512\n",
        "\n",
        "images = os.listdir(image_directory)\n",
        "for i, image_name in enumerate(images):    #Remember enumerate method adds a counter and returns the enumerate object\n",
        "    if (image_name.split('.')[1] == 'jpg'):\n",
        "        image = cv2.imread(image_directory+image_name,0)  # each image is unint8 array\n",
        "        image_dataset.append(np.array(image))  # Here image_dataset is a list of length 3023 numpy array images.\n",
        "        print(len(image_dataset))\n",
        " \n",
        "\n",
        "#Iterate through all images in Uninfected folder, resize to 64 x 64\n",
        "#Then save into the same numpy array 'dataset' but with label 1\n",
        "\n",
        "masks = os.listdir(mask_directory)\n",
        "for i, image_name in enumerate(masks):\n",
        "    if (image_name.split('.')[1] == 'jpg'):\n",
        "        image = cv2.imread(mask_directory+image_name,0)\n",
        "        mask_dataset.append(np.array(image))\n",
        "        #mask = np.maximum(mask, mask_dataset) # if we need to sum the masks\n",
        "        print(len(mask_dataset))\n",
        "\n",
        "image_dataset=np.array(image_dataset) # converting the image_dataset list to a numpy array of unint8- size [3023, 512, 512]\n",
        "mask_dataset=np.array(mask_dataset)"
      ],
      "execution_count": null,
      "outputs": []
    },
    {
      "cell_type": "markdown",
      "metadata": {
        "id": "_3uBUyhTrh2u"
      },
      "source": [
        "### **Get data ready for machine learning**\n",
        "\n",
        "\n"
      ]
    },
    {
      "cell_type": "code",
      "metadata": {
        "id": "JQEUGa0ErhbD"
      },
      "source": [
        "\n",
        "image_dataset = np.expand_dims(np.array(image_dataset),3)         #Shape ( 3023,512,512,1) float 64\n",
        "mask_dataset = np.expand_dims(np.array(mask_dataset),3) /255.    #Do NOT normalize masks, just rescale to 0 to 1.SHAPE- (3023,512,512,1)= FLOAT64\n",
        "\n",
        "\n",
        "IMG_shape0=image_dataset.shape[0]\n",
        "print(IMG_shape0)\n",
        "IMG_HEIGHT = image_dataset.shape[1]\n",
        "print(IMG_HEIGHT)\n",
        "IMG_WIDTH  = image_dataset.shape[2]\n",
        "print(IMG_WIDTH)\n",
        "IMG_CHANNELS = image_dataset.shape[3]\n",
        "print(IMG_CHANNELS)\n",
        "\n",
        "\n",
        "from sklearn.model_selection import train_test_split\n",
        "\n",
        "## split twice to extract the val data and test data using train_test_split method###\n",
        "\n",
        "X_train, X_val, y_train, y_val = train_test_split(image_dataset, mask_dataset, test_size = 0.10, random_state = 0)\n",
        "X_train, X_test, y_train, y_test = train_test_split(image_dataset, mask_dataset, test_size = 0.10, random_state = 0)\n",
        "print(len(X_train))\n",
        "print(len(X_val))\n",
        "print(len(X_test))\n",
        "\n",
        "#Sanity check, view few mages\n",
        "import random\n",
        "import numpy as np\n",
        "image_number = random.randint(0, len(X_train))\n",
        "plt.figure(figsize=(12, 6))\n",
        "plt.subplot(121)\n",
        "plt.imshow(X_train[image_number], cmap='gray')\n",
        "plt.subplot(122)\n",
        "plt.imshow(np.reshape(y_train[image_number], (512, 512)), cmap='gray')\n",
        "plt.show()\n",
        "#print(y_train)\n",
        "plt.hist(len(X_train),len(X_test))\n",
        "###################"
      ],
      "execution_count": null,
      "outputs": []
    },
    {
      "cell_type": "markdown",
      "metadata": {
        "id": "qr9hmQDEqCeY"
      },
      "source": [
        "**Build a simple U-NET model.** \n",
        "Encoder and Decoder paths\n",
        "Conv2D, Maxpool, DropOut and Concatenate\n",
        "Inputs shape: 3023 X 512X 512X 1\n"
      ]
    },
    {
      "cell_type": "code",
      "metadata": {
        "colab": {
          "background_save": true,
          "base_uri": "https://localhost:8080/"
        },
        "id": "w51Gt9Wx9Uzj",
        "outputId": "11c8d7cd-effb-47f3-bca8-5b2ebde38e4d"
      },
      "source": [
        "####SIMPLE U-NET MODEL####\n",
        "\n",
        "IMG_HEIGHT = 512\n",
        "IMG_WIDTH  = 512\n",
        "IMG_CHANNELS =1\n",
        "\n",
        "#Build the model#CONTRACTION PATH/ENCODER PATH OF UNET\n",
        "\n",
        "\n",
        "inputs=tf.keras.layers.Input((IMG_HEIGHT,IMG_WIDTH,IMG_CHANNELS))\n",
        "\n",
        "# convert each pixel of input image into a floating point value for input to the Convol layers using Lamdba function\n",
        "s=tf.keras.layers.Lambda(lambda x:x/255)(inputs)  #normalize\n",
        "\n",
        "#kernelinitializer to initialize the weight values- Truncated Normal distribution (Gaussian)-centered around 0. \n",
        "#can use -orthogonal, truncated normal, various ways, idity. Wedight values are between 0-1.floating point values\n",
        "#DropOut=10%\n",
        "\n",
        "c1=tf.keras.layers.Conv2D(16,(3,3),activation='relu',kernel_initializer='he_normal',padding='same')(s)\n",
        "c1=tf.keras.layers.Dropout(0.1)(c1)  \n",
        "c1=tf.keras.layers.Conv2D(16,(3,3),activation='relu',kernel_initializer='he_normal',padding='same')(c1)\n",
        "p1=tf.keras.layers.MaxPooling2D((2,2))(c1)\n",
        "\n",
        "c2=tf.keras.layers.Conv2D(32,(3,3),activation='relu',kernel_initializer='he_normal',padding='same')(p1)\n",
        "c2=tf.keras.layers.Dropout(0.1)(c2)  \n",
        "c2=tf.keras.layers.Conv2D(32,(3,3),activation='relu',kernel_initializer='he_normal',padding='same')(c2)\n",
        "p2=tf.keras.layers.MaxPooling2D((2,2))(c2)\n",
        "\n",
        "c3=tf.keras.layers.Conv2D(64,(3,3),activation='relu',kernel_initializer='he_normal',padding='same')(p2)\n",
        "c3=tf.keras.layers.Dropout(0.2)(c3)  \n",
        "c3=tf.keras.layers.Conv2D(64,(3,3),activation='relu',kernel_initializer='he_normal',padding='same')(c3)\n",
        "p3=tf.keras.layers.MaxPooling2D((2,2))(c3)\n",
        "\n",
        "c4=tf.keras.layers.Conv2D(128,(3,3),activation='relu',kernel_initializer='he_normal',padding='same')(p3)\n",
        "c4=tf.keras.layers.Dropout(0.2)(c4)  \n",
        "c4=tf.keras.layers.Conv2D(128,(3,3),activation='relu',kernel_initializer='he_normal',padding='same')(c4)\n",
        "p4=tf.keras.layers.MaxPooling2D((2,2))(c4)\n",
        "\n",
        "c5=tf.keras.layers.Conv2D(256,(3,3),activation='relu',kernel_initializer='he_normal',padding='same')(p4)\n",
        "c5=tf.keras.layers.Dropout(0.3)(c5)  \n",
        "c5=tf.keras.layers.Conv2D(256,(3,3),activation='relu',kernel_initializer='he_normal',padding='same')(c5)\n",
        "p5=tf.keras.layers.MaxPooling2D((2,2))(c5)\n",
        "\n",
        "#EXPANSIVE PATH\n",
        "\n",
        "u6=tf.keras.layers.Conv2DTranspose(128,(2,2),strides=(2,2),padding='same')(c5)  # conv2dTranspose are upscaling\n",
        "u6=tf.keras.layers.concatenate([u6,c4])\n",
        "c6=tf.keras.layers.Conv2D(128,(3,3),activation='relu',kernel_initializer='he_normal',padding='same')(u6)\n",
        "c6=tf.keras.layers.Dropout(0.2)(c6)  \n",
        "c6=tf.keras.layers.Conv2D(128,(3,3),activation='relu',kernel_initializer='he_normal',padding='same')(c6)\n",
        "\n",
        "u7=tf.keras.layers.Conv2DTranspose(64,(2,2),strides=(2,2),padding='same')(c6)\n",
        "u7=tf.keras.layers.concatenate([u7,c3])\n",
        "c7=tf.keras.layers.Conv2D(64,(3,3),activation='relu',kernel_initializer='he_normal',padding='same')(u7)\n",
        "c7=tf.keras.layers.Dropout(0.2)(c7)  \n",
        "c7=tf.keras.layers.Conv2D(64,(3,3),activation='relu',kernel_initializer='he_normal',padding='same')(c7)\n",
        "\n",
        "u8=tf.keras.layers.Conv2DTranspose(32,(2,2),strides=(2,2),padding='same')(c7)\n",
        "u8=tf.keras.layers.concatenate([u8,c2])\n",
        "c8=tf.keras.layers.Conv2D(32,(3,3),activation='relu',kernel_initializer='he_normal',padding='same')(u8)\n",
        "c8=tf.keras.layers.Dropout(0.1)(c8)  \n",
        "c8=tf.keras.layers.Conv2D(32,(3,3),activation='relu',kernel_initializer='he_normal',padding='same')(c8)\n",
        "\n",
        "u9=tf.keras.layers.Conv2DTranspose(16,(2,2),strides=(2,2),padding='same')(c8)\n",
        "u9=tf.keras.layers.concatenate([u9,c1], axis=3)\n",
        "c9=tf.keras.layers.Conv2D(16,(3,3),activation='relu',kernel_initializer='he_normal',padding='same')(u9)\n",
        "c9=tf.keras.layers.Dropout(0.1)(c9)  \n",
        "c9=tf.keras.layers.Conv2D(16,(3,3),activation='relu',kernel_initializer='he_normal',padding='same')(c9)\n",
        "\n",
        "output=tf.keras.layers.Conv2D(1,(1,1),activation='sigmoid')(c9)\n",
        "\n",
        "model=tf.keras.Model(inputs=[inputs],outputs=[output])\n",
        "\n",
        "####################\n",
        "\n",
        "#Dice metric can be a great metric to track accuracy of semantic segmentation.\n",
        "\n",
        "def dice_metric(y_pred, y_true):\n",
        "    intersection = K.sum(K.sum(K.abs(y_true * y_pred), axis=-1))\n",
        "    union = K.sum(K.sum(K.abs(y_true) + K.abs(y_pred), axis=-1))\n",
        "    # if y_pred.sum() == 0 and y_pred.sum() == 0:\n",
        "    #     return 1.0\n",
        "\n",
        "    return 2*intersection / union\n",
        "\n",
        "!pip install focal-loss \n",
        "\n",
        "from focal_loss import BinaryFocalLoss\n",
        "##########################\n",
        "\n",
        "#COMPILE#\n",
        "#model.compile(optimizer=Adam(learning_rate= 1e-3), loss=BinaryFocalLoss(gamma=2), metrics=[dice_metric])\n",
        "model.compile(optimizer='adam', loss='binary_crossentropy', metrics=['accuracy'])\n",
        "\n",
        "print(model.summary())\n",
        "\n",
        "#modelcheckpoint\n",
        "checkpointer=tf.keras.callbacks.ModelCheckpoint('U_segmentation_array_callback_bin_val_btch_32_ep50.h5',verbose=1, save_best_only=True)\n",
        "\n",
        "callbacks=[ tf.keras.callbacks.EarlyStopping(patience=3, monitor='val_loss'), tf.keras.callbacks.TensorBoard(log_dir='logs',)]\n",
        "\n",
        "history=model.fit(X_train, y_train, batch_size = 32,verbose=1, epochs=50, validation_data=(X_val, y_val), shuffle=False, callbacks=callbacks)\n",
        "\n",
        "model.save('U_segmentation_array_callback_val_bin_btch_32_ep50 .h5')\n",
        "\n",
        "\n",
        "###### EVALUATE #######\n",
        "\n",
        "\n",
        "idx = random.randint(0, len(X_train)\n",
        "\n",
        "preds_train = model.predict(X_train[:int(X_train.shape[0]*0.9)], verbose=1)\n",
        "preds_val = model.predict(X_train[int(X_train.shape[0]*0.9):], verbose=1)\n",
        "preds_test = model.predict(X_test, verbose=1)\n",
        "\n",
        "\n",
        "preds_train_t = (preds_train > 0.5).astype(np.uint8)\n",
        "preds_val_t = (preds_val > 0.5).astype(np.uint8)\n",
        "preds_test_t = (preds_test > 0.5).astype(np.uint8)\n",
        "\n",
        "\n",
        "# Perform a sanity check on some random training samples\n",
        "ix = random.randint(0, len(preds_train_t))\n",
        "imshow(X_train[ix])\n",
        "plt.show()\n",
        "imshow(np.squeeze(Y_train[ix]))\n",
        "plt.show()\n",
        "imshow(np.squeeze(preds_train_t[ix]))\n",
        "plt.show()\n",
        "\n",
        "# Perform a sanity check on some random validation samples\n",
        "ix = random.randint(0, len(preds_val_t))\n",
        "imshow(X_train[int(X_train.shape[0]*0.9):][ix])\n",
        "plt.show()\n",
        "imshow(np.squeeze(Y_train[int(Y_train.shape[0]*0.9):][ix]))\n",
        "plt.show()\n",
        "imshow(np.squeeze(preds_val_t[ix]))\n",
        "                                  "
      ],
      "execution_count": null,
      "outputs": [
        {
          "output_type": "error",
          "ename": "SyntaxError",
          "evalue": "ignored",
          "traceback": [
            "\u001b[0;36m  File \u001b[0;32m\"<ipython-input-7-3a03371e3618>\"\u001b[0;36m, line \u001b[0;32m136\u001b[0m\n\u001b[0;31m    preds_train = model.predict(X_train[:int(X_train.shape[0]*0.9)], verbose=1)\u001b[0m\n\u001b[0m              ^\u001b[0m\n\u001b[0;31mSyntaxError\u001b[0m\u001b[0;31m:\u001b[0m invalid syntax\n"
          ]
        }
      ]
    },
    {
      "cell_type": "markdown",
      "metadata": {
        "id": "q4RtRAiWmgRw"
      },
      "source": [
        "  ### OPTION -2- DATA GENERATORS  ##"
      ]
    },
    {
      "cell_type": "markdown",
      "metadata": {
        "id": "1sHZqrxjQ5lI"
      },
      "source": [
        "### **Data (Image and Mask) spilt into Training ,Validation and Test sets**"
      ]
    },
    {
      "cell_type": "code",
      "metadata": {
        "id": "2xjMr3n5hVtU"
      },
      "source": [
        "#####SPLIT DATA FOR DATA AUGMENTATION ####\n",
        "\n",
        "\"\"\"\n",
        "This code uses DataGen to directly load images from the drive in batches\n",
        "for training. This is best for datasets that do not fit in memory in its entirety. \n",
        "The code also uses DataGen for validation and testing. Checkout the tutorial (and code)\n",
        "to sort data into subdirectories in a way compatible for augmentation for semantic segmentation.\n",
        "For semantic segmentation the folder structure needs to look like below\n",
        "if you want to use ImageDatagenerator.\n",
        "Data/\n",
        "    train_images/\n",
        "                train/\n",
        "                    img1, img2, img3, ......\n",
        "    \n",
        "    train_masks/\n",
        "                train/\n",
        "                    msk1, msk, msk3, ......\n",
        "                    \n",
        "    val_images/\n",
        "                val/\n",
        "                    img1, img2, img3, ......                \n",
        "    val_masks/\n",
        "                val/\n",
        "                    msk1, msk, msk3, ......\n",
        "      \n",
        "    test_images/\n",
        "                test/\n",
        "                    img1, img2, img3, ......    \n",
        "                    \n",
        "    test_masks/\n",
        "                test/\n",
        "                    msk1, msk, msk3, ......\n",
        "Use split-folders library (pip install split-folders) to make this process of splitting\n",
        "files easy. \n",
        "\"\"\"\n",
        "\n",
        "!pip install split-folders\n",
        "import splitfolders  \n",
        "\n",
        "#####FIRST SPLIT#####\n",
        "input_folder = '/content/drive/MyDrive/Colab Notebooks/BC_Tumor_Segmentation_data/resize_img_gen_folder/'\n",
        "data2='/content/drive/MyDrive/Colab Notebooks/BC_Tumor_Segmentation_data/data2/'\n",
        "splitfolders.ratio(input_folder, output=data2, seed=1337, ratio=(.50, .50), group_prefix=None) \n",
        "\n",
        "######SECOND SPLIT######## train:val:test:  80/10/10\n",
        "\n",
        "input_folder=\"/content/drive/MyDrive/Colab Notebooks/BC_Tumor_Segmentation_data/data2/data3/\"\n",
        "output_folder=\"/content/drive/MyDrive/Colab Notebooks/BC_Tumor_Segmentation_data/data2/data5/\"\n",
        "splitfolders.ratio(input_folder, output=data2, seed=1337, ratio=(.80,.10,.10), group_prefix=None) \n",
        "\n",
        "#####data4-  folder is reserve###\n",
        "##################################################\n",
        "#####USING: FOLDER: DATA5 WITH TRAIN/VAL/TEST#####"
      ],
      "execution_count": null,
      "outputs": []
    },
    {
      "cell_type": "markdown",
      "metadata": {
        "id": "PVpaIkGyRxey"
      },
      "source": [
        "**BUILD A SIMPLE U-NET MODEL**"
      ]
    },
    {
      "cell_type": "code",
      "metadata": {
        "id": "gAC_t8MtOxbD"
      },
      "source": [
        "\n",
        "def simple_unet_model(IMG_HEIGHT, IMG_WIDTH, IMG_CHANNELS):   #For multiclass classification we add num_classes to the function argument'\n",
        "\n",
        "\n",
        "    inputs=tf.keras.layers.Input((IMG_WIDTH,IMG_HEIGHT,IMG_CHANNELS))\n",
        "\n",
        "    # convert each pixel of input image into a floating point value for input to the Convol layers using Lamdba function\n",
        "    #s=tf.keras.layers.Lambda(lambda x:x/255)(inputs)\n",
        "\n",
        "    #kernelinitializer to initialize the weight values- Truncated Normal distribution (Gaussian)-centered around 0. \n",
        "    #can use -orthogonal, truncated normal, various ways, idity. Wedight values are between 0-1.floating point values\n",
        "    #DropOut=10%\n",
        "\n",
        "    c1=tf.keras.layers.Conv2D(16,(3,3),activation='relu',kernel_initializer='he_normal',padding='same')(inputs)\n",
        "    c1=tf.keras.layers.Dropout(0.1)(c1)  \n",
        "    c1=tf.keras.layers.Conv2D(16,(3,3),activation='relu',kernel_initializer='he_normal',padding='same')(c1)\n",
        "    p1=tf.keras.layers.MaxPooling2D((2,2))(c1)\n",
        "\n",
        "    c2=tf.keras.layers.Conv2D(32,(3,3),activation='relu',kernel_initializer='he_normal',padding='same')(p1)\n",
        "    c2=tf.keras.layers.Dropout(0.1)(c2)  \n",
        "    c2=tf.keras.layers.Conv2D(32,(3,3),activation='relu',kernel_initializer='he_normal',padding='same')(c2)\n",
        "    p2=tf.keras.layers.MaxPooling2D((2,2))(c2)\n",
        "\n",
        "    c3=tf.keras.layers.Conv2D(64,(3,3),activation='relu',kernel_initializer='he_normal',padding='same')(p2)\n",
        "    c3=tf.keras.layers.Dropout(0.2)(c3)  \n",
        "    c3=tf.keras.layers.Conv2D(64,(3,3),activation='relu',kernel_initializer='he_normal',padding='same')(c3)\n",
        "    p3=tf.keras.layers.MaxPooling2D((2,2))(c3)\n",
        "\n",
        "    c4=tf.keras.layers.Conv2D(128,(3,3),activation='relu',kernel_initializer='he_normal',padding='same')(p3)\n",
        "    c4=tf.keras.layers.Dropout(0.2)(c4)  \n",
        "    c4=tf.keras.layers.Conv2D(128,(3,3),activation='relu',kernel_initializer='he_normal',padding='same')(c4)\n",
        "    p4=tf.keras.layers.MaxPooling2D((2,2))(c4)\n",
        "\n",
        "    c5=tf.keras.layers.Conv2D(256,(3,3),activation='relu',kernel_initializer='he_normal',padding='same')(p4)\n",
        "    c5=tf.keras.layers.Dropout(0.3)(c5)  \n",
        "    c5=tf.keras.layers.Conv2D(256,(3,3),activation='relu',kernel_initializer='he_normal',padding='same')(c5)\n",
        "    p5=tf.keras.layers.MaxPooling2D((2,2))(c5)\n",
        "\n",
        "    #EXPANSIVE PATH\n",
        "\n",
        "    u6=tf.keras.layers.Conv2DTranspose(128,(2,2),strides=(2,2),padding='same')(c5)  # conv2dTranspose are upscaling\n",
        "    u6=tf.keras.layers.concatenate([u6,c4])\n",
        "    c6=tf.keras.layers.Conv2D(128,(3,3),activation='relu',kernel_initializer='he_normal',padding='same')(u6)\n",
        "    c6=tf.keras.layers.Dropout(0.2)(c6)  \n",
        "    c6=tf.keras.layers.Conv2D(128,(3,3),activation='relu',kernel_initializer='he_normal',padding='same')(c6)\n",
        "\n",
        "    u7=tf.keras.layers.Conv2DTranspose(64,(2,2),strides=(2,2),padding='same')(c6)\n",
        "    u7=tf.keras.layers.concatenate([u7,c3])\n",
        "    c7=tf.keras.layers.Conv2D(64,(3,3),activation='relu',kernel_initializer='he_normal',padding='same')(u7)\n",
        "    c7=tf.keras.layers.Dropout(0.2)(c7)  \n",
        "    c7=tf.keras.layers.Conv2D(64,(3,3),activation='relu',kernel_initializer='he_normal',padding='same')(c7)\n",
        "\n",
        "    u8=tf.keras.layers.Conv2DTranspose(32,(2,2),strides=(2,2),padding='same')(c7)\n",
        "    u8=tf.keras.layers.concatenate([u8,c2])\n",
        "    c8=tf.keras.layers.Conv2D(32,(3,3),activation='relu',kernel_initializer='he_normal',padding='same')(u8)\n",
        "    c8=tf.keras.layers.Dropout(0.1)(c8)  \n",
        "    c8=tf.keras.layers.Conv2D(32,(3,3),activation='relu',kernel_initializer='he_normal',padding='same')(c8)\n",
        "\n",
        "    u9=tf.keras.layers.Conv2DTranspose(16,(2,2),strides=(2,2),padding='same')(c8)\n",
        "    u9=tf.keras.layers.concatenate([u9,c1], axis=3)\n",
        "    c9=tf.keras.layers.Conv2D(16,(3,3),activation='relu',kernel_initializer='he_normal',padding='same')(u9)\n",
        "    c9=tf.keras.layers.Dropout(0.1)(c9)  \n",
        "    c9=tf.keras.layers.Conv2D(16,(3,3),activation='relu',kernel_initializer='he_normal',padding='same')(c9)\n",
        "\n",
        "    output=tf.keras.layers.Conv2D(1,(1,1),activation='sigmoid')(c9)   # For multiclass classification we use 'softmax' and 'output= num_classes'\n",
        "\n",
        "    model=tf.keras.Model(inputs=[inputs],outputs=[output])\n",
        "   \n",
        "    return model\n",
        "\n"
      ],
      "execution_count": null,
      "outputs": []
    },
    {
      "cell_type": "markdown",
      "metadata": {
        "id": "WxcV6KussdSU"
      },
      "source": [
        "## **Data Augmentation using ImageDatagenerators**"
      ]
    },
    {
      "cell_type": "code",
      "metadata": {
        "colab": {
          "base_uri": "https://localhost:8080/",
          "height": 276
        },
        "id": "u9bOjea3Ou5D",
        "outputId": "921ff26f-39af-4220-db8f-9fff25ee82a9"
      },
      "source": [
        "\n",
        "seed=24\n",
        "batch_size= 8\n",
        "\n",
        "\n",
        "from tensorflow.keras.preprocessing.image import ImageDataGenerator\n",
        "\n",
        "img_data_gen_args = dict(rescale = 1/255.,\n",
        "                         rotation_range=90,\n",
        "                      zoom_range=0.3,\n",
        "                      horizontal_flip=True,\n",
        "                      vertical_flip=True)\n",
        "\n",
        "mask_data_gen_args = dict(rescale = 1/255.,  #Original pixel values are 0 and 255. So rescaling to 0 to 1\n",
        "                        rotation_range=90,\n",
        "                      zoom_range=0.3,\n",
        "                      horizontal_flip=True,\n",
        "                      vertical_flip=True) #Binarize the output again. \n",
        "\n",
        "# #Original pixel values are 0 and 255. So rescaling to 0 to 1,     rotation_range=90,shear_range=0.5,\n",
        "#If You need to resize images then add this to the flow_from_directory parameters \n",
        "#target_size=(150, 150), #Or whatever the size is for your network\n",
        "#rescale = 1/255.,width_shift_range=0.3,height_shift_range=0.3,\n",
        "\n",
        "image_data_generator = ImageDataGenerator(**img_data_gen_args)\n",
        "image_generator = image_data_generator.flow_from_directory(\"/content/drive/MyDrive/Colab Notebooks/BC_Tumor_Segmentation_data/data2/data5/train_images/\", \n",
        "                                                    seed=seed, batch_size=batch_size,target_size=(512,512),color_mode = 'grayscale',\n",
        "                                                           class_mode=None)  #Very important to set this otherwise it returns multiple numpy arrays \n",
        "                                                                            #thinking class mode is binary.\n",
        "\n",
        "mask_data_generator = ImageDataGenerator(**mask_data_gen_args)\n",
        "mask_generator = mask_data_generator.flow_from_directory(\"/content/drive/MyDrive/Colab Notebooks/BC_Tumor_Segmentation_data/data2/data5/train_masks/\", \n",
        "                                                         seed=seed,\n",
        "                                                         batch_size=batch_size,target_size=(512,512),\n",
        "                                                         color_mode = 'grayscale',   #Read masks in grayscale\n",
        "                                                         class_mode=None)\n",
        "\n",
        "\n",
        "valid_img_generator = image_data_generator.flow_from_directory(\"/content/drive/MyDrive/Colab Notebooks/BC_Tumor_Segmentation_data/data2/data5/val_images/\", \n",
        "                                                               seed=seed,\n",
        "                                                               batch_size=batch_size, target_size=(512,512),color_mode = 'grayscale',\n",
        "                                                               class_mode=None) #Default batch size 32, if not specified here\n",
        "\n",
        "valid_mask_generator = mask_data_generator.flow_from_directory(\"/content/drive/MyDrive/Colab Notebooks/BC_Tumor_Segmentation_data/data2/data5/val_masks/\", \n",
        "                                                               seed=seed,\n",
        "                                                               batch_size=batch_size, target_size=(512,512),\n",
        "                                                               color_mode ='grayscale',  #Read masks in grayscale\n",
        "                                                               class_mode=None)  #Default batch size 32, if not specified here\n",
        "\n",
        "\n",
        "train_generator = zip(image_generator, mask_generator)\n",
        "val_generator = zip(valid_img_generator, valid_mask_generator)\n",
        "\n",
        "\n",
        "# Sanity check to ensure the \"generated \"images and masks are aligned #\n",
        "\n",
        "\n",
        "x = image_generator.next()\n",
        "y = mask_generator.next()\n",
        "image = x[0]\n",
        "mask = y[0]\n",
        "plt.subplot(1,2,1)\n",
        "plt.imshow(image[:,:,0], cmap='gray')\n",
        "plt.subplot(1,2,2)\n",
        "plt.imshow(mask[:,:,0], cmap='gray')\n",
        "plt.show()\n"
      ],
      "execution_count": null,
      "outputs": [
        {
          "output_type": "stream",
          "text": [
            "Found 1208 images belonging to 2 classes.\n",
            "Found 1208 images belonging to 2 classes.\n",
            "Found 151 images belonging to 2 classes.\n",
            "Found 151 images belonging to 2 classes.\n"
          ],
          "name": "stdout"
        },
        {
          "output_type": "display_data",
          "data": {
            "image/png": "[encoded data removed]",
            "text/plain": [
              "<Figure size 432x288 with 2 Axes>"
            ]
          },
          "metadata": {
            "tags": []
          }
        }
      ]
    },
    {
      "cell_type": "markdown",
      "metadata": {
        "id": "EWEgAEZDtCU3"
      },
      "source": [
        "# **Compile and Train the Model using Data Augmentation**"
      ]
    },
    {
      "cell_type": "code",
      "metadata": {
        "colab": {
          "background_save": true,
          "base_uri": "https://localhost:8080/",
          "height": 1000
        },
        "id": "POBAxmJUx1eG",
        "outputId": "12af71da-0320-4fa8-f883-65f8f4576d5f"
      },
      "source": [
        "#### Training-- Model Compile, Fit ####\n",
        "\n",
        "IMG_HEIGHT =  x.shape[1]\n",
        "print(IMG_HEIGHT)\n",
        "IMG_WIDTH  =  x.shape[2]\n",
        "print(IMG_WIDTH)\n",
        "IMG_CHANNELS= x.shape[3]\n",
        "print(IMG_CHANNELS)\n",
        "\n",
        "model = simple_unet_model(IMG_HEIGHT, IMG_WIDTH, IMG_CHANNELS)\n",
        "\n",
        "X_train = image_generator.next()\n",
        "y_train = mask_generator.next()\n",
        "X_val = valid_img_generator.next()\n",
        "y_val = valid_mask_generator.next()\n",
        "\n",
        "\n",
        "train_image = X_train[0]\n",
        "train_mask = y_train[0]\n",
        "plt.subplot(1,2,1)\n",
        "plt.title(\"Train_Img\")\n",
        "plt.imshow(train_image[:,:,0], cmap='gray')\n",
        "plt.subplot(1,2,2)\n",
        "plt.title(\"Train_Mask\")\n",
        "plt.imshow(train_mask[:,:,0], cmap='gray')\n",
        "plt.show()\n",
        "\n",
        "val_image = X_val[0]\n",
        "val_mask = y_val[0]\n",
        "plt.subplot(1,2,1)\n",
        "plt.title(\"Val_Img\")\n",
        "plt.imshow(val_image[:,:,0], cmap='gray')\n",
        "plt.subplot(1,2,2)\n",
        "plt.title(\"Val_Mask\")\n",
        "plt.imshow(val_mask[:,:,0], cmap='gray')\n",
        "plt.show()\n",
        "\n",
        "\n",
        "\n",
        "#Experiment with various loss functions and accuracy metrics\n",
        "\n",
        "#Jaccard distance loss mimics IoU. \n",
        "\n",
        "def jaccard_distance_loss(y_true, y_pred, smooth=100):\n",
        "    \"\"\"\n",
        "    Jaccard = (|X & Y|)/ (|X|+ |Y| - |X & Y|)\n",
        "            = sum(|A*B|)/(sum(|A|)+sum(|B|)-sum(|A*B|))\n",
        "    \n",
        "    The jaccard distance loss is usefull for unbalanced datasets. This has been\n",
        "    shifted so it converges on 0 and is smoothed to avoid exploding or disapearing\n",
        "    gradient.\n",
        "    \n",
        "    Ref: https://en.wikipedia.org/wiki/Jaccard_index\n",
        "    \n",
        "    @url: https://gist.github.com/wassname/f1452b748efcbeb4cb9b1d059dce6f96\n",
        "    @author: wassname\n",
        "    \"\"\"\n",
        "    intersection = K.sum(K.sum(K.abs(y_true * y_pred), axis=-1))\n",
        "    sum_ = K.sum(K.sum(K.abs(y_true) + K.abs(y_pred), axis=-1))\n",
        "    jac = (intersection + smooth) / (sum_ - intersection + smooth)\n",
        "    return (1 - jac) * smooth\n",
        "\n",
        "#Dice metric can be a great metric to track accuracy of semantic segmentation.\n",
        "def dice_metric(y_pred, y_true):\n",
        "    intersection = K.sum(K.sum(K.abs(y_true * y_pred), axis=-1))\n",
        "    union = K.sum(K.sum(K.abs(y_true) + K.abs(y_pred), axis=-1))\n",
        "    # if y_pred.sum() == 0 and y_pred.sum() == 0:\n",
        "    #     return 1.0\n",
        "\n",
        "    return 2*intersection / union\n",
        "\n",
        "###Compile Options####\n",
        "\n",
        "#STANDARD BINARY CROSS ENTROPY AS LOSS AND ACCURACY AS METRIC\n",
        "#model.compile(optimizer=Adam(learning_rate = 1e-3), loss='binary_crossentropy', metrics=['accuracy'])\n",
        "\n",
        "#JACCARD LOSS AND DICE METRIC \n",
        "#model.compile(optimizer=Adam(learning_rate=1e-3), loss=jaccard_distance_loss, metrics=[dice_metric])\n",
        "\n",
        "#FOCAL LOSS AND DICE METRIC\n",
        "#Focal loss helps focus more on tough to segment classes.\n",
        "\n",
        "!pip install focal-loss \n",
        "from focal_loss import BinaryFocalLoss\n",
        "import tensorflow.python.keras.backend as K\n",
        "\n",
        "model.compile(optimizer=Adam(learning_rate= 1e-3), loss=BinaryFocalLoss(gamma=2), metrics=[dice_metric])\n",
        "\n",
        "\n",
        "model.summary()\n",
        "\n",
        "#######  TRAIN ##################\n",
        "\n",
        "batch_size=8\n",
        "num_train_imgs = len(os.listdir('/content/drive/MyDrive/Colab Notebooks/BC_Tumor_Segmentation_data/data2/data5/train_images/train'))\n",
        "print(num_train_imgs)\n",
        "num_val_imgs=len(os.listdir('/content/drive/MyDrive/Colab Notebooks/BC_Tumor_Segmentation_data/data2/data5/val_images/val'))\n",
        "print(num_val_imgs)\n",
        "steps_per_epoch = num_train_imgs //batch_size\n",
        "print(steps_per_epoch)\n",
        "\n",
        "\n",
        "#Modelcheckpoint\n",
        "checkpointer = tf.keras.callbacks.ModelCheckpoint(\"BC_Seg_Unet_DataAug_focal_10ep.hdf5\", verbose=1, save_best_only=True)\n",
        "\n",
        "callbacks = [\n",
        "        tf.keras.callbacks.EarlyStopping(patience=20, monitor='val_loss'),\n",
        "        tf.keras.callbacks.TensorBoard(log_dir='logs')]\n",
        "\n",
        "\n",
        "\n",
        "history=model.fit(train_generator, validation_data=val_generator,batch_size =batch_size,verbose=1,steps_per_epoch=steps_per_epoch, validation_steps=steps_per_epoch, epochs=25, shuffle=False, callbacks=callbacks)\n",
        "\n",
        "# history = model.fit(, validation_data=val_generator, \n",
        "#                     steps_per_epoch=steps_per_epoch, \n",
        "#                     validation_steps=steps_per_epoch, epochs=50, callbacks=callbacks)\n",
        "\n",
        "\n",
        "model.save('BC_Seg_Unet_DataAug_focal_25ep.hdf5')\n",
        "\n",
        "\n",
        "#plot the training and validation accuracy and loss at each epoch\n",
        "loss = history.history['loss']\n",
        "val_loss = history.history['val_loss']\n",
        "epochs = range(1, len(loss) + 1)\n",
        "plt.plot(epochs, loss, 'y', label='Training loss')\n",
        "#plt.plot(epochs, val_loss, 'r', label='Validation loss')\n",
        "plt.title('FOCAL loss')\n",
        "plt.xlabel('Epochs')\n",
        "plt.ylabel('Loss')\n",
        "plt.legend()\n",
        "plt.show()\n",
        "\n",
        "acc = history.history['dice_metric']\n",
        "#acc = history.history['accuracy']\n",
        "val_acc = history.history['val_dice_metric']\n",
        "#val_acc = history.history['val_accuracy']\n",
        "\n",
        "plt.plot(epochs, acc, 'y', label='Training Dice')\n",
        "plt.plot(epochs, val_acc, 'r', label='Validation Dice')\n",
        "plt.title('Training and validation Dice')\n",
        "plt.xlabel('Epochs')\n",
        "plt.ylabel('Dice')\n",
        "plt.legend()\n",
        "plt.show()\n",
        "\n",
        "\n",
        "for batch in datagen.flow(x, batch_size=1, seed=1337):\n",
        "      # batch...\n"
      ],
      "execution_count": null,
      "outputs": [
        {
          "output_type": "stream",
          "text": [
            "512\n",
            "512\n",
            "1\n"
          ],
          "name": "stdout"
        },
        {
          "output_type": "display_data",
          "data": {
            "image/png": "[encoded data removed]",
            "text/plain": [
              "<Figure size 432x288 with 2 Axes>"
            ]
          },
          "metadata": {
            "tags": []
          }
        },
        {
          "output_type": "display_data",
          "data": {
            "image/png": "[encoded data removed]",
            "text/plain": [
              "<Figure size 432x288 with 2 Axes>"
            ]
          },
          "metadata": {
            "tags": []
          }
        },
        {
          "output_type": "stream",
          "text": [
            "Requirement already satisfied: focal-loss in /usr/local/lib/python3.7/dist-packages (0.0.7)\n",
            "Requirement already satisfied: tensorflow>=2.2 in /usr/local/lib/python3.7/dist-packages (from focal-loss) (2.4.0)\n",
            "Requirement already satisfied: keras-preprocessing~=1.1.2 in /usr/local/lib/python3.7/dist-packages (from tensorflow>=2.2->focal-loss) (1.1.2)\n",
            "Requirement already satisfied: tensorflow-estimator<2.5.0,>=2.4.0rc0 in /usr/local/lib/python3.7/dist-packages (from tensorflow>=2.2->focal-loss) (2.4.0)\n",
            "Requirement already satisfied: tensorboard~=2.4 in /usr/local/lib/python3.7/dist-packages (from tensorflow>=2.2->focal-loss) (2.5.0)\n",
            "Requirement already satisfied: opt-einsum~=3.3.0 in /usr/local/lib/python3.7/dist-packages (from tensorflow>=2.2->focal-loss) (3.3.0)\n",
            "Requirement already satisfied: h5py~=2.10.0 in /usr/local/lib/python3.7/dist-packages (from tensorflow>=2.2->focal-loss) (2.10.0)\n",
            "Requirement already satisfied: protobuf>=3.9.2 in /usr/local/lib/python3.7/dist-packages (from tensorflow>=2.2->focal-loss) (3.12.4)\n",
            "Requirement already satisfied: grpcio~=1.32.0 in /usr/local/lib/python3.7/dist-packages (from tensorflow>=2.2->focal-loss) (1.32.0)\n",
            "Requirement already satisfied: google-pasta~=0.2 in /usr/local/lib/python3.7/dist-packages (from tensorflow>=2.2->focal-loss) (0.2.0)\n",
            "Requirement already satisfied: wrapt~=1.12.1 in /usr/local/lib/python3.7/dist-packages (from tensorflow>=2.2->focal-loss) (1.12.1)\n",
            "Requirement already satisfied: wheel~=0.35 in /usr/local/lib/python3.7/dist-packages (from tensorflow>=2.2->focal-loss) (0.36.2)\n",
            "Requirement already satisfied: absl-py~=0.10 in /usr/local/lib/python3.7/dist-packages (from tensorflow>=2.2->focal-loss) (0.12.0)\n",
            "Requirement already satisfied: numpy~=1.19.2 in /usr/local/lib/python3.7/dist-packages (from tensorflow>=2.2->focal-loss) (1.19.5)\n",
            "Requirement already satisfied: termcolor~=1.1.0 in /usr/local/lib/python3.7/dist-packages (from tensorflow>=2.2->focal-loss) (1.1.0)\n",
            "Requirement already satisfied: typing-extensions~=3.7.4 in /usr/local/lib/python3.7/dist-packages (from tensorflow>=2.2->focal-loss) (3.7.4.3)\n",
            "Requirement already satisfied: six~=1.15.0 in /usr/local/lib/python3.7/dist-packages (from tensorflow>=2.2->focal-loss) (1.15.0)\n",
            "Requirement already satisfied: flatbuffers~=1.12.0 in /usr/local/lib/python3.7/dist-packages (from tensorflow>=2.2->focal-loss) (1.12)\n",
            "Requirement already satisfied: gast==0.3.3 in /usr/local/lib/python3.7/dist-packages (from tensorflow>=2.2->focal-loss) (0.3.3)\n",
            "Requirement already satisfied: astunparse~=1.6.3 in /usr/local/lib/python3.7/dist-packages (from tensorflow>=2.2->focal-loss) (1.6.3)\n",
            "Requirement already satisfied: google-auth<2,>=1.6.3 in /usr/local/lib/python3.7/dist-packages (from tensorboard~=2.4->tensorflow>=2.2->focal-loss) (1.31.0)\n",
            "Requirement already satisfied: markdown>=2.6.8 in /usr/local/lib/python3.7/dist-packages (from tensorboard~=2.4->tensorflow>=2.2->focal-loss) (3.3.4)\n",
            "Requirement already satisfied: google-auth-oauthlib<0.5,>=0.4.1 in /usr/local/lib/python3.7/dist-packages (from tensorboard~=2.4->tensorflow>=2.2->focal-loss) (0.4.4)\n",
            "Requirement already satisfied: tensorboard-data-server<0.7.0,>=0.6.0 in /usr/local/lib/python3.7/dist-packages (from tensorboard~=2.4->tensorflow>=2.2->focal-loss) (0.6.1)\n",
            "Requirement already satisfied: werkzeug>=0.11.15 in /usr/local/lib/python3.7/dist-packages (from tensorboard~=2.4->tensorflow>=2.2->focal-loss) (1.0.1)\n",
            "Requirement already satisfied: setuptools>=41.0.0 in /usr/local/lib/python3.7/dist-packages (from tensorboard~=2.4->tensorflow>=2.2->focal-loss) (57.0.0)\n",
            "Requirement already satisfied: requests<3,>=2.21.0 in /usr/local/lib/python3.7/dist-packages (from tensorboard~=2.4->tensorflow>=2.2->focal-loss) (2.23.0)\n",
            "Requirement already satisfied: tensorboard-plugin-wit>=1.6.0 in /usr/local/lib/python3.7/dist-packages (from tensorboard~=2.4->tensorflow>=2.2->focal-loss) (1.8.0)\n",
            "Requirement already satisfied: pyasn1-modules>=0.2.1 in /usr/local/lib/python3.7/dist-packages (from google-auth<2,>=1.6.3->tensorboard~=2.4->tensorflow>=2.2->focal-loss) (0.2.8)\n",
            "Requirement already satisfied: rsa<5,>=3.1.4; python_version >= \"3.6\" in /usr/local/lib/python3.7/dist-packages (from google-auth<2,>=1.6.3->tensorboard~=2.4->tensorflow>=2.2->focal-loss) (4.7.2)\n",
            "Requirement already satisfied: cachetools<5.0,>=2.0.0 in /usr/local/lib/python3.7/dist-packages (from google-auth<2,>=1.6.3->tensorboard~=2.4->tensorflow>=2.2->focal-loss) (4.2.2)\n",
            "Requirement already satisfied: importlib-metadata; python_version < \"3.8\" in /usr/local/lib/python3.7/dist-packages (from markdown>=2.6.8->tensorboard~=2.4->tensorflow>=2.2->focal-loss) (4.5.0)\n",
            "Requirement already satisfied: requests-oauthlib>=0.7.0 in /usr/local/lib/python3.7/dist-packages (from google-auth-oauthlib<0.5,>=0.4.1->tensorboard~=2.4->tensorflow>=2.2->focal-loss) (1.3.0)\n",
            "Requirement already satisfied: chardet<4,>=3.0.2 in /usr/local/lib/python3.7/dist-packages (from requests<3,>=2.21.0->tensorboard~=2.4->tensorflow>=2.2->focal-loss) (3.0.4)\n",
            "Requirement already satisfied: certifi>=2017.4.17 in /usr/local/lib/python3.7/dist-packages (from requests<3,>=2.21.0->tensorboard~=2.4->tensorflow>=2.2->focal-loss) (2021.5.30)\n",
            "Requirement already satisfied: urllib3!=1.25.0,!=1.25.1,<1.26,>=1.21.1 in /usr/local/lib/python3.7/dist-packages (from requests<3,>=2.21.0->tensorboard~=2.4->tensorflow>=2.2->focal-loss) (1.24.3)\n",
            "Requirement already satisfied: idna<3,>=2.5 in /usr/local/lib/python3.7/dist-packages (from requests<3,>=2.21.0->tensorboard~=2.4->tensorflow>=2.2->focal-loss) (2.10)\n",
            "Requirement already satisfied: pyasn1<0.5.0,>=0.4.6 in /usr/local/lib/python3.7/dist-packages (from pyasn1-modules>=0.2.1->google-auth<2,>=1.6.3->tensorboard~=2.4->tensorflow>=2.2->focal-loss) (0.4.8)\n",
            "Requirement already satisfied: zipp>=0.5 in /usr/local/lib/python3.7/dist-packages (from importlib-metadata; python_version < \"3.8\"->markdown>=2.6.8->tensorboard~=2.4->tensorflow>=2.2->focal-loss) (3.4.1)\n",
            "Requirement already satisfied: oauthlib>=3.0.0 in /usr/local/lib/python3.7/dist-packages (from requests-oauthlib>=0.7.0->google-auth-oauthlib<0.5,>=0.4.1->tensorboard~=2.4->tensorflow>=2.2->focal-loss) (3.1.1)\n",
            "Model: \"model_9\"\n",
            "__________________________________________________________________________________________________\n",
            "Layer (type)                    Output Shape         Param #     Connected to                     \n",
            "==================================================================================================\n",
            "input_10 (InputLayer)           [(None, 512, 512, 1) 0                                            \n",
            "__________________________________________________________________________________________________\n",
            "conv2d_171 (Conv2D)             (None, 512, 512, 16) 160         input_10[0][0]                   \n",
            "__________________________________________________________________________________________________\n",
            "dropout_81 (Dropout)            (None, 512, 512, 16) 0           conv2d_171[0][0]                 \n",
            "__________________________________________________________________________________________________\n",
            "conv2d_172 (Conv2D)             (None, 512, 512, 16) 2320        dropout_81[0][0]                 \n",
            "__________________________________________________________________________________________________\n",
            "max_pooling2d_45 (MaxPooling2D) (None, 256, 256, 16) 0           conv2d_172[0][0]                 \n",
            "__________________________________________________________________________________________________\n",
            "conv2d_173 (Conv2D)             (None, 256, 256, 32) 4640        max_pooling2d_45[0][0]           \n",
            "__________________________________________________________________________________________________\n",
            "dropout_82 (Dropout)            (None, 256, 256, 32) 0           conv2d_173[0][0]                 \n",
            "__________________________________________________________________________________________________\n",
            "conv2d_174 (Conv2D)             (None, 256, 256, 32) 9248        dropout_82[0][0]                 \n",
            "__________________________________________________________________________________________________\n",
            "max_pooling2d_46 (MaxPooling2D) (None, 128, 128, 32) 0           conv2d_174[0][0]                 \n",
            "__________________________________________________________________________________________________\n",
            "conv2d_175 (Conv2D)             (None, 128, 128, 64) 18496       max_pooling2d_46[0][0]           \n",
            "__________________________________________________________________________________________________\n",
            "dropout_83 (Dropout)            (None, 128, 128, 64) 0           conv2d_175[0][0]                 \n",
            "__________________________________________________________________________________________________\n",
            "conv2d_176 (Conv2D)             (None, 128, 128, 64) 36928       dropout_83[0][0]                 \n",
            "__________________________________________________________________________________________________\n",
            "max_pooling2d_47 (MaxPooling2D) (None, 64, 64, 64)   0           conv2d_176[0][0]                 \n",
            "__________________________________________________________________________________________________\n",
            "conv2d_177 (Conv2D)             (None, 64, 64, 128)  73856       max_pooling2d_47[0][0]           \n",
            "__________________________________________________________________________________________________\n",
            "dropout_84 (Dropout)            (None, 64, 64, 128)  0           conv2d_177[0][0]                 \n",
            "__________________________________________________________________________________________________\n",
            "conv2d_178 (Conv2D)             (None, 64, 64, 128)  147584      dropout_84[0][0]                 \n",
            "__________________________________________________________________________________________________\n",
            "max_pooling2d_48 (MaxPooling2D) (None, 32, 32, 128)  0           conv2d_178[0][0]                 \n",
            "__________________________________________________________________________________________________\n",
            "conv2d_179 (Conv2D)             (None, 32, 32, 256)  295168      max_pooling2d_48[0][0]           \n",
            "__________________________________________________________________________________________________\n",
            "dropout_85 (Dropout)            (None, 32, 32, 256)  0           conv2d_179[0][0]                 \n",
            "__________________________________________________________________________________________________\n",
            "conv2d_180 (Conv2D)             (None, 32, 32, 256)  590080      dropout_85[0][0]                 \n",
            "__________________________________________________________________________________________________\n",
            "conv2d_transpose_36 (Conv2DTran (None, 64, 64, 128)  131200      conv2d_180[0][0]                 \n",
            "__________________________________________________________________________________________________\n",
            "concatenate_36 (Concatenate)    (None, 64, 64, 256)  0           conv2d_transpose_36[0][0]        \n",
            "                                                                 conv2d_178[0][0]                 \n",
            "__________________________________________________________________________________________________\n",
            "conv2d_181 (Conv2D)             (None, 64, 64, 128)  295040      concatenate_36[0][0]             \n",
            "__________________________________________________________________________________________________\n",
            "dropout_86 (Dropout)            (None, 64, 64, 128)  0           conv2d_181[0][0]                 \n",
            "__________________________________________________________________________________________________\n",
            "conv2d_182 (Conv2D)             (None, 64, 64, 128)  147584      dropout_86[0][0]                 \n",
            "__________________________________________________________________________________________________\n",
            "conv2d_transpose_37 (Conv2DTran (None, 128, 128, 64) 32832       conv2d_182[0][0]                 \n",
            "__________________________________________________________________________________________________\n",
            "concatenate_37 (Concatenate)    (None, 128, 128, 128 0           conv2d_transpose_37[0][0]        \n",
            "                                                                 conv2d_176[0][0]                 \n",
            "__________________________________________________________________________________________________\n",
            "conv2d_183 (Conv2D)             (None, 128, 128, 64) 73792       concatenate_37[0][0]             \n",
            "__________________________________________________________________________________________________\n",
            "dropout_87 (Dropout)            (None, 128, 128, 64) 0           conv2d_183[0][0]                 \n",
            "__________________________________________________________________________________________________\n",
            "conv2d_184 (Conv2D)             (None, 128, 128, 64) 36928       dropout_87[0][0]                 \n",
            "__________________________________________________________________________________________________\n",
            "conv2d_transpose_38 (Conv2DTran (None, 256, 256, 32) 8224        conv2d_184[0][0]                 \n",
            "__________________________________________________________________________________________________\n",
            "concatenate_38 (Concatenate)    (None, 256, 256, 64) 0           conv2d_transpose_38[0][0]        \n",
            "                                                                 conv2d_174[0][0]                 \n",
            "__________________________________________________________________________________________________\n",
            "conv2d_185 (Conv2D)             (None, 256, 256, 32) 18464       concatenate_38[0][0]             \n",
            "__________________________________________________________________________________________________\n",
            "dropout_88 (Dropout)            (None, 256, 256, 32) 0           conv2d_185[0][0]                 \n",
            "__________________________________________________________________________________________________\n",
            "conv2d_186 (Conv2D)             (None, 256, 256, 32) 9248        dropout_88[0][0]                 \n",
            "__________________________________________________________________________________________________\n",
            "conv2d_transpose_39 (Conv2DTran (None, 512, 512, 16) 2064        conv2d_186[0][0]                 \n",
            "__________________________________________________________________________________________________\n",
            "concatenate_39 (Concatenate)    (None, 512, 512, 32) 0           conv2d_transpose_39[0][0]        \n",
            "                                                                 conv2d_172[0][0]                 \n",
            "__________________________________________________________________________________________________\n",
            "conv2d_187 (Conv2D)             (None, 512, 512, 16) 4624        concatenate_39[0][0]             \n",
            "__________________________________________________________________________________________________\n",
            "dropout_89 (Dropout)            (None, 512, 512, 16) 0           conv2d_187[0][0]                 \n",
            "__________________________________________________________________________________________________\n",
            "conv2d_188 (Conv2D)             (None, 512, 512, 16) 2320        dropout_89[0][0]                 \n",
            "__________________________________________________________________________________________________\n",
            "conv2d_189 (Conv2D)             (None, 512, 512, 1)  17          conv2d_188[0][0]                 \n",
            "==================================================================================================\n",
            "Total params: 1,940,817\n",
            "Trainable params: 1,940,817\n",
            "Non-trainable params: 0\n",
            "__________________________________________________________________________________________________\n",
            "1208\n",
            "151\n",
            "151\n",
            "Epoch 1/25\n",
            "151/151 [==============================] - 769s 5s/step - loss: 0.0207 - dice_metric: 0.0475 - val_loss: 2.6244e-04 - val_dice_metric: 0.0487\n",
            "Epoch 2/25\n",
            "151/151 [==============================] - 717s 5s/step - loss: 2.5768e-04 - dice_metric: 0.0479 - val_loss: 2.6495e-04 - val_dice_metric: 0.0489\n",
            "Epoch 3/25\n",
            "151/151 [==============================] - 722s 5s/step - loss: 3.1810e-04 - dice_metric: 0.0493 - val_loss: 2.2581e-04 - val_dice_metric: 0.0478\n",
            "Epoch 4/25\n",
            "151/151 [==============================] - 712s 5s/step - loss: 1.7675e-04 - dice_metric: 0.0468 - val_loss: 1.8825e-04 - val_dice_metric: 0.0479\n",
            "Epoch 5/25\n",
            "151/151 [==============================] - 708s 5s/step - loss: 2.4769e-04 - dice_metric: 0.0473 - val_loss: 3.3341e-04 - val_dice_metric: 0.0476\n",
            "Epoch 6/25\n",
            "151/151 [==============================] - 711s 5s/step - loss: 2.0228e-04 - dice_metric: 0.0454 - val_loss: 2.5496e-04 - val_dice_metric: 0.0479\n",
            "Epoch 7/25\n",
            "151/151 [==============================] - 745s 5s/step - loss: 2.1859e-04 - dice_metric: 0.0466 - val_loss: 3.0497e-04 - val_dice_metric: 0.0481\n",
            "Epoch 8/25\n",
            "151/151 [==============================] - 756s 5s/step - loss: 2.2901e-04 - dice_metric: 0.0473 - val_loss: 2.6439e-04 - val_dice_metric: 0.0474\n",
            "Epoch 9/25\n",
            "151/151 [==============================] - 757s 5s/step - loss: 2.0741e-04 - dice_metric: 0.0457 - val_loss: 2.3457e-04 - val_dice_metric: 0.0479\n",
            "Epoch 10/25\n",
            "151/151 [==============================] - 761s 5s/step - loss: 1.7899e-04 - dice_metric: 0.0452 - val_loss: 2.6101e-04 - val_dice_metric: 0.0489\n",
            "Epoch 11/25\n",
            "151/151 [==============================] - 771s 5s/step - loss: 1.9661e-04 - dice_metric: 0.0460 - val_loss: 2.4220e-04 - val_dice_metric: 0.0480\n",
            "Epoch 12/25\n",
            "151/151 [==============================] - 769s 5s/step - loss: 2.2193e-04 - dice_metric: 0.0468 - val_loss: 2.6311e-04 - val_dice_metric: 0.0483\n",
            "Epoch 13/25\n",
            " 22/151 [===>..........................] - ETA: 9:35 - loss: 2.9247e-04 - dice_metric: 0.0543"
          ],
          "name": "stdout"
        }
      ]
    },
    {
      "cell_type": "markdown",
      "metadata": {
        "id": "AwTqrkaVPuAb"
      },
      "source": [
        "## **Model Testing and Evaluation -IOU, Dice etc**"
      ]
    },
    {
      "cell_type": "code",
      "metadata": {
        "colab": {
          "base_uri": "https://localhost:8080/",
          "height": 952
        },
        "id": "Oc5Jr1n-PsW4",
        "outputId": "4ce57498-818b-4c5e-ec19-0664f2522435"
      },
      "source": [
        "############# Model Testing and Evaluation########\n",
        "\n",
        "#Test the model on images we held out for testing.\n",
        "#We can use the generator again for predictions. This is only using augmentaton to load images from the drive, perfomr augmentation and predict. \n",
        "\n",
        "seed=24\n",
        "\n",
        "from tensorflow.keras.preprocessing.image import ImageDataGenerator\n",
        "\n",
        "model = tf.keras.models.load_model(\"/content/drive/MyDrive/Colab Notebooks/BC_Tumor_Segmentation_data/UNet_ImgGen_Data5_focal_dice_chkpoint_btsz8_2_epochs.hdf5\", compile=False)\n",
        "\n",
        "test_img_generator = image_data_generator.flow_from_directory(\"/content/drive/MyDrive/Colab Notebooks/BC_Tumor_Segmentation_data/data2/data5/test_images/\", \n",
        "                                                              seed=seed,target_size=(512, 512), \n",
        "                                                              batch_size=32, color_mode = 'grayscale',\n",
        "                                                              class_mode=None) #Default batch size 32, if not specified here\n",
        "\n",
        "test_mask_generator = mask_data_generator.flow_from_directory(\"/content/drive/MyDrive/Colab Notebooks/BC_Tumor_Segmentation_data/data2/data5/test_masks/\", \n",
        "                                                              seed=seed, target_size=(512, 512),\n",
        "                                                              batch_size=32, \n",
        "                                                              color_mode = 'grayscale',   #Read masks in grayscale\n",
        "                                                              class_mode=None)  #Default batch size 32, if not specified here\n",
        "\n",
        "### Testing on a few test images\n",
        "\n",
        "a = test_img_generator.next()\n",
        "b = test_mask_generator.next()\n",
        "for i in range(0,5):\n",
        "    image = a[i]\n",
        "    mask = b[i]\n",
        "    plt.subplot(1,2,1)\n",
        "    plt.imshow(image[:,:,0], cmap='gray')\n",
        "    plt.subplot(1,2,2)\n",
        "    plt.imshow(mask[:,:,0], cmap='gray')\n",
        "    plt.show()\n",
        "\n",
        "import random\n",
        "test_img_number = random.randint(0, a.shape[0]-1)\n",
        "test_img = a[test_img_number]\n",
        "ground_truth=b[test_img_number]\n",
        "#test_img_norm=test_img[:,:,0][:,:,None]\n",
        "test_img_input=np.expand_dims(test_img, 0)\n",
        "prediction = (model.predict(test_img_input)[0,:,:,0] > 0.6).astype(np.uint8)  # Predict\n",
        "\n",
        "plt.figure(figsize=(16, 8))\n",
        "plt.subplot(231)\n",
        "plt.title('Testing Image')\n",
        "plt.imshow(np.squeeze(test_img))   # reduces the dimension for display to 2D\n",
        "plt.subplot(232)\n",
        "plt.title('Testing Label')\n",
        "plt.imshow(ground_truth[:,:,0], cmap='gray')\n",
        "plt.subplot(233)\n",
        "plt.title('Prediction on test image')\n",
        "plt.imshow(prediction, cmap='gray')\n",
        "\n",
        "plt.show()\n",
        "\n",
        "\n",
        "#IoU for a single image\n",
        "from tensorflow.keras.metrics import MeanIoU\n",
        "n_classes = 2\n",
        "IOU_keras = MeanIoU(num_classes=n_classes)  \n",
        "IOU_keras.update_state(ground_truth[:,:,0], prediction)\n",
        "print(\"Mean IoU =\", IOU_keras.result().numpy())\n",
        "\n",
        "\n",
        "#Calculate IoU and average\n",
        " \n",
        "import pandas as pd\n",
        "\n",
        "IoU_values = []\n",
        "for img in range(0, a.shape[0]):\n",
        "    temp_img = a[img]\n",
        "    ground_truth=b[img]\n",
        "    temp_img_input=np.expand_dims(temp_img, 0)\n",
        "    prediction = (model.predict(temp_img_input)[0,:,:,0] > 0.5).astype(np.uint8)\n",
        "    \n",
        "    IoU = MeanIoU(num_classes=n_classes)\n",
        "    IoU.update_state(ground_truth[:,:,0], prediction)\n",
        "    IoU = IoU.result().numpy()\n",
        "    IoU_values.append(IoU)\n",
        "    print(IoU)\n",
        "    \n",
        "\n",
        "\n",
        "df = pd.DataFrame(IoU_values, columns=[\"IoU\"])\n",
        "df = df[df.IoU != 1.0]    \n",
        "mean_IoU = df.mean().values\n",
        "print(\"Mean IoU is: \", mean_IoU)    "
      ],
      "execution_count": null,
      "outputs": [
        {
          "output_type": "display_data",
          "data": {
            "image/png": "[encoded data removed]",
            "text/plain": [
              "<Figure size 432x288 with 2 Axes>"
            ]
          },
          "metadata": {
            "tags": []
          }
        },
        {
          "output_type": "display_data",
          "data": {
            "image/png": "[encoded data removed]",
            "text/plain": [
              "<Figure size 432x288 with 2 Axes>"
            ]
          },
          "metadata": {
            "tags": []
          }
        },
        {
          "output_type": "display_data",
          "data": {
            "image/png": "[encoded data removed]",
            "text/plain": [
              "<Figure size 432x288 with 2 Axes>"
            ]
          },
          "metadata": {
            "tags": []
          }
        },
        {
          "output_type": "display_data",
          "data": {
            "image/png": "[encoded data removed]",
            "text/plain": [
              "<Figure size 432x288 with 2 Axes>"
            ]
          },
          "metadata": {
            "tags": []
          }
        },
        {
          "output_type": "display_data",
          "data": {
            "image/png": "[encoded data removed]",
            "text/plain": [
              "<Figure size 432x288 with 2 Axes>"
            ]
          },
          "metadata": {
            "tags": []
          }
        }
      ]
    },
    {
      "cell_type": "markdown",
      "metadata": {
        "id": "fLFJ3VHatWkI"
      },
      "source": [
        "# **Model Predict**"
      ]
    },
    {
      "cell_type": "code",
      "metadata": {
        "id": "N2TTwBMyFea_"
      },
      "source": [
        "###prediction code###  ref https://github.com/unbox-research/transfer-learning-blog/blob/master/image_demo.py\n",
        "\n",
        "guacomole = read_file('guac.jpg')\n",
        "plt.imshow(guacomole.reshape(224,224,3))\n",
        "plt.show()\n",
        "\n",
        "preds = InceptionV3().predict(guacomole)\n",
        "print(preds)\n",
        "print(preds.max())\n",
        "print(preds.argmax(-1))  # Indeed, it got this right!\n",
        "# https://gist.github.com/yrevar/942d3a0ac09ec9e5eb3a  # Image net class labels."
      ],
      "execution_count": null,
      "outputs": []
    },
    {
      "cell_type": "markdown",
      "metadata": {
        "id": "x99uAIvCtcGy"
      },
      "source": [
        "# **Classification of the lesion**"
      ]
    },
    {
      "cell_type": "code",
      "metadata": {
        "id": "xFMjymy8thnp"
      },
      "source": [
        "#### Pending ###"
      ],
      "execution_count": null,
      "outputs": []
    },
    {
      "cell_type": "markdown",
      "metadata": {
        "id": "eQBULbwfuXi-"
      },
      "source": [
        "# Model Enhancement using Transfer Learning and Pretrained VGG16 backbone"
      ]
    },
    {
      "cell_type": "code",
      "metadata": {
        "id": "ndd4HGeiuhNA"
      },
      "source": [
        "## Pending##"
      ],
      "execution_count": null,
      "outputs": []
    }
  ]
}